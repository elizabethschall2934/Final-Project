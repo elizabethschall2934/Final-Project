{
 "cells": [
  {
   "cell_type": "code",
   "execution_count": 1,
   "id": "plastic-chosen",
   "metadata": {},
   "outputs": [],
   "source": [
    "import pandas as pd\n",
    "import os\n",
    "import csv"
   ]
  },
  {
   "cell_type": "code",
   "execution_count": 2,
   "id": "transsexual-breed",
   "metadata": {},
   "outputs": [],
   "source": [
    "adopted_cats_load = \"adopted_cats_clean.csv\"\n",
    "adopted_dogs_load = \"adopted_dogs_clean.csv\"\n",
    "adopted_birds_load = \"adopted_birds_clean.csv\"\n",
    "adopted_livestock_load = \"adopted_livestock_clean.csv\"\n",
    "adopted_other_load = \"adopted_other_clean.csv\"\n",
    "\n",
    "adopted_cats = pd.read_csv(adopted_cats_load)\n",
    "adopted_dogs = pd.read_csv(adopted_dogs_load)\n",
    "adopted_birds = pd.read_csv(adopted_birds_load)\n",
    "adopted_livestock = pd.read_csv(adopted_livestock_load)\n",
    "adopted_other = pd.read_csv(adopted_other_load)"
   ]
  },
  {
   "cell_type": "code",
   "execution_count": 3,
   "id": "simple-location",
   "metadata": {},
   "outputs": [
    {
     "data": {
      "text/plain": [
       "Animal ID            int64\n",
       "Name                object\n",
       "DateTime            object\n",
       "MonthYear           object\n",
       "Found Location      object\n",
       "Intake Type         object\n",
       "Intake Condition    object\n",
       "Animal Type         object\n",
       "Sex upon Intake     object\n",
       "Age upon Intake     object\n",
       "Breed               object\n",
       "Color               object\n",
       "DateTime_out        object\n",
       "Outcome Type        object\n",
       "Outcome Subtype     object\n",
       "shelter_time        object\n",
       "dtype: object"
      ]
     },
     "execution_count": 3,
     "metadata": {},
     "output_type": "execute_result"
    }
   ],
   "source": [
    "adopted_cats.dtypes"
   ]
  },
  {
   "cell_type": "code",
   "execution_count": 4,
   "id": "conventional-creator",
   "metadata": {},
   "outputs": [
    {
     "data": {
      "text/plain": [
       "0      31 days 23:08:00\n",
       "1      18 days 04:13:00\n",
       "2      45 days 03:15:00\n",
       "3       4 days 00:51:00\n",
       "4      11 days 23:26:00\n",
       "             ...       \n",
       "491     8 days 05:42:00\n",
       "492     7 days 01:51:00\n",
       "493     7 days 01:52:00\n",
       "494    21 days 12:32:00\n",
       "495    15 days 02:01:00\n",
       "Name: shelter_time, Length: 496, dtype: object"
      ]
     },
     "execution_count": 4,
     "metadata": {},
     "output_type": "execute_result"
    }
   ],
   "source": [
    "adopted_cats[\"shelter_time\"].astype(str)\n",
    "adopted_dogs[\"shelter_time\"].astype(str)\n",
    "adopted_birds[\"shelter_time\"].astype(str)\n",
    "adopted_livestock[\"shelter_time\"].astype(str)\n",
    "adopted_other[\"shelter_time\"].astype(str)"
   ]
  },
  {
   "cell_type": "code",
   "execution_count": 5,
   "id": "stylish-ethics",
   "metadata": {},
   "outputs": [],
   "source": [
    "adopted_cats[\"shelter_days\"] = adopted_cats[\"shelter_time\"].str[:2]\n",
    "adopted_dogs[\"shelter_days\"] = adopted_dogs[\"shelter_time\"].str[:2]\n",
    "adopted_birds[\"shelter_days\"] = adopted_birds[\"shelter_time\"].str[:2]\n",
    "adopted_livestock[\"shelter_days\"] = adopted_livestock[\"shelter_time\"].str[:2]\n",
    "adopted_other[\"shelter_days\"] = adopted_other[\"shelter_time\"].str[:2]"
   ]
  },
  {
   "cell_type": "code",
   "execution_count": 6,
   "id": "underlying-discharge",
   "metadata": {},
   "outputs": [
    {
     "data": {
      "text/html": [
       "<div>\n",
       "<style scoped>\n",
       "    .dataframe tbody tr th:only-of-type {\n",
       "        vertical-align: middle;\n",
       "    }\n",
       "\n",
       "    .dataframe tbody tr th {\n",
       "        vertical-align: top;\n",
       "    }\n",
       "\n",
       "    .dataframe thead th {\n",
       "        text-align: right;\n",
       "    }\n",
       "</style>\n",
       "<table border=\"1\" class=\"dataframe\">\n",
       "  <thead>\n",
       "    <tr style=\"text-align: right;\">\n",
       "      <th></th>\n",
       "      <th>Animal ID</th>\n",
       "      <th>Name</th>\n",
       "      <th>DateTime</th>\n",
       "      <th>MonthYear</th>\n",
       "      <th>Found Location</th>\n",
       "      <th>Intake Type</th>\n",
       "      <th>Intake Condition</th>\n",
       "      <th>Animal Type</th>\n",
       "      <th>Sex upon Intake</th>\n",
       "      <th>Age upon Intake</th>\n",
       "      <th>Breed</th>\n",
       "      <th>Color</th>\n",
       "      <th>DateTime_out</th>\n",
       "      <th>Outcome Type</th>\n",
       "      <th>Outcome Subtype</th>\n",
       "      <th>shelter_time</th>\n",
       "      <th>shelter_days</th>\n",
       "    </tr>\n",
       "  </thead>\n",
       "  <tbody>\n",
       "    <tr>\n",
       "      <th>0</th>\n",
       "      <td>818975</td>\n",
       "      <td>NaN</td>\n",
       "      <td>2020-06-18 14:53:00</td>\n",
       "      <td>06/18/2020 02:53:00 PM</td>\n",
       "      <td>Braker Lane And Metric in Travis (TX)</td>\n",
       "      <td>Stray</td>\n",
       "      <td>Normal</td>\n",
       "      <td>Cat</td>\n",
       "      <td>Intact Male</td>\n",
       "      <td>4 weeks</td>\n",
       "      <td>Domestic Shorthair</td>\n",
       "      <td>Cream Tabby</td>\n",
       "      <td>2020-07-23 15:54:00</td>\n",
       "      <td>Adoption</td>\n",
       "      <td>Foster</td>\n",
       "      <td>35 days 01:01:00</td>\n",
       "      <td>35</td>\n",
       "    </tr>\n",
       "    <tr>\n",
       "      <th>1</th>\n",
       "      <td>657188</td>\n",
       "      <td>Tommy</td>\n",
       "      <td>2013-11-10 17:19:00</td>\n",
       "      <td>11/10/2013 05:19:00 PM</td>\n",
       "      <td>Austin (TX)</td>\n",
       "      <td>Owner Surrender</td>\n",
       "      <td>Normal</td>\n",
       "      <td>Cat</td>\n",
       "      <td>Neutered Male</td>\n",
       "      <td>14 years</td>\n",
       "      <td>Domestic Shorthair Mix</td>\n",
       "      <td>Brown Tabby/White</td>\n",
       "      <td>2014-01-26 16:24:00</td>\n",
       "      <td>Adoption</td>\n",
       "      <td>Foster</td>\n",
       "      <td>76 days 23:05:00</td>\n",
       "      <td>76</td>\n",
       "    </tr>\n",
       "    <tr>\n",
       "      <th>2</th>\n",
       "      <td>783861</td>\n",
       "      <td>Tulip</td>\n",
       "      <td>2018-11-07 15:53:00</td>\n",
       "      <td>11/07/2018 03:53:00 PM</td>\n",
       "      <td>3110 Guadalupe Street in Austin (TX)</td>\n",
       "      <td>Stray</td>\n",
       "      <td>Normal</td>\n",
       "      <td>Cat</td>\n",
       "      <td>Intact Female</td>\n",
       "      <td>1 month</td>\n",
       "      <td>Domestic Shorthair Mix</td>\n",
       "      <td>Brown Tabby</td>\n",
       "      <td>2018-11-29 19:22:00</td>\n",
       "      <td>Adoption</td>\n",
       "      <td>NaN</td>\n",
       "      <td>22 days 03:29:00</td>\n",
       "      <td>22</td>\n",
       "    </tr>\n",
       "    <tr>\n",
       "      <th>3</th>\n",
       "      <td>707658</td>\n",
       "      <td>*Mint</td>\n",
       "      <td>2015-07-15 17:43:00</td>\n",
       "      <td>07/15/2015 05:43:00 PM</td>\n",
       "      <td>6118 Fairway in Austin (TX)</td>\n",
       "      <td>Stray</td>\n",
       "      <td>Normal</td>\n",
       "      <td>Cat</td>\n",
       "      <td>Intact Female</td>\n",
       "      <td>4 weeks</td>\n",
       "      <td>Domestic Shorthair Mix</td>\n",
       "      <td>Black/White</td>\n",
       "      <td>2015-08-19 17:59:00</td>\n",
       "      <td>Adoption</td>\n",
       "      <td>NaN</td>\n",
       "      <td>35 days 00:16:00</td>\n",
       "      <td>35</td>\n",
       "    </tr>\n",
       "    <tr>\n",
       "      <th>4</th>\n",
       "      <td>736287</td>\n",
       "      <td>*Twilight</td>\n",
       "      <td>2016-10-08 11:53:00</td>\n",
       "      <td>10/08/2016 11:53:00 AM</td>\n",
       "      <td>South First And Stassney in Austin (TX)</td>\n",
       "      <td>Stray</td>\n",
       "      <td>Normal</td>\n",
       "      <td>Cat</td>\n",
       "      <td>Intact Female</td>\n",
       "      <td>1 month</td>\n",
       "      <td>Domestic Shorthair Mix</td>\n",
       "      <td>Torbie</td>\n",
       "      <td>2016-10-12 18:32:00</td>\n",
       "      <td>Adoption</td>\n",
       "      <td>NaN</td>\n",
       "      <td>4 days 06:39:00</td>\n",
       "      <td>4</td>\n",
       "    </tr>\n",
       "  </tbody>\n",
       "</table>\n",
       "</div>"
      ],
      "text/plain": [
       "   Animal ID       Name             DateTime               MonthYear  \\\n",
       "0     818975        NaN  2020-06-18 14:53:00  06/18/2020 02:53:00 PM   \n",
       "1     657188      Tommy  2013-11-10 17:19:00  11/10/2013 05:19:00 PM   \n",
       "2     783861      Tulip  2018-11-07 15:53:00  11/07/2018 03:53:00 PM   \n",
       "3     707658      *Mint  2015-07-15 17:43:00  07/15/2015 05:43:00 PM   \n",
       "4     736287  *Twilight  2016-10-08 11:53:00  10/08/2016 11:53:00 AM   \n",
       "\n",
       "                            Found Location      Intake Type Intake Condition  \\\n",
       "0    Braker Lane And Metric in Travis (TX)            Stray           Normal   \n",
       "1                              Austin (TX)  Owner Surrender           Normal   \n",
       "2     3110 Guadalupe Street in Austin (TX)            Stray           Normal   \n",
       "3              6118 Fairway in Austin (TX)            Stray           Normal   \n",
       "4  South First And Stassney in Austin (TX)            Stray           Normal   \n",
       "\n",
       "  Animal Type Sex upon Intake Age upon Intake                   Breed  \\\n",
       "0         Cat     Intact Male         4 weeks      Domestic Shorthair   \n",
       "1         Cat   Neutered Male        14 years  Domestic Shorthair Mix   \n",
       "2         Cat   Intact Female         1 month  Domestic Shorthair Mix   \n",
       "3         Cat   Intact Female         4 weeks  Domestic Shorthair Mix   \n",
       "4         Cat   Intact Female         1 month  Domestic Shorthair Mix   \n",
       "\n",
       "               Color         DateTime_out Outcome Type Outcome Subtype  \\\n",
       "0        Cream Tabby  2020-07-23 15:54:00     Adoption          Foster   \n",
       "1  Brown Tabby/White  2014-01-26 16:24:00     Adoption          Foster   \n",
       "2        Brown Tabby  2018-11-29 19:22:00     Adoption             NaN   \n",
       "3        Black/White  2015-08-19 17:59:00     Adoption             NaN   \n",
       "4             Torbie  2016-10-12 18:32:00     Adoption             NaN   \n",
       "\n",
       "       shelter_time shelter_days  \n",
       "0  35 days 01:01:00           35  \n",
       "1  76 days 23:05:00           76  \n",
       "2  22 days 03:29:00           22  \n",
       "3  35 days 00:16:00           35  \n",
       "4   4 days 06:39:00           4   "
      ]
     },
     "execution_count": 6,
     "metadata": {},
     "output_type": "execute_result"
    }
   ],
   "source": [
    "adopted_cats.head()"
   ]
  },
  {
   "cell_type": "code",
   "execution_count": 7,
   "id": "ordinary-chile",
   "metadata": {},
   "outputs": [
    {
     "data": {
      "text/plain": [
       "0      31\n",
       "1      18\n",
       "2      45\n",
       "3       4\n",
       "4      11\n",
       "       ..\n",
       "491     8\n",
       "492     7\n",
       "493     7\n",
       "494    21\n",
       "495    15\n",
       "Name: shelter_days, Length: 496, dtype: int32"
      ]
     },
     "execution_count": 7,
     "metadata": {},
     "output_type": "execute_result"
    }
   ],
   "source": [
    "adopted_cats[\"shelter_days\"].astype(int)\n",
    "adopted_dogs[\"shelter_days\"].astype(int)\n",
    "adopted_birds[\"shelter_days\"].astype(int)\n",
    "adopted_livestock[\"shelter_days\"].astype(int)\n",
    "adopted_other[\"shelter_days\"].astype(int)"
   ]
  },
  {
   "cell_type": "code",
   "execution_count": null,
   "id": "listed-photograph",
   "metadata": {},
   "outputs": [],
   "source": []
  }
 ],
 "metadata": {
  "kernelspec": {
   "display_name": "Python 3",
   "language": "python",
   "name": "python3"
  },
  "language_info": {
   "codemirror_mode": {
    "name": "ipython",
    "version": 3
   },
   "file_extension": ".py",
   "mimetype": "text/x-python",
   "name": "python",
   "nbconvert_exporter": "python",
   "pygments_lexer": "ipython3",
   "version": "3.6.12"
  }
 },
 "nbformat": 4,
 "nbformat_minor": 5
}
