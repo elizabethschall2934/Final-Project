{
 "cells": [
  {
   "cell_type": "code",
   "execution_count": 1,
   "id": "mediterranean-antibody",
   "metadata": {},
   "outputs": [],
   "source": [
    "import matplotlib.pyplot as plt\n",
    "import numpy as np\n",
    "import pandas as pd\n",
    "import os\n",
    "import csv"
   ]
  },
  {
   "cell_type": "code",
   "execution_count": 2,
   "id": "indoor-sending",
   "metadata": {},
   "outputs": [],
   "source": [
    "adopted_cats_load = \"Initial csv output files/adopted_cats_clean.csv\"\n",
    "adopted_dogs_load = \"Initial csv output files/adopted_dogs_clean.csv\"\n",
    "adopted_birds_load = \"Initial csv output files/adopted_birds_clean.csv\"\n",
    "adopted_livestock_load = \"Initial csv output files/adopted_livestock_clean.csv\"\n",
    "adopted_other_load = \"Initial csv output files/adopted_other_clean.csv\"\n",
    "\n",
    "adopted_cats = pd.read_csv(adopted_cats_load)\n",
    "adopted_dogs = pd.read_csv(adopted_dogs_load)\n",
    "adopted_birds = pd.read_csv(adopted_birds_load)\n",
    "adopted_livestock = pd.read_csv(adopted_livestock_load)\n",
    "adopted_other = pd.read_csv(adopted_other_load)"
   ]
  },
  {
   "cell_type": "code",
   "execution_count": 3,
   "id": "front-electricity",
   "metadata": {},
   "outputs": [
    {
     "data": {
      "text/plain": [
       "0      31 days 23:08:00\n",
       "1      18 days 04:13:00\n",
       "2      45 days 03:15:00\n",
       "3       4 days 00:51:00\n",
       "4      11 days 23:26:00\n",
       "             ...       \n",
       "491     8 days 05:42:00\n",
       "492     7 days 01:51:00\n",
       "493     7 days 01:52:00\n",
       "494    21 days 12:32:00\n",
       "495    15 days 02:01:00\n",
       "Name: shelter_time, Length: 496, dtype: object"
      ]
     },
     "execution_count": 3,
     "metadata": {},
     "output_type": "execute_result"
    }
   ],
   "source": [
    "adopted_cats[\"shelter_time\"].astype(str)\n",
    "adopted_cats[\"Breed\"].astype(str)\n",
    "adopted_dogs[\"shelter_time\"].astype(str)\n",
    "adopted_birds[\"shelter_time\"].astype(str)\n",
    "adopted_livestock[\"shelter_time\"].astype(str)\n",
    "adopted_other[\"shelter_time\"].astype(str)"
   ]
  },
  {
   "cell_type": "code",
   "execution_count": 4,
   "id": "figured-cinema",
   "metadata": {},
   "outputs": [],
   "source": [
    "adopted_cats[\"shelter_days\"] = adopted_cats[\"shelter_time\"].str[:2]\n",
    "adopted_dogs[\"shelter_days\"] = adopted_dogs[\"shelter_time\"].str[:2]\n",
    "adopted_birds[\"shelter_days\"] = adopted_birds[\"shelter_time\"].str[:2]\n",
    "adopted_livestock[\"shelter_days\"] = adopted_livestock[\"shelter_time\"].str[:2]\n",
    "adopted_other[\"shelter_days\"] = adopted_other[\"shelter_time\"].str[:2]"
   ]
  },
  {
   "cell_type": "code",
   "execution_count": 5,
   "id": "dense-avatar",
   "metadata": {},
   "outputs": [],
   "source": [
    "adopted_cats[\"shelter_days\"] = adopted_cats[\"shelter_days\"].astype(int)\n",
    "adopted_dogs[\"shelter_days\"] = adopted_dogs[\"shelter_days\"].astype(int)\n",
    "adopted_birds[\"shelter_days\"] = adopted_birds[\"shelter_days\"].astype(int)\n",
    "adopted_livestock[\"shelter_days\"] = adopted_livestock[\"shelter_days\"].astype(int)\n",
    "adopted_other[\"shelter_days\"] = adopted_other[\"shelter_days\"].astype(int)"
   ]
  },
  {
   "cell_type": "code",
   "execution_count": 6,
   "id": "indirect-screw",
   "metadata": {},
   "outputs": [],
   "source": [
    "adopted_cats.loc[adopted_cats[\"Breed\"].str.contains('domestic shorthair', case=False), \"Breed\"] = 'Domestic Shorthair'\n",
    "adopted_cats.loc[adopted_cats[\"Breed\"].str.contains('domestic longhair', case=False), \"Breed\"] = 'Domestic Longhair'\n",
    "adopted_cats.loc[adopted_cats[\"Breed\"].str.contains('domestic medium hair', case=False), \"Breed\"] = 'Domestic Medium Hair'\n",
    "adopted_cats.loc[adopted_cats[\"Breed\"].str.contains('siamese', case=False), \"Breed\"] = 'Siamese mix'\n",
    "adopted_cats.loc[adopted_cats[\"Breed\"].str.contains('bengal', case=False), \"Breed\"] = 'Bengal mix'\n",
    "adopted_cats.loc[adopted_cats[\"Breed\"].str.contains('manx', case=False), \"Breed\"] = 'Manx mix'\n",
    "adopted_cats.loc[adopted_cats[\"Breed\"].str.contains('Russian Blue', case=False), \"Breed\"] = 'Russian Blue mix'\n",
    "adopted_cats.loc[adopted_cats[\"Breed\"].str.contains('Maine Coon', case=False), \"Breed\"] = 'Maine Coon mix'\n",
    "adopted_cats.loc[adopted_cats[\"Breed\"].str.contains('Ragdoll', case=False), \"Breed\"] = 'Ragdoll mix'\n",
    "adopted_cats.loc[adopted_cats[\"Breed\"].str.contains('Burmese', case=False), \"Breed\"] = 'Burmese mix'\n",
    "adopted_cats.loc[adopted_cats[\"Breed\"].str.contains('Balinese', case=False), \"Breed\"] = 'Balinese mix'\n",
    "adopted_cats.loc[adopted_cats[\"Breed\"].str.contains('Snowshoe', case=False), \"Breed\"] = 'Snowshoe mix'\n",
    "adopted_cats.loc[adopted_cats[\"Breed\"].str.contains('Turkish Angora', case=False), \"Breed\"] = 'Turkish Angora mix'\n",
    "adopted_cats.loc[adopted_cats[\"Breed\"].str.contains('Japanese Bobtail', case=False), \"Breed\"] = 'Japanese Bobtail mix'\n",
    "adopted_cats.loc[adopted_cats[\"Breed\"].str.contains('Himalayan', case=False), \"Breed\"] = 'Himalayan mix'\n",
    "adopted_cats.loc[adopted_cats[\"Breed\"].str.contains('Persian', case=False), \"Breed\"] = 'Persian mix'\n",
    "adopted_cats.loc[adopted_cats[\"Breed\"].str.contains('Abyssinian', case=False), \"Breed\"] = 'Abyssinian mix'\n",
    "adopted_cats.loc[adopted_cats[\"Breed\"].str.contains('American Curl Shorthair', case=False), \"Breed\"] = 'American Curl Shorthair mix'\n",
    "adopted_cats.loc[adopted_cats[\"Breed\"].str.contains('Havana Brown', case=False), \"Breed\"] = 'Havana Brown mix'\n",
    "adopted_cats.loc[adopted_cats[\"Breed\"].str.contains('American Shorthair', case=False), \"Breed\"] = 'Domestic Shorthair'\n",
    "adopted_cats.loc[adopted_cats[\"Breed\"].str.contains('Pixiebob Shorthair', case=False), \"Breed\"] = 'Pixiebob Shorthair mix'\n",
    "adopted_cats.loc[adopted_cats[\"Breed\"].str.contains('British Shorthair', case=False), \"Breed\"] = 'British Shorthair'"
   ]
  },
  {
   "cell_type": "code",
   "execution_count": 7,
   "id": "consecutive-finnish",
   "metadata": {},
   "outputs": [],
   "source": [
    "adopted_cats.loc[adopted_cats[\"shelter_days\"].isin([0,1]), \"Adopt Rating\"] = \"AA\"\n",
    "adopted_cats.loc[adopted_cats[\"shelter_days\"].isin([2,3,4,5]), \"Adopt Rating\"] = \"A\"\n",
    "adopted_cats.loc[adopted_cats[\"shelter_days\"].isin([6,7,8,9,10,11,12,13,14]), \"Adopt Rating\"] = \"B\"\n",
    "adopted_cats.loc[adopted_cats[\"shelter_days\"].isin([15,16,17,18,19,20,21,22,23,24,25,26,27,28,29,30]), \"Adopt Rating\"] = \"C\"\n",
    "adopted_cats.loc[adopted_cats[\"shelter_days\"].isin([31,32,33,34,35,36,37,38,39,40,41,42,43,44,45,46,47,48,49,50,51,52,53,54,55,56,57,58,59,60]), \"Adopt Rating\"] = \"D\"\n",
    "adopted_cats.loc[adopted_cats[\"shelter_days\"].isin([61,62,63,64,65,66,67,68,69,70,71,72,73,74,75,76,77,78,79,80,81,82,83,84,85,86,87,88,89,90,91,92,93,94,95,96,97,98,99]), \"Adopt Rating\"] = \"F\""
   ]
  },
  {
   "cell_type": "code",
   "execution_count": 8,
   "id": "sized-wiring",
   "metadata": {},
   "outputs": [
    {
     "data": {
      "text/html": [
       "<div>\n",
       "<style scoped>\n",
       "    .dataframe tbody tr th:only-of-type {\n",
       "        vertical-align: middle;\n",
       "    }\n",
       "\n",
       "    .dataframe tbody tr th {\n",
       "        vertical-align: top;\n",
       "    }\n",
       "\n",
       "    .dataframe thead th {\n",
       "        text-align: right;\n",
       "    }\n",
       "</style>\n",
       "<table border=\"1\" class=\"dataframe\">\n",
       "  <thead>\n",
       "    <tr style=\"text-align: right;\">\n",
       "      <th></th>\n",
       "      <th>Animal ID</th>\n",
       "      <th>Name</th>\n",
       "      <th>DateTime</th>\n",
       "      <th>MonthYear</th>\n",
       "      <th>Found Location</th>\n",
       "      <th>Intake Type</th>\n",
       "      <th>Intake Condition</th>\n",
       "      <th>Animal Type</th>\n",
       "      <th>Sex upon Intake</th>\n",
       "      <th>Age upon Intake</th>\n",
       "      <th>Breed</th>\n",
       "      <th>Color</th>\n",
       "      <th>DateTime_out</th>\n",
       "      <th>Outcome Type</th>\n",
       "      <th>Outcome Subtype</th>\n",
       "      <th>shelter_time</th>\n",
       "      <th>shelter_days</th>\n",
       "      <th>Adopt Rating</th>\n",
       "    </tr>\n",
       "  </thead>\n",
       "  <tbody>\n",
       "    <tr>\n",
       "      <th>0</th>\n",
       "      <td>818975</td>\n",
       "      <td>NaN</td>\n",
       "      <td>2020-06-18 14:53:00</td>\n",
       "      <td>06/18/2020 02:53:00 PM</td>\n",
       "      <td>Braker Lane And Metric in Travis (TX)</td>\n",
       "      <td>Stray</td>\n",
       "      <td>Normal</td>\n",
       "      <td>Cat</td>\n",
       "      <td>Intact Male</td>\n",
       "      <td>4 weeks</td>\n",
       "      <td>Domestic Shorthair</td>\n",
       "      <td>Cream Tabby</td>\n",
       "      <td>2020-07-23 15:54:00</td>\n",
       "      <td>Adoption</td>\n",
       "      <td>Foster</td>\n",
       "      <td>35 days 01:01:00</td>\n",
       "      <td>35</td>\n",
       "      <td>D</td>\n",
       "    </tr>\n",
       "    <tr>\n",
       "      <th>1</th>\n",
       "      <td>657188</td>\n",
       "      <td>Tommy</td>\n",
       "      <td>2013-11-10 17:19:00</td>\n",
       "      <td>11/10/2013 05:19:00 PM</td>\n",
       "      <td>Austin (TX)</td>\n",
       "      <td>Owner Surrender</td>\n",
       "      <td>Normal</td>\n",
       "      <td>Cat</td>\n",
       "      <td>Neutered Male</td>\n",
       "      <td>14 years</td>\n",
       "      <td>Domestic Shorthair</td>\n",
       "      <td>Brown Tabby/White</td>\n",
       "      <td>2014-01-26 16:24:00</td>\n",
       "      <td>Adoption</td>\n",
       "      <td>Foster</td>\n",
       "      <td>76 days 23:05:00</td>\n",
       "      <td>76</td>\n",
       "      <td>F</td>\n",
       "    </tr>\n",
       "    <tr>\n",
       "      <th>2</th>\n",
       "      <td>783861</td>\n",
       "      <td>Tulip</td>\n",
       "      <td>2018-11-07 15:53:00</td>\n",
       "      <td>11/07/2018 03:53:00 PM</td>\n",
       "      <td>3110 Guadalupe Street in Austin (TX)</td>\n",
       "      <td>Stray</td>\n",
       "      <td>Normal</td>\n",
       "      <td>Cat</td>\n",
       "      <td>Intact Female</td>\n",
       "      <td>1 month</td>\n",
       "      <td>Domestic Shorthair</td>\n",
       "      <td>Brown Tabby</td>\n",
       "      <td>2018-11-29 19:22:00</td>\n",
       "      <td>Adoption</td>\n",
       "      <td>NaN</td>\n",
       "      <td>22 days 03:29:00</td>\n",
       "      <td>22</td>\n",
       "      <td>C</td>\n",
       "    </tr>\n",
       "    <tr>\n",
       "      <th>3</th>\n",
       "      <td>707658</td>\n",
       "      <td>*Mint</td>\n",
       "      <td>2015-07-15 17:43:00</td>\n",
       "      <td>07/15/2015 05:43:00 PM</td>\n",
       "      <td>6118 Fairway in Austin (TX)</td>\n",
       "      <td>Stray</td>\n",
       "      <td>Normal</td>\n",
       "      <td>Cat</td>\n",
       "      <td>Intact Female</td>\n",
       "      <td>4 weeks</td>\n",
       "      <td>Domestic Shorthair</td>\n",
       "      <td>Black/White</td>\n",
       "      <td>2015-08-19 17:59:00</td>\n",
       "      <td>Adoption</td>\n",
       "      <td>NaN</td>\n",
       "      <td>35 days 00:16:00</td>\n",
       "      <td>35</td>\n",
       "      <td>D</td>\n",
       "    </tr>\n",
       "    <tr>\n",
       "      <th>4</th>\n",
       "      <td>736287</td>\n",
       "      <td>*Twilight</td>\n",
       "      <td>2016-10-08 11:53:00</td>\n",
       "      <td>10/08/2016 11:53:00 AM</td>\n",
       "      <td>South First And Stassney in Austin (TX)</td>\n",
       "      <td>Stray</td>\n",
       "      <td>Normal</td>\n",
       "      <td>Cat</td>\n",
       "      <td>Intact Female</td>\n",
       "      <td>1 month</td>\n",
       "      <td>Domestic Shorthair</td>\n",
       "      <td>Torbie</td>\n",
       "      <td>2016-10-12 18:32:00</td>\n",
       "      <td>Adoption</td>\n",
       "      <td>NaN</td>\n",
       "      <td>4 days 06:39:00</td>\n",
       "      <td>4</td>\n",
       "      <td>A</td>\n",
       "    </tr>\n",
       "  </tbody>\n",
       "</table>\n",
       "</div>"
      ],
      "text/plain": [
       "   Animal ID       Name             DateTime               MonthYear  \\\n",
       "0     818975        NaN  2020-06-18 14:53:00  06/18/2020 02:53:00 PM   \n",
       "1     657188      Tommy  2013-11-10 17:19:00  11/10/2013 05:19:00 PM   \n",
       "2     783861      Tulip  2018-11-07 15:53:00  11/07/2018 03:53:00 PM   \n",
       "3     707658      *Mint  2015-07-15 17:43:00  07/15/2015 05:43:00 PM   \n",
       "4     736287  *Twilight  2016-10-08 11:53:00  10/08/2016 11:53:00 AM   \n",
       "\n",
       "                            Found Location      Intake Type Intake Condition  \\\n",
       "0    Braker Lane And Metric in Travis (TX)            Stray           Normal   \n",
       "1                              Austin (TX)  Owner Surrender           Normal   \n",
       "2     3110 Guadalupe Street in Austin (TX)            Stray           Normal   \n",
       "3              6118 Fairway in Austin (TX)            Stray           Normal   \n",
       "4  South First And Stassney in Austin (TX)            Stray           Normal   \n",
       "\n",
       "  Animal Type Sex upon Intake Age upon Intake               Breed  \\\n",
       "0         Cat     Intact Male         4 weeks  Domestic Shorthair   \n",
       "1         Cat   Neutered Male        14 years  Domestic Shorthair   \n",
       "2         Cat   Intact Female         1 month  Domestic Shorthair   \n",
       "3         Cat   Intact Female         4 weeks  Domestic Shorthair   \n",
       "4         Cat   Intact Female         1 month  Domestic Shorthair   \n",
       "\n",
       "               Color         DateTime_out Outcome Type Outcome Subtype  \\\n",
       "0        Cream Tabby  2020-07-23 15:54:00     Adoption          Foster   \n",
       "1  Brown Tabby/White  2014-01-26 16:24:00     Adoption          Foster   \n",
       "2        Brown Tabby  2018-11-29 19:22:00     Adoption             NaN   \n",
       "3        Black/White  2015-08-19 17:59:00     Adoption             NaN   \n",
       "4             Torbie  2016-10-12 18:32:00     Adoption             NaN   \n",
       "\n",
       "       shelter_time  shelter_days Adopt Rating  \n",
       "0  35 days 01:01:00            35            D  \n",
       "1  76 days 23:05:00            76            F  \n",
       "2  22 days 03:29:00            22            C  \n",
       "3  35 days 00:16:00            35            D  \n",
       "4   4 days 06:39:00             4            A  "
      ]
     },
     "execution_count": 8,
     "metadata": {},
     "output_type": "execute_result"
    }
   ],
   "source": [
    "adopted_cats.head()"
   ]
  },
  {
   "cell_type": "code",
   "execution_count": 9,
   "id": "administrative-final",
   "metadata": {},
   "outputs": [],
   "source": [
    "adoption_speed = adopted_cats.groupby(\"Adopt Rating\")\n",
    "adopted_breeds = adopted_cats.groupby(\"Breed\")"
   ]
  },
  {
   "cell_type": "code",
   "execution_count": 14,
   "id": "italian-affiliate",
   "metadata": {},
   "outputs": [
    {
     "data": {
      "text/plain": [
       "Text(0, 0.5, 'Count')"
      ]
     },
     "execution_count": 14,
     "metadata": {},
     "output_type": "execute_result"
    },
    {
     "data": {
      "image/png": "[encoded data removed]",
      "text/plain": [
       "<Figure size 432x288 with 1 Axes>"
      ]
     },
     "metadata": {
      "needs_background": "light"
     },
     "output_type": "display_data"
    }
   ],
   "source": [
    "adoption_speed = adopted_cats.groupby(\"Adopt Rating\")\n",
    "\n",
    "speed_data = adoption_speed[\"Adopt Rating\"].count()\n",
    "\n",
    "ax1 = speed_data.plot.bar(facecolor='magenta',title=\"Adoption Ratings\")\n",
    "ax1.set_xlabel(\"Rating\")\n",
    "ax1.set_ylabel(\"Count\")"
   ]
  },
  {
   "cell_type": "code",
   "execution_count": 15,
   "id": "exciting-desperate",
   "metadata": {},
   "outputs": [
    {
     "data": {
      "text/plain": [
       "Text(0, 0.5, 'Count')"
      ]
     },
     "execution_count": 15,
     "metadata": {},
     "output_type": "execute_result"
    },
    {
     "data": {
      "image/png": "[encoded data removed]",
      "text/plain": [
       "<Figure size 432x288 with 1 Axes>"
      ]
     },
     "metadata": {
      "needs_background": "light"
     },
     "output_type": "display_data"
    }
   ],
   "source": [
    "adopted_breeds = adopted_cats.groupby(\"Breed\")\n",
    "\n",
    "breed_data = adopted_breeds[\"Breed\"].count()\n",
    "\n",
    "ax1 = breed_data.plot.bar(facecolor='purple',title=\"Adopted Breeds\")\n",
    "ax1.set_xlabel(\"Breed\")\n",
    "ax1.set_ylabel(\"Count\")"
   ]
  },
  {
   "cell_type": "code",
   "execution_count": 16,
   "id": "democratic-huntington",
   "metadata": {},
   "outputs": [
    {
     "data": {
      "text/html": [
       "<div>\n",
       "<style scoped>\n",
       "    .dataframe tbody tr th:only-of-type {\n",
       "        vertical-align: middle;\n",
       "    }\n",
       "\n",
       "    .dataframe tbody tr th {\n",
       "        vertical-align: top;\n",
       "    }\n",
       "\n",
       "    .dataframe thead th {\n",
       "        text-align: right;\n",
       "    }\n",
       "</style>\n",
       "<table border=\"1\" class=\"dataframe\">\n",
       "  <thead>\n",
       "    <tr style=\"text-align: right;\">\n",
       "      <th></th>\n",
       "      <th>Animal ID</th>\n",
       "      <th>Name</th>\n",
       "      <th>DateTime</th>\n",
       "      <th>MonthYear</th>\n",
       "      <th>Found Location</th>\n",
       "      <th>Intake Type</th>\n",
       "      <th>Intake Condition</th>\n",
       "      <th>Animal Type</th>\n",
       "      <th>Sex upon Intake</th>\n",
       "      <th>Age upon Intake</th>\n",
       "      <th>Breed</th>\n",
       "      <th>Color</th>\n",
       "      <th>DateTime_out</th>\n",
       "      <th>Outcome Type</th>\n",
       "      <th>Outcome Subtype</th>\n",
       "      <th>shelter_time</th>\n",
       "      <th>shelter_days</th>\n",
       "    </tr>\n",
       "  </thead>\n",
       "  <tbody>\n",
       "    <tr>\n",
       "      <th>0</th>\n",
       "      <td>760053</td>\n",
       "      <td>NaN</td>\n",
       "      <td>2017-10-11 15:46:00</td>\n",
       "      <td>10/11/2017 03:46:00 PM</td>\n",
       "      <td>8800 South First Street in Austin (TX)</td>\n",
       "      <td>Stray</td>\n",
       "      <td>Normal</td>\n",
       "      <td>Dog</td>\n",
       "      <td>Intact Male</td>\n",
       "      <td>2 years</td>\n",
       "      <td>Chihuahua Shorthair</td>\n",
       "      <td>White/Tan</td>\n",
       "      <td>2017-10-15 18:30:00</td>\n",
       "      <td>Adoption</td>\n",
       "      <td>NaN</td>\n",
       "      <td>4 days 02:44:00</td>\n",
       "      <td>4</td>\n",
       "    </tr>\n",
       "    <tr>\n",
       "      <th>1</th>\n",
       "      <td>707375</td>\n",
       "      <td>*Candy Cane</td>\n",
       "      <td>2015-07-11 18:19:00</td>\n",
       "      <td>07/11/2015 06:19:00 PM</td>\n",
       "      <td>Galilee Court And Damita Jo Dr in Manor (TX)</td>\n",
       "      <td>Stray</td>\n",
       "      <td>Normal</td>\n",
       "      <td>Dog</td>\n",
       "      <td>Intact Female</td>\n",
       "      <td>5 months</td>\n",
       "      <td>Pit Bull</td>\n",
       "      <td>Brown/White</td>\n",
       "      <td>2015-11-28 17:31:00</td>\n",
       "      <td>Adoption</td>\n",
       "      <td>NaN</td>\n",
       "      <td>139 days 23:12:00</td>\n",
       "      <td>13</td>\n",
       "    </tr>\n",
       "    <tr>\n",
       "      <th>2</th>\n",
       "      <td>696408</td>\n",
       "      <td>*Pearl</td>\n",
       "      <td>2015-02-04 12:58:00</td>\n",
       "      <td>02/04/2015 12:58:00 PM</td>\n",
       "      <td>9705 Thaxton in Austin (TX)</td>\n",
       "      <td>Stray</td>\n",
       "      <td>Normal</td>\n",
       "      <td>Dog</td>\n",
       "      <td>Intact Female</td>\n",
       "      <td>2 years</td>\n",
       "      <td>Chihuahua Shorthair</td>\n",
       "      <td>Tricolor</td>\n",
       "      <td>2015-05-28 11:24:00</td>\n",
       "      <td>Adoption</td>\n",
       "      <td>Foster</td>\n",
       "      <td>112 days 22:26:00</td>\n",
       "      <td>11</td>\n",
       "    </tr>\n",
       "    <tr>\n",
       "      <th>3</th>\n",
       "      <td>697950</td>\n",
       "      <td>NaN</td>\n",
       "      <td>2015-03-04 11:22:00</td>\n",
       "      <td>03/04/2015 11:22:00 AM</td>\n",
       "      <td>1501 S Fm 973 in Austin (TX)</td>\n",
       "      <td>Stray</td>\n",
       "      <td>Normal</td>\n",
       "      <td>Dog</td>\n",
       "      <td>Intact Female</td>\n",
       "      <td>2 months</td>\n",
       "      <td>Australian Cattle Dog/Labrador Retriever</td>\n",
       "      <td>Tan/White</td>\n",
       "      <td>2015-03-08 18:55:00</td>\n",
       "      <td>Adoption</td>\n",
       "      <td>NaN</td>\n",
       "      <td>4 days 07:33:00</td>\n",
       "      <td>4</td>\n",
       "    </tr>\n",
       "    <tr>\n",
       "      <th>4</th>\n",
       "      <td>759935</td>\n",
       "      <td>Dieve</td>\n",
       "      <td>2017-10-09 22:39:00</td>\n",
       "      <td>10/09/2017 10:39:00 PM</td>\n",
       "      <td>4800 Cottonwood St in Austin (TX)</td>\n",
       "      <td>Stray</td>\n",
       "      <td>Normal</td>\n",
       "      <td>Dog</td>\n",
       "      <td>Intact Female</td>\n",
       "      <td>1 month</td>\n",
       "      <td>Labrador Retriever Mix</td>\n",
       "      <td>Black</td>\n",
       "      <td>2017-10-17 18:18:00</td>\n",
       "      <td>Adoption</td>\n",
       "      <td>NaN</td>\n",
       "      <td>7 days 19:39:00</td>\n",
       "      <td>7</td>\n",
       "    </tr>\n",
       "  </tbody>\n",
       "</table>\n",
       "</div>"
      ],
      "text/plain": [
       "   Animal ID         Name             DateTime               MonthYear  \\\n",
       "0     760053          NaN  2017-10-11 15:46:00  10/11/2017 03:46:00 PM   \n",
       "1     707375  *Candy Cane  2015-07-11 18:19:00  07/11/2015 06:19:00 PM   \n",
       "2     696408       *Pearl  2015-02-04 12:58:00  02/04/2015 12:58:00 PM   \n",
       "3     697950          NaN  2015-03-04 11:22:00  03/04/2015 11:22:00 AM   \n",
       "4     759935        Dieve  2017-10-09 22:39:00  10/09/2017 10:39:00 PM   \n",
       "\n",
       "                                 Found Location Intake Type Intake Condition  \\\n",
       "0        8800 South First Street in Austin (TX)       Stray           Normal   \n",
       "1  Galilee Court And Damita Jo Dr in Manor (TX)       Stray           Normal   \n",
       "2                   9705 Thaxton in Austin (TX)       Stray           Normal   \n",
       "3                  1501 S Fm 973 in Austin (TX)       Stray           Normal   \n",
       "4             4800 Cottonwood St in Austin (TX)       Stray           Normal   \n",
       "\n",
       "  Animal Type Sex upon Intake Age upon Intake  \\\n",
       "0         Dog     Intact Male         2 years   \n",
       "1         Dog   Intact Female        5 months   \n",
       "2         Dog   Intact Female         2 years   \n",
       "3         Dog   Intact Female        2 months   \n",
       "4         Dog   Intact Female         1 month   \n",
       "\n",
       "                                      Breed        Color         DateTime_out  \\\n",
       "0                       Chihuahua Shorthair    White/Tan  2017-10-15 18:30:00   \n",
       "1                                  Pit Bull  Brown/White  2015-11-28 17:31:00   \n",
       "2                       Chihuahua Shorthair     Tricolor  2015-05-28 11:24:00   \n",
       "3  Australian Cattle Dog/Labrador Retriever    Tan/White  2015-03-08 18:55:00   \n",
       "4                    Labrador Retriever Mix        Black  2017-10-17 18:18:00   \n",
       "\n",
       "  Outcome Type Outcome Subtype       shelter_time  shelter_days  \n",
       "0     Adoption             NaN    4 days 02:44:00             4  \n",
       "1     Adoption             NaN  139 days 23:12:00            13  \n",
       "2     Adoption          Foster  112 days 22:26:00            11  \n",
       "3     Adoption             NaN    4 days 07:33:00             4  \n",
       "4     Adoption             NaN    7 days 19:39:00             7  "
      ]
     },
     "execution_count": 16,
     "metadata": {},
     "output_type": "execute_result"
    }
   ],
   "source": [
    "adopted_dogs.head()"
   ]
  },
  {
   "cell_type": "code",
   "execution_count": 17,
   "id": "dedicated-steel",
   "metadata": {},
   "outputs": [
    {
     "data": {
      "text/plain": [
       "array(['Chihuahua Shorthair', 'Pit Bull',\n",
       "       'Australian Cattle Dog/Labrador Retriever', ...,\n",
       "       'Labrador Retriever/Bull Terrier Miniature',\n",
       "       'Chihuahua Shorthair/Pit Bull', 'Pit Bull/Pit Bull'], dtype=object)"
      ]
     },
     "execution_count": 17,
     "metadata": {},
     "output_type": "execute_result"
    }
   ],
   "source": [
    "adopted_dogs[\"Breed\"].unique()"
   ]
  },
  {
   "cell_type": "code",
   "execution_count": 18,
   "id": "billion-ceiling",
   "metadata": {},
   "outputs": [
    {
     "data": {
      "text/plain": [
       "1665"
      ]
     },
     "execution_count": 18,
     "metadata": {},
     "output_type": "execute_result"
    }
   ],
   "source": [
    "adopted_dogs[\"Breed\"].nunique()"
   ]
  },
  {
   "cell_type": "code",
   "execution_count": 19,
   "id": "ruled-plumbing",
   "metadata": {},
   "outputs": [
    {
     "data": {
      "text/plain": [
       "array(['Cockatiel', 'Parakeet Mix', 'Chicken Mix', 'Chicken',\n",
       "       'Cockatiel Mix', 'Parrot', 'Conure', 'Conure Mix', 'Peafowl Mix',\n",
       "       'Lovebird Mix', 'Duck Mix', 'Parakeet', 'Peafowl', 'Bantam Mix',\n",
       "       'Rhode Island Mix', 'Budgerigar', 'Duck', 'Parrot Mix', 'Pigeon',\n",
       "       'Quaker Mix', 'Cockatoo Mix', 'Turkey Mix', 'Dove', 'Finch',\n",
       "       'Muscovy', 'Cockatoo', 'Pigeon Mix', 'Guinea Mix', 'Quaker'],\n",
       "      dtype=object)"
      ]
     },
     "execution_count": 19,
     "metadata": {},
     "output_type": "execute_result"
    }
   ],
   "source": [
    "adopted_birds[\"Breed\"].unique()"
   ]
  },
  {
   "cell_type": "code",
   "execution_count": 20,
   "id": "dietary-release",
   "metadata": {},
   "outputs": [
    {
     "data": {
      "text/plain": [
       "29"
      ]
     },
     "execution_count": 20,
     "metadata": {},
     "output_type": "execute_result"
    }
   ],
   "source": [
    "adopted_birds[\"Breed\"].nunique()"
   ]
  },
  {
   "cell_type": "code",
   "execution_count": 21,
   "id": "reduced-method",
   "metadata": {},
   "outputs": [
    {
     "data": {
      "text/plain": [
       "array(['Pig Mix', 'Goat', 'Pig', 'Sheep Mix', 'Potbelly Pig Mix'],\n",
       "      dtype=object)"
      ]
     },
     "execution_count": 21,
     "metadata": {},
     "output_type": "execute_result"
    }
   ],
   "source": [
    "adopted_livestock[\"Breed\"].unique()"
   ]
  },
  {
   "cell_type": "code",
   "execution_count": 23,
   "id": "sharp-bahamas",
   "metadata": {},
   "outputs": [
    {
     "data": {
      "text/plain": [
       "5"
      ]
     },
     "execution_count": 23,
     "metadata": {},
     "output_type": "execute_result"
    }
   ],
   "source": [
    "adopted_livestock[\"Breed\"].nunique()"
   ]
  },
  {
   "cell_type": "code",
   "execution_count": 24,
   "id": "moral-builder",
   "metadata": {},
   "outputs": [
    {
     "data": {
      "text/plain": [
       "array(['Cinnamon', 'Dutch/Angora-Satin', 'Rabbit Sh Mix', 'Guinea Pig',\n",
       "       'Rex', 'Californian', 'Rabbit Sh', 'Rex Mix', 'Sugar Glider',\n",
       "       'Rex-Mini Mix', 'Ferret Mix', 'Ferret', 'Rat', 'Hotot',\n",
       "       'Guinea Pig Mix', 'American Mix', 'Angora-French Mix', 'Rabbit Lh',\n",
       "       'Lop-Amer Fuzzy', 'Lionhead', 'Dutch', 'Cold Water Mix',\n",
       "       'Turtle Mix', 'Hamster', 'Hotot Mix', 'Lionhead Mix',\n",
       "       'English Spot', 'Havana', 'Mouse Mix', 'Checkered Giant Mix',\n",
       "       'Cold Water', 'Lop-Mini', 'Polish Mix', 'Rabbit Lh Mix', 'Rat Mix',\n",
       "       'Dwarf Hotot', 'Rex-Mini', 'Beveren Mix', 'English Spot Mix',\n",
       "       'Californian Mix', 'Lop-Holland Mix', 'Lop-Holland',\n",
       "       'Himalayan Mix', 'Havana Mix', 'Lop-English Mix', 'Belgian Hare',\n",
       "       'Rhinelander Mix', 'Lop-Mini/Lop-Holland', 'Chinchilla-Stnd Mix',\n",
       "       'Polish', 'Lizard Mix', 'Lop-Mini Mix', 'Turtle', 'American',\n",
       "       'Flemish Giant Mix', 'Netherlnd Dwarf Mix', 'Harlequin Mix',\n",
       "       'Britannia Petit Mix', 'Cinnamon Mix', 'Prairie Dog Mix',\n",
       "       'American Sable', 'Flemish Giant', 'Netherlnd Dwarf',\n",
       "       'Angora-English Mix', 'Tortoise Mix', 'Rex/Lop-English',\n",
       "       'Hermit Crab Mix', 'Belgian Hare Mix', 'Chinchilla-Amer',\n",
       "       'New Zealand Wht Mix', 'Lop-Amer Fuzzy Mix', 'Hamster Mix',\n",
       "       'Chinchilla-Amer Mix', 'Hedgehog', 'New Zealand Wht', 'Snake Mix',\n",
       "       'Dutch Mix'], dtype=object)"
      ]
     },
     "execution_count": 24,
     "metadata": {},
     "output_type": "execute_result"
    }
   ],
   "source": [
    "adopted_other[\"Breed\"].unique()"
   ]
  },
  {
   "cell_type": "code",
   "execution_count": 25,
   "id": "british-index",
   "metadata": {},
   "outputs": [
    {
     "data": {
      "text/plain": [
       "77"
      ]
     },
     "execution_count": 25,
     "metadata": {},
     "output_type": "execute_result"
    }
   ],
   "source": [
    "adopted_other[\"Breed\"].nunique()"
   ]
  },
  {
   "cell_type": "code",
   "execution_count": 26,
   "id": "involved-attendance",
   "metadata": {},
   "outputs": [],
   "source": [
    "adopted_dogs.loc[adopted_dogs[\"shelter_days\"].isin([0,1]), \"Adopt Rating\"] = \"AA\"\n",
    "adopted_dogs.loc[adopted_dogs[\"shelter_days\"].isin([2,3,4,5]), \"Adopt Rating\"] = \"A\"\n",
    "adopted_dogs.loc[adopted_dogs[\"shelter_days\"].isin([6,7,8,9,10,11,12,13,14]), \"Adopt Rating\"] = \"B\"\n",
    "adopted_dogs.loc[adopted_dogs[\"shelter_days\"].isin([15,16,17,18,19,20,21,22,23,24,25,26,27,28,29,30]), \"Adopt Rating\"] = \"C\"\n",
    "adopted_dogs.loc[adopted_dogs[\"shelter_days\"].isin([31,32,33,34,35,36,37,38,39,40,41,42,43,44,45,46,47,48,49,50,51,52,53,54,55,56,57,58,59,60]), \"Adopt Rating\"] = \"D\"\n",
    "adopted_dogs.loc[adopted_dogs[\"shelter_days\"].isin([61,62,63,64,65,66,67,68,69,70,71,72,73,74,75,76,77,78,79,80,81,82,83,84,85,86,87,88,89,90,91,92,93,94,95,96,97,98,99]), \"Adopt Rating\"] = \"F\""
   ]
  },
  {
   "cell_type": "code",
   "execution_count": 27,
   "id": "ceramic-baseball",
   "metadata": {},
   "outputs": [
    {
     "data": {
      "text/html": [
       "<div>\n",
       "<style scoped>\n",
       "    .dataframe tbody tr th:only-of-type {\n",
       "        vertical-align: middle;\n",
       "    }\n",
       "\n",
       "    .dataframe tbody tr th {\n",
       "        vertical-align: top;\n",
       "    }\n",
       "\n",
       "    .dataframe thead th {\n",
       "        text-align: right;\n",
       "    }\n",
       "</style>\n",
       "<table border=\"1\" class=\"dataframe\">\n",
       "  <thead>\n",
       "    <tr style=\"text-align: right;\">\n",
       "      <th></th>\n",
       "      <th>Animal ID</th>\n",
       "      <th>Name</th>\n",
       "      <th>DateTime</th>\n",
       "      <th>MonthYear</th>\n",
       "      <th>Found Location</th>\n",
       "      <th>Intake Type</th>\n",
       "      <th>Intake Condition</th>\n",
       "      <th>Animal Type</th>\n",
       "      <th>Sex upon Intake</th>\n",
       "      <th>Age upon Intake</th>\n",
       "      <th>Breed</th>\n",
       "      <th>Color</th>\n",
       "      <th>DateTime_out</th>\n",
       "      <th>Outcome Type</th>\n",
       "      <th>Outcome Subtype</th>\n",
       "      <th>shelter_time</th>\n",
       "      <th>shelter_days</th>\n",
       "      <th>Adopt Rating</th>\n",
       "    </tr>\n",
       "  </thead>\n",
       "  <tbody>\n",
       "    <tr>\n",
       "      <th>0</th>\n",
       "      <td>760053</td>\n",
       "      <td>NaN</td>\n",
       "      <td>2017-10-11 15:46:00</td>\n",
       "      <td>10/11/2017 03:46:00 PM</td>\n",
       "      <td>8800 South First Street in Austin (TX)</td>\n",
       "      <td>Stray</td>\n",
       "      <td>Normal</td>\n",
       "      <td>Dog</td>\n",
       "      <td>Intact Male</td>\n",
       "      <td>2 years</td>\n",
       "      <td>Chihuahua Shorthair</td>\n",
       "      <td>White/Tan</td>\n",
       "      <td>2017-10-15 18:30:00</td>\n",
       "      <td>Adoption</td>\n",
       "      <td>NaN</td>\n",
       "      <td>4 days 02:44:00</td>\n",
       "      <td>4</td>\n",
       "      <td>A</td>\n",
       "    </tr>\n",
       "    <tr>\n",
       "      <th>1</th>\n",
       "      <td>707375</td>\n",
       "      <td>*Candy Cane</td>\n",
       "      <td>2015-07-11 18:19:00</td>\n",
       "      <td>07/11/2015 06:19:00 PM</td>\n",
       "      <td>Galilee Court And Damita Jo Dr in Manor (TX)</td>\n",
       "      <td>Stray</td>\n",
       "      <td>Normal</td>\n",
       "      <td>Dog</td>\n",
       "      <td>Intact Female</td>\n",
       "      <td>5 months</td>\n",
       "      <td>Pit Bull</td>\n",
       "      <td>Brown/White</td>\n",
       "      <td>2015-11-28 17:31:00</td>\n",
       "      <td>Adoption</td>\n",
       "      <td>NaN</td>\n",
       "      <td>139 days 23:12:00</td>\n",
       "      <td>13</td>\n",
       "      <td>B</td>\n",
       "    </tr>\n",
       "    <tr>\n",
       "      <th>2</th>\n",
       "      <td>696408</td>\n",
       "      <td>*Pearl</td>\n",
       "      <td>2015-02-04 12:58:00</td>\n",
       "      <td>02/04/2015 12:58:00 PM</td>\n",
       "      <td>9705 Thaxton in Austin (TX)</td>\n",
       "      <td>Stray</td>\n",
       "      <td>Normal</td>\n",
       "      <td>Dog</td>\n",
       "      <td>Intact Female</td>\n",
       "      <td>2 years</td>\n",
       "      <td>Chihuahua Shorthair</td>\n",
       "      <td>Tricolor</td>\n",
       "      <td>2015-05-28 11:24:00</td>\n",
       "      <td>Adoption</td>\n",
       "      <td>Foster</td>\n",
       "      <td>112 days 22:26:00</td>\n",
       "      <td>11</td>\n",
       "      <td>B</td>\n",
       "    </tr>\n",
       "    <tr>\n",
       "      <th>3</th>\n",
       "      <td>697950</td>\n",
       "      <td>NaN</td>\n",
       "      <td>2015-03-04 11:22:00</td>\n",
       "      <td>03/04/2015 11:22:00 AM</td>\n",
       "      <td>1501 S Fm 973 in Austin (TX)</td>\n",
       "      <td>Stray</td>\n",
       "      <td>Normal</td>\n",
       "      <td>Dog</td>\n",
       "      <td>Intact Female</td>\n",
       "      <td>2 months</td>\n",
       "      <td>Australian Cattle Dog/Labrador Retriever</td>\n",
       "      <td>Tan/White</td>\n",
       "      <td>2015-03-08 18:55:00</td>\n",
       "      <td>Adoption</td>\n",
       "      <td>NaN</td>\n",
       "      <td>4 days 07:33:00</td>\n",
       "      <td>4</td>\n",
       "      <td>A</td>\n",
       "    </tr>\n",
       "    <tr>\n",
       "      <th>4</th>\n",
       "      <td>759935</td>\n",
       "      <td>Dieve</td>\n",
       "      <td>2017-10-09 22:39:00</td>\n",
       "      <td>10/09/2017 10:39:00 PM</td>\n",
       "      <td>4800 Cottonwood St in Austin (TX)</td>\n",
       "      <td>Stray</td>\n",
       "      <td>Normal</td>\n",
       "      <td>Dog</td>\n",
       "      <td>Intact Female</td>\n",
       "      <td>1 month</td>\n",
       "      <td>Labrador Retriever Mix</td>\n",
       "      <td>Black</td>\n",
       "      <td>2017-10-17 18:18:00</td>\n",
       "      <td>Adoption</td>\n",
       "      <td>NaN</td>\n",
       "      <td>7 days 19:39:00</td>\n",
       "      <td>7</td>\n",
       "      <td>B</td>\n",
       "    </tr>\n",
       "  </tbody>\n",
       "</table>\n",
       "</div>"
      ],
      "text/plain": [
       "   Animal ID         Name             DateTime               MonthYear  \\\n",
       "0     760053          NaN  2017-10-11 15:46:00  10/11/2017 03:46:00 PM   \n",
       "1     707375  *Candy Cane  2015-07-11 18:19:00  07/11/2015 06:19:00 PM   \n",
       "2     696408       *Pearl  2015-02-04 12:58:00  02/04/2015 12:58:00 PM   \n",
       "3     697950          NaN  2015-03-04 11:22:00  03/04/2015 11:22:00 AM   \n",
       "4     759935        Dieve  2017-10-09 22:39:00  10/09/2017 10:39:00 PM   \n",
       "\n",
       "                                 Found Location Intake Type Intake Condition  \\\n",
       "0        8800 South First Street in Austin (TX)       Stray           Normal   \n",
       "1  Galilee Court And Damita Jo Dr in Manor (TX)       Stray           Normal   \n",
       "2                   9705 Thaxton in Austin (TX)       Stray           Normal   \n",
       "3                  1501 S Fm 973 in Austin (TX)       Stray           Normal   \n",
       "4             4800 Cottonwood St in Austin (TX)       Stray           Normal   \n",
       "\n",
       "  Animal Type Sex upon Intake Age upon Intake  \\\n",
       "0         Dog     Intact Male         2 years   \n",
       "1         Dog   Intact Female        5 months   \n",
       "2         Dog   Intact Female         2 years   \n",
       "3         Dog   Intact Female        2 months   \n",
       "4         Dog   Intact Female         1 month   \n",
       "\n",
       "                                      Breed        Color         DateTime_out  \\\n",
       "0                       Chihuahua Shorthair    White/Tan  2017-10-15 18:30:00   \n",
       "1                                  Pit Bull  Brown/White  2015-11-28 17:31:00   \n",
       "2                       Chihuahua Shorthair     Tricolor  2015-05-28 11:24:00   \n",
       "3  Australian Cattle Dog/Labrador Retriever    Tan/White  2015-03-08 18:55:00   \n",
       "4                    Labrador Retriever Mix        Black  2017-10-17 18:18:00   \n",
       "\n",
       "  Outcome Type Outcome Subtype       shelter_time  shelter_days Adopt Rating  \n",
       "0     Adoption             NaN    4 days 02:44:00             4            A  \n",
       "1     Adoption             NaN  139 days 23:12:00            13            B  \n",
       "2     Adoption          Foster  112 days 22:26:00            11            B  \n",
       "3     Adoption             NaN    4 days 07:33:00             4            A  \n",
       "4     Adoption             NaN    7 days 19:39:00             7            B  "
      ]
     },
     "execution_count": 27,
     "metadata": {},
     "output_type": "execute_result"
    }
   ],
   "source": [
    "adopted_dogs.head()"
   ]
  },
  {
   "cell_type": "code",
   "execution_count": 28,
   "id": "atmospheric-letters",
   "metadata": {},
   "outputs": [],
   "source": [
    "adopted_birds.loc[adopted_birds[\"shelter_days\"].isin([0,1]), \"Adopt Rating\"] = \"AA\"\n",
    "adopted_birds.loc[adopted_birds[\"shelter_days\"].isin([2,3,4,5]), \"Adopt Rating\"] = \"A\"\n",
    "adopted_birds.loc[adopted_birds[\"shelter_days\"].isin([6,7,8,9,10,11,12,13,14]), \"Adopt Rating\"] = \"B\"\n",
    "adopted_birds.loc[adopted_birds[\"shelter_days\"].isin([15,16,17,18,19,20,21,22,23,24,25,26,27,28,29,30]), \"Adopt Rating\"] = \"C\"\n",
    "adopted_birds.loc[adopted_birds[\"shelter_days\"].isin([31,32,33,34,35,36,37,38,39,40,41,42,43,44,45,46,47,48,49,50,51,52,53,54,55,56,57,58,59,60]), \"Adopt Rating\"] = \"D\"\n",
    "adopted_birds.loc[adopted_birds[\"shelter_days\"].isin([61,62,63,64,65,66,67,68,69,70,71,72,73,74,75,76,77,78,79,80,81,82,83,84,85,86,87,88,89,90,91,92,93,94,95,96,97,98,99]), \"Adopt Rating\"] = \"F\""
   ]
  },
  {
   "cell_type": "code",
   "execution_count": 29,
   "id": "smooth-longer",
   "metadata": {},
   "outputs": [
    {
     "data": {
      "text/html": [
       "<div>\n",
       "<style scoped>\n",
       "    .dataframe tbody tr th:only-of-type {\n",
       "        vertical-align: middle;\n",
       "    }\n",
       "\n",
       "    .dataframe tbody tr th {\n",
       "        vertical-align: top;\n",
       "    }\n",
       "\n",
       "    .dataframe thead th {\n",
       "        text-align: right;\n",
       "    }\n",
       "</style>\n",
       "<table border=\"1\" class=\"dataframe\">\n",
       "  <thead>\n",
       "    <tr style=\"text-align: right;\">\n",
       "      <th></th>\n",
       "      <th>Animal ID</th>\n",
       "      <th>Name</th>\n",
       "      <th>DateTime</th>\n",
       "      <th>MonthYear</th>\n",
       "      <th>Found Location</th>\n",
       "      <th>Intake Type</th>\n",
       "      <th>Intake Condition</th>\n",
       "      <th>Animal Type</th>\n",
       "      <th>Sex upon Intake</th>\n",
       "      <th>Age upon Intake</th>\n",
       "      <th>Breed</th>\n",
       "      <th>Color</th>\n",
       "      <th>DateTime_out</th>\n",
       "      <th>Outcome Type</th>\n",
       "      <th>Outcome Subtype</th>\n",
       "      <th>shelter_time</th>\n",
       "      <th>shelter_days</th>\n",
       "      <th>Adopt Rating</th>\n",
       "    </tr>\n",
       "  </thead>\n",
       "  <tbody>\n",
       "    <tr>\n",
       "      <th>0</th>\n",
       "      <td>825547</td>\n",
       "      <td>NaN</td>\n",
       "      <td>2020-11-05 21:50:00</td>\n",
       "      <td>11/05/2020 09:50:00 PM</td>\n",
       "      <td>4800 Hale in Austin (TX)</td>\n",
       "      <td>Public Assist</td>\n",
       "      <td>Normal</td>\n",
       "      <td>Bird</td>\n",
       "      <td>Unknown</td>\n",
       "      <td>1 year</td>\n",
       "      <td>Cockatiel</td>\n",
       "      <td>White/Yellow</td>\n",
       "      <td>2020-11-14 13:19:00</td>\n",
       "      <td>Adoption</td>\n",
       "      <td>NaN</td>\n",
       "      <td>8 days 15:29:00</td>\n",
       "      <td>8</td>\n",
       "      <td>B</td>\n",
       "    </tr>\n",
       "    <tr>\n",
       "      <th>1</th>\n",
       "      <td>787329</td>\n",
       "      <td>NaN</td>\n",
       "      <td>2019-01-11 12:21:00</td>\n",
       "      <td>01/11/2019 12:21:00 PM</td>\n",
       "      <td>Austin (TX)</td>\n",
       "      <td>Owner Surrender</td>\n",
       "      <td>Normal</td>\n",
       "      <td>Bird</td>\n",
       "      <td>Unknown</td>\n",
       "      <td>1 year</td>\n",
       "      <td>Parakeet Mix</td>\n",
       "      <td>Yellow</td>\n",
       "      <td>2019-01-13 16:21:00</td>\n",
       "      <td>Adoption</td>\n",
       "      <td>NaN</td>\n",
       "      <td>2 days 04:00:00</td>\n",
       "      <td>2</td>\n",
       "      <td>A</td>\n",
       "    </tr>\n",
       "    <tr>\n",
       "      <th>2</th>\n",
       "      <td>720718</td>\n",
       "      <td>Tito</td>\n",
       "      <td>2016-02-14 16:02:00</td>\n",
       "      <td>02/14/2016 04:02:00 PM</td>\n",
       "      <td>21413 Webber Oaks Cv in Travis (TX)</td>\n",
       "      <td>Public Assist</td>\n",
       "      <td>Normal</td>\n",
       "      <td>Bird</td>\n",
       "      <td>Intact Male</td>\n",
       "      <td>1 year</td>\n",
       "      <td>Chicken Mix</td>\n",
       "      <td>Black/Yellow</td>\n",
       "      <td>2016-03-08 14:20:00</td>\n",
       "      <td>Adoption</td>\n",
       "      <td>NaN</td>\n",
       "      <td>22 days 22:18:00</td>\n",
       "      <td>22</td>\n",
       "      <td>C</td>\n",
       "    </tr>\n",
       "    <tr>\n",
       "      <th>3</th>\n",
       "      <td>822864</td>\n",
       "      <td>NaN</td>\n",
       "      <td>2020-09-10 17:24:00</td>\n",
       "      <td>09/10/2020 05:24:00 PM</td>\n",
       "      <td>4301 S Ih 35 Frontage Rd in Austin (TX)</td>\n",
       "      <td>Stray</td>\n",
       "      <td>Normal</td>\n",
       "      <td>Bird</td>\n",
       "      <td>Unknown</td>\n",
       "      <td>2 years</td>\n",
       "      <td>Cockatiel</td>\n",
       "      <td>Yellow/White</td>\n",
       "      <td>2020-09-19 11:34:00</td>\n",
       "      <td>Adoption</td>\n",
       "      <td>Foster</td>\n",
       "      <td>8 days 18:10:00</td>\n",
       "      <td>8</td>\n",
       "      <td>B</td>\n",
       "    </tr>\n",
       "    <tr>\n",
       "      <th>4</th>\n",
       "      <td>751514</td>\n",
       "      <td>Starlight</td>\n",
       "      <td>2017-06-09 10:34:00</td>\n",
       "      <td>06/09/2017 10:34:00 AM</td>\n",
       "      <td>12120 Manchaca Rd in Austin (TX)</td>\n",
       "      <td>Owner Surrender</td>\n",
       "      <td>Normal</td>\n",
       "      <td>Bird</td>\n",
       "      <td>Unknown</td>\n",
       "      <td>5 months</td>\n",
       "      <td>Chicken Mix</td>\n",
       "      <td>Red</td>\n",
       "      <td>2017-06-10 10:42:00</td>\n",
       "      <td>Adoption</td>\n",
       "      <td>Offsite</td>\n",
       "      <td>1 days 00:08:00</td>\n",
       "      <td>1</td>\n",
       "      <td>AA</td>\n",
       "    </tr>\n",
       "  </tbody>\n",
       "</table>\n",
       "</div>"
      ],
      "text/plain": [
       "   Animal ID       Name             DateTime               MonthYear  \\\n",
       "0     825547        NaN  2020-11-05 21:50:00  11/05/2020 09:50:00 PM   \n",
       "1     787329        NaN  2019-01-11 12:21:00  01/11/2019 12:21:00 PM   \n",
       "2     720718       Tito  2016-02-14 16:02:00  02/14/2016 04:02:00 PM   \n",
       "3     822864        NaN  2020-09-10 17:24:00  09/10/2020 05:24:00 PM   \n",
       "4     751514  Starlight  2017-06-09 10:34:00  06/09/2017 10:34:00 AM   \n",
       "\n",
       "                            Found Location      Intake Type Intake Condition  \\\n",
       "0                 4800 Hale in Austin (TX)    Public Assist           Normal   \n",
       "1                              Austin (TX)  Owner Surrender           Normal   \n",
       "2      21413 Webber Oaks Cv in Travis (TX)    Public Assist           Normal   \n",
       "3  4301 S Ih 35 Frontage Rd in Austin (TX)            Stray           Normal   \n",
       "4         12120 Manchaca Rd in Austin (TX)  Owner Surrender           Normal   \n",
       "\n",
       "  Animal Type Sex upon Intake Age upon Intake         Breed         Color  \\\n",
       "0        Bird         Unknown          1 year     Cockatiel  White/Yellow   \n",
       "1        Bird         Unknown          1 year  Parakeet Mix        Yellow   \n",
       "2        Bird     Intact Male          1 year   Chicken Mix  Black/Yellow   \n",
       "3        Bird         Unknown         2 years     Cockatiel  Yellow/White   \n",
       "4        Bird         Unknown        5 months   Chicken Mix           Red   \n",
       "\n",
       "          DateTime_out Outcome Type Outcome Subtype      shelter_time  \\\n",
       "0  2020-11-14 13:19:00     Adoption             NaN   8 days 15:29:00   \n",
       "1  2019-01-13 16:21:00     Adoption             NaN   2 days 04:00:00   \n",
       "2  2016-03-08 14:20:00     Adoption             NaN  22 days 22:18:00   \n",
       "3  2020-09-19 11:34:00     Adoption          Foster   8 days 18:10:00   \n",
       "4  2017-06-10 10:42:00     Adoption         Offsite   1 days 00:08:00   \n",
       "\n",
       "   shelter_days Adopt Rating  \n",
       "0             8            B  \n",
       "1             2            A  \n",
       "2            22            C  \n",
       "3             8            B  \n",
       "4             1           AA  "
      ]
     },
     "execution_count": 29,
     "metadata": {},
     "output_type": "execute_result"
    }
   ],
   "source": [
    "adopted_birds.head()"
   ]
  },
  {
   "cell_type": "code",
   "execution_count": 30,
   "id": "tough-twist",
   "metadata": {},
   "outputs": [],
   "source": [
    "adopted_livestock.loc[adopted_livestock[\"shelter_days\"].isin([0,1]), \"Adopt Rating\"] = \"AA\"\n",
    "adopted_livestock.loc[adopted_livestock[\"shelter_days\"].isin([2,3,4,5]), \"Adopt Rating\"] = \"A\"\n",
    "adopted_livestock.loc[adopted_livestock[\"shelter_days\"].isin([6,7,8,9,10,11,12,13,14]), \"Adopt Rating\"] = \"B\"\n",
    "adopted_livestock.loc[adopted_livestock[\"shelter_days\"].isin([15,16,17,18,19,20,21,22,23,24,25,26,27,28,29,30]), \"Adopt Rating\"] = \"C\"\n",
    "adopted_livestock.loc[adopted_livestock[\"shelter_days\"].isin([31,32,33,34,35,36,37,38,39,40,41,42,43,44,45,46,47,48,49,50,51,52,53,54,55,56,57,58,59,60]), \"Adopt Rating\"] = \"D\"\n",
    "adopted_livestock.loc[adopted_livestock[\"shelter_days\"].isin([61,62,63,64,65,66,67,68,69,70,71,72,73,74,75,76,77,78,79,80,81,82,83,84,85,86,87,88,89,90,91,92,93,94,95,96,97,98,99]), \"Adopt Rating\"] = \"F\""
   ]
  },
  {
   "cell_type": "code",
   "execution_count": 31,
   "id": "amino-august",
   "metadata": {},
   "outputs": [
    {
     "data": {
      "text/html": [
       "<div>\n",
       "<style scoped>\n",
       "    .dataframe tbody tr th:only-of-type {\n",
       "        vertical-align: middle;\n",
       "    }\n",
       "\n",
       "    .dataframe tbody tr th {\n",
       "        vertical-align: top;\n",
       "    }\n",
       "\n",
       "    .dataframe thead th {\n",
       "        text-align: right;\n",
       "    }\n",
       "</style>\n",
       "<table border=\"1\" class=\"dataframe\">\n",
       "  <thead>\n",
       "    <tr style=\"text-align: right;\">\n",
       "      <th></th>\n",
       "      <th>Animal ID</th>\n",
       "      <th>Name</th>\n",
       "      <th>DateTime</th>\n",
       "      <th>MonthYear</th>\n",
       "      <th>Found Location</th>\n",
       "      <th>Intake Type</th>\n",
       "      <th>Intake Condition</th>\n",
       "      <th>Animal Type</th>\n",
       "      <th>Sex upon Intake</th>\n",
       "      <th>Age upon Intake</th>\n",
       "      <th>Breed</th>\n",
       "      <th>Color</th>\n",
       "      <th>DateTime_out</th>\n",
       "      <th>Outcome Type</th>\n",
       "      <th>Outcome Subtype</th>\n",
       "      <th>shelter_time</th>\n",
       "      <th>shelter_days</th>\n",
       "      <th>Adopt Rating</th>\n",
       "    </tr>\n",
       "  </thead>\n",
       "  <tbody>\n",
       "    <tr>\n",
       "      <th>0</th>\n",
       "      <td>778971</td>\n",
       "      <td>NaN</td>\n",
       "      <td>2018-08-23 13:46:00</td>\n",
       "      <td>08/23/2018 01:46:00 PM</td>\n",
       "      <td>4509 E St Elmo in Austin (TX)</td>\n",
       "      <td>Stray</td>\n",
       "      <td>Normal</td>\n",
       "      <td>Livestock</td>\n",
       "      <td>Intact Female</td>\n",
       "      <td>4 months</td>\n",
       "      <td>Pig Mix</td>\n",
       "      <td>Gray/Black</td>\n",
       "      <td>2019-04-02 11:35:00</td>\n",
       "      <td>Adoption</td>\n",
       "      <td>Foster</td>\n",
       "      <td>221 days 21:49:00</td>\n",
       "      <td>22</td>\n",
       "      <td>C</td>\n",
       "    </tr>\n",
       "    <tr>\n",
       "      <th>1</th>\n",
       "      <td>674214</td>\n",
       "      <td>NaN</td>\n",
       "      <td>2014-03-09 16:45:00</td>\n",
       "      <td>03/09/2014 04:45:00 PM</td>\n",
       "      <td>Davis Ln  &amp; Brodie Ln in Austin (TX)</td>\n",
       "      <td>Stray</td>\n",
       "      <td>Normal</td>\n",
       "      <td>Livestock</td>\n",
       "      <td>Unknown</td>\n",
       "      <td>2 weeks</td>\n",
       "      <td>Pig Mix</td>\n",
       "      <td>Black</td>\n",
       "      <td>2014-03-29 14:00:00</td>\n",
       "      <td>Adoption</td>\n",
       "      <td>Foster</td>\n",
       "      <td>19 days 21:15:00</td>\n",
       "      <td>19</td>\n",
       "      <td>C</td>\n",
       "    </tr>\n",
       "    <tr>\n",
       "      <th>2</th>\n",
       "      <td>778432</td>\n",
       "      <td>NaN</td>\n",
       "      <td>2018-08-14 16:32:00</td>\n",
       "      <td>08/14/2018 04:32:00 PM</td>\n",
       "      <td>600 West William Cannon Drive in Austin (TX)</td>\n",
       "      <td>Stray</td>\n",
       "      <td>Normal</td>\n",
       "      <td>Livestock</td>\n",
       "      <td>Intact Female</td>\n",
       "      <td>3 months</td>\n",
       "      <td>Pig Mix</td>\n",
       "      <td>White/Black</td>\n",
       "      <td>2019-04-02 11:35:00</td>\n",
       "      <td>Adoption</td>\n",
       "      <td>Foster</td>\n",
       "      <td>230 days 19:03:00</td>\n",
       "      <td>23</td>\n",
       "      <td>C</td>\n",
       "    </tr>\n",
       "    <tr>\n",
       "      <th>3</th>\n",
       "      <td>811675</td>\n",
       "      <td>NaN</td>\n",
       "      <td>2020-01-07 15:56:00</td>\n",
       "      <td>01/07/2020 03:56:00 PM</td>\n",
       "      <td>1012 Arthur Stiles Rd in Austin (TX)</td>\n",
       "      <td>Stray</td>\n",
       "      <td>Normal</td>\n",
       "      <td>Livestock</td>\n",
       "      <td>Intact Female</td>\n",
       "      <td>2 years</td>\n",
       "      <td>Goat</td>\n",
       "      <td>Black/White</td>\n",
       "      <td>2020-07-22 11:46:00</td>\n",
       "      <td>Adoption</td>\n",
       "      <td>Foster</td>\n",
       "      <td>196 days 19:50:00</td>\n",
       "      <td>19</td>\n",
       "      <td>C</td>\n",
       "    </tr>\n",
       "    <tr>\n",
       "      <th>4</th>\n",
       "      <td>808934</td>\n",
       "      <td>NaN</td>\n",
       "      <td>2019-11-16 13:10:00</td>\n",
       "      <td>11/16/2019 01:10:00 PM</td>\n",
       "      <td>East Martin Luther King Boulevard And Greenwoo...</td>\n",
       "      <td>Stray</td>\n",
       "      <td>Normal</td>\n",
       "      <td>Livestock</td>\n",
       "      <td>Unknown</td>\n",
       "      <td>3 months</td>\n",
       "      <td>Pig</td>\n",
       "      <td>Pink</td>\n",
       "      <td>2020-08-21 13:25:00</td>\n",
       "      <td>Adoption</td>\n",
       "      <td>Foster</td>\n",
       "      <td>279 days 00:15:00</td>\n",
       "      <td>27</td>\n",
       "      <td>C</td>\n",
       "    </tr>\n",
       "  </tbody>\n",
       "</table>\n",
       "</div>"
      ],
      "text/plain": [
       "   Animal ID  Name             DateTime               MonthYear  \\\n",
       "0     778971   NaN  2018-08-23 13:46:00  08/23/2018 01:46:00 PM   \n",
       "1     674214   NaN  2014-03-09 16:45:00  03/09/2014 04:45:00 PM   \n",
       "2     778432   NaN  2018-08-14 16:32:00  08/14/2018 04:32:00 PM   \n",
       "3     811675   NaN  2020-01-07 15:56:00  01/07/2020 03:56:00 PM   \n",
       "4     808934   NaN  2019-11-16 13:10:00  11/16/2019 01:10:00 PM   \n",
       "\n",
       "                                      Found Location Intake Type  \\\n",
       "0                      4509 E St Elmo in Austin (TX)       Stray   \n",
       "1               Davis Ln  & Brodie Ln in Austin (TX)       Stray   \n",
       "2       600 West William Cannon Drive in Austin (TX)       Stray   \n",
       "3               1012 Arthur Stiles Rd in Austin (TX)       Stray   \n",
       "4  East Martin Luther King Boulevard And Greenwoo...       Stray   \n",
       "\n",
       "  Intake Condition Animal Type Sex upon Intake Age upon Intake    Breed  \\\n",
       "0           Normal   Livestock   Intact Female        4 months  Pig Mix   \n",
       "1           Normal   Livestock         Unknown         2 weeks  Pig Mix   \n",
       "2           Normal   Livestock   Intact Female        3 months  Pig Mix   \n",
       "3           Normal   Livestock   Intact Female         2 years     Goat   \n",
       "4           Normal   Livestock         Unknown        3 months      Pig   \n",
       "\n",
       "         Color         DateTime_out Outcome Type Outcome Subtype  \\\n",
       "0   Gray/Black  2019-04-02 11:35:00     Adoption          Foster   \n",
       "1        Black  2014-03-29 14:00:00     Adoption          Foster   \n",
       "2  White/Black  2019-04-02 11:35:00     Adoption          Foster   \n",
       "3  Black/White  2020-07-22 11:46:00     Adoption          Foster   \n",
       "4         Pink  2020-08-21 13:25:00     Adoption          Foster   \n",
       "\n",
       "        shelter_time  shelter_days Adopt Rating  \n",
       "0  221 days 21:49:00            22            C  \n",
       "1   19 days 21:15:00            19            C  \n",
       "2  230 days 19:03:00            23            C  \n",
       "3  196 days 19:50:00            19            C  \n",
       "4  279 days 00:15:00            27            C  "
      ]
     },
     "execution_count": 31,
     "metadata": {},
     "output_type": "execute_result"
    }
   ],
   "source": [
    "adopted_livestock.head()"
   ]
  },
  {
   "cell_type": "code",
   "execution_count": 32,
   "id": "legislative-greece",
   "metadata": {},
   "outputs": [],
   "source": [
    "adopted_other.loc[adopted_other[\"shelter_days\"].isin([0,1]), \"Adopt Rating\"] = \"AA\"\n",
    "adopted_other.loc[adopted_other[\"shelter_days\"].isin([2,3,4,5]), \"Adopt Rating\"] = \"A\"\n",
    "adopted_other.loc[adopted_other[\"shelter_days\"].isin([6,7,8,9,10,11,12,13,14]), \"Adopt Rating\"] = \"B\"\n",
    "adopted_other.loc[adopted_other[\"shelter_days\"].isin([15,16,17,18,19,20,21,22,23,24,25,26,27,28,29,30]), \"Adopt Rating\"] = \"C\"\n",
    "adopted_other.loc[adopted_other[\"shelter_days\"].isin([31,32,33,34,35,36,37,38,39,40,41,42,43,44,45,46,47,48,49,50,51,52,53,54,55,56,57,58,59,60]), \"Adopt Rating\"] = \"D\"\n",
    "adopted_other.loc[adopted_other[\"shelter_days\"].isin([61,62,63,64,65,66,67,68,69,70,71,72,73,74,75,76,77,78,79,80,81,82,83,84,85,86,87,88,89,90,91,92,93,94,95,96,97,98,99]), \"Adopt Rating\"] = \"F\""
   ]
  },
  {
   "cell_type": "code",
   "execution_count": 33,
   "id": "general-chile",
   "metadata": {},
   "outputs": [
    {
     "data": {
      "text/html": [
       "<div>\n",
       "<style scoped>\n",
       "    .dataframe tbody tr th:only-of-type {\n",
       "        vertical-align: middle;\n",
       "    }\n",
       "\n",
       "    .dataframe tbody tr th {\n",
       "        vertical-align: top;\n",
       "    }\n",
       "\n",
       "    .dataframe thead th {\n",
       "        text-align: right;\n",
       "    }\n",
       "</style>\n",
       "<table border=\"1\" class=\"dataframe\">\n",
       "  <thead>\n",
       "    <tr style=\"text-align: right;\">\n",
       "      <th></th>\n",
       "      <th>Animal ID</th>\n",
       "      <th>Name</th>\n",
       "      <th>DateTime</th>\n",
       "      <th>MonthYear</th>\n",
       "      <th>Found Location</th>\n",
       "      <th>Intake Type</th>\n",
       "      <th>Intake Condition</th>\n",
       "      <th>Animal Type</th>\n",
       "      <th>Sex upon Intake</th>\n",
       "      <th>Age upon Intake</th>\n",
       "      <th>Breed</th>\n",
       "      <th>Color</th>\n",
       "      <th>DateTime_out</th>\n",
       "      <th>Outcome Type</th>\n",
       "      <th>Outcome Subtype</th>\n",
       "      <th>shelter_time</th>\n",
       "      <th>shelter_days</th>\n",
       "      <th>Adopt Rating</th>\n",
       "    </tr>\n",
       "  </thead>\n",
       "  <tbody>\n",
       "    <tr>\n",
       "      <th>0</th>\n",
       "      <td>763638</td>\n",
       "      <td>Kiwi</td>\n",
       "      <td>2017-12-12 15:24:00</td>\n",
       "      <td>12/12/2017 03:24:00 PM</td>\n",
       "      <td>Austin (TX)</td>\n",
       "      <td>Owner Surrender</td>\n",
       "      <td>Normal</td>\n",
       "      <td>Other</td>\n",
       "      <td>Intact Female</td>\n",
       "      <td>8 months</td>\n",
       "      <td>Cinnamon</td>\n",
       "      <td>Gray</td>\n",
       "      <td>2018-01-13 14:32:00</td>\n",
       "      <td>Adoption</td>\n",
       "      <td>NaN</td>\n",
       "      <td>31 days 23:08:00</td>\n",
       "      <td>31</td>\n",
       "      <td>D</td>\n",
       "    </tr>\n",
       "    <tr>\n",
       "      <th>1</th>\n",
       "      <td>758257</td>\n",
       "      <td>*Cosmo</td>\n",
       "      <td>2017-09-13 12:29:00</td>\n",
       "      <td>09/13/2017 12:29:00 PM</td>\n",
       "      <td>Austin (TX)</td>\n",
       "      <td>Owner Surrender</td>\n",
       "      <td>Normal</td>\n",
       "      <td>Other</td>\n",
       "      <td>Intact Male</td>\n",
       "      <td>5 months</td>\n",
       "      <td>Dutch/Angora-Satin</td>\n",
       "      <td>Black/White</td>\n",
       "      <td>2017-10-01 16:42:00</td>\n",
       "      <td>Adoption</td>\n",
       "      <td>NaN</td>\n",
       "      <td>18 days 04:13:00</td>\n",
       "      <td>18</td>\n",
       "      <td>C</td>\n",
       "    </tr>\n",
       "    <tr>\n",
       "      <th>2</th>\n",
       "      <td>755830</td>\n",
       "      <td>*Moana</td>\n",
       "      <td>2017-08-09 14:09:00</td>\n",
       "      <td>08/09/2017 02:09:00 PM</td>\n",
       "      <td>5704 Parkwood Drive in Austin (TX)</td>\n",
       "      <td>Owner Surrender</td>\n",
       "      <td>Normal</td>\n",
       "      <td>Other</td>\n",
       "      <td>Spayed Female</td>\n",
       "      <td>3 years</td>\n",
       "      <td>Rabbit Sh Mix</td>\n",
       "      <td>Tortie</td>\n",
       "      <td>2017-09-23 17:24:00</td>\n",
       "      <td>Adoption</td>\n",
       "      <td>NaN</td>\n",
       "      <td>45 days 03:15:00</td>\n",
       "      <td>45</td>\n",
       "      <td>D</td>\n",
       "    </tr>\n",
       "    <tr>\n",
       "      <th>3</th>\n",
       "      <td>803767</td>\n",
       "      <td>NaN</td>\n",
       "      <td>2019-09-05 17:41:00</td>\n",
       "      <td>09/05/2019 05:41:00 PM</td>\n",
       "      <td>969 And Imperial Drive in Austin (TX)</td>\n",
       "      <td>Stray</td>\n",
       "      <td>Normal</td>\n",
       "      <td>Other</td>\n",
       "      <td>Intact Male</td>\n",
       "      <td>1 year</td>\n",
       "      <td>Guinea Pig</td>\n",
       "      <td>Brown/White</td>\n",
       "      <td>2019-09-09 18:32:00</td>\n",
       "      <td>Adoption</td>\n",
       "      <td>NaN</td>\n",
       "      <td>4 days 00:51:00</td>\n",
       "      <td>4</td>\n",
       "      <td>A</td>\n",
       "    </tr>\n",
       "    <tr>\n",
       "      <th>4</th>\n",
       "      <td>752640</td>\n",
       "      <td>*Otter</td>\n",
       "      <td>2017-06-25 13:19:00</td>\n",
       "      <td>06/25/2017 01:19:00 PM</td>\n",
       "      <td>10000 Research Blvd in Austin (TX)</td>\n",
       "      <td>Stray</td>\n",
       "      <td>Normal</td>\n",
       "      <td>Other</td>\n",
       "      <td>Intact Male</td>\n",
       "      <td>1 year</td>\n",
       "      <td>Rex</td>\n",
       "      <td>Black/White</td>\n",
       "      <td>2017-07-07 12:45:00</td>\n",
       "      <td>Adoption</td>\n",
       "      <td>NaN</td>\n",
       "      <td>11 days 23:26:00</td>\n",
       "      <td>11</td>\n",
       "      <td>B</td>\n",
       "    </tr>\n",
       "  </tbody>\n",
       "</table>\n",
       "</div>"
      ],
      "text/plain": [
       "   Animal ID    Name             DateTime               MonthYear  \\\n",
       "0     763638    Kiwi  2017-12-12 15:24:00  12/12/2017 03:24:00 PM   \n",
       "1     758257  *Cosmo  2017-09-13 12:29:00  09/13/2017 12:29:00 PM   \n",
       "2     755830  *Moana  2017-08-09 14:09:00  08/09/2017 02:09:00 PM   \n",
       "3     803767     NaN  2019-09-05 17:41:00  09/05/2019 05:41:00 PM   \n",
       "4     752640  *Otter  2017-06-25 13:19:00  06/25/2017 01:19:00 PM   \n",
       "\n",
       "                          Found Location      Intake Type Intake Condition  \\\n",
       "0                            Austin (TX)  Owner Surrender           Normal   \n",
       "1                            Austin (TX)  Owner Surrender           Normal   \n",
       "2     5704 Parkwood Drive in Austin (TX)  Owner Surrender           Normal   \n",
       "3  969 And Imperial Drive in Austin (TX)            Stray           Normal   \n",
       "4     10000 Research Blvd in Austin (TX)            Stray           Normal   \n",
       "\n",
       "  Animal Type Sex upon Intake Age upon Intake               Breed  \\\n",
       "0       Other   Intact Female        8 months            Cinnamon   \n",
       "1       Other     Intact Male        5 months  Dutch/Angora-Satin   \n",
       "2       Other   Spayed Female         3 years       Rabbit Sh Mix   \n",
       "3       Other     Intact Male          1 year          Guinea Pig   \n",
       "4       Other     Intact Male          1 year                 Rex   \n",
       "\n",
       "         Color         DateTime_out Outcome Type Outcome Subtype  \\\n",
       "0         Gray  2018-01-13 14:32:00     Adoption             NaN   \n",
       "1  Black/White  2017-10-01 16:42:00     Adoption             NaN   \n",
       "2       Tortie  2017-09-23 17:24:00     Adoption             NaN   \n",
       "3  Brown/White  2019-09-09 18:32:00     Adoption             NaN   \n",
       "4  Black/White  2017-07-07 12:45:00     Adoption             NaN   \n",
       "\n",
       "       shelter_time  shelter_days Adopt Rating  \n",
       "0  31 days 23:08:00            31            D  \n",
       "1  18 days 04:13:00            18            C  \n",
       "2  45 days 03:15:00            45            D  \n",
       "3   4 days 00:51:00             4            A  \n",
       "4  11 days 23:26:00            11            B  "
      ]
     },
     "execution_count": 33,
     "metadata": {},
     "output_type": "execute_result"
    }
   ],
   "source": [
    "adopted_other.head()"
   ]
  },
  {
   "cell_type": "code",
   "execution_count": 34,
   "id": "female-allocation",
   "metadata": {},
   "outputs": [
    {
     "data": {
      "text/plain": [
       "Text(0, 0.5, 'Count')"
      ]
     },
     "execution_count": 34,
     "metadata": {},
     "output_type": "execute_result"
    },
    {
     "data": {
      "image/png": "[encoded data removed]",
      "text/plain": [
       "<Figure size 432x288 with 1 Axes>"
      ]
     },
     "metadata": {
      "needs_background": "light"
     },
     "output_type": "display_data"
    }
   ],
   "source": [
    "dogadoption_speed = adopted_dogs.groupby(\"Adopt Rating\")\n",
    "\n",
    "dogspeed_data = dogadoption_speed[\"Adopt Rating\"].count()\n",
    "\n",
    "ax1 = dogspeed_data.plot.bar(facecolor='magenta',title=\"Adoption Ratings\")\n",
    "ax1.set_xlabel(\"Rating\")\n",
    "ax1.set_ylabel(\"Count\")"
   ]
  },
  {
   "cell_type": "code",
   "execution_count": 35,
   "id": "physical-marsh",
   "metadata": {},
   "outputs": [
    {
     "data": {
      "text/plain": [
       "Text(0, 0.5, 'Count')"
      ]
     },
     "execution_count": 35,
     "metadata": {},
     "output_type": "execute_result"
    },
    {
     "data": {
      "image/png": "[encoded data removed]",
      "text/plain": [
       "<Figure size 432x288 with 1 Axes>"
      ]
     },
     "metadata": {
      "needs_background": "light"
     },
     "output_type": "display_data"
    }
   ],
   "source": [
    "dogadopted_breeds = adopted_dogs.groupby(\"Breed\")\n",
    "\n",
    "dogbreed_data = dogadopted_breeds[\"Breed\"].count()\n",
    "\n",
    "ax1 = dogbreed_data.plot.bar(facecolor='purple',title=\"Adopted Breeds\")\n",
    "ax1.set_xlabel(\"Breed\")\n",
    "ax1.set_ylabel(\"Count\")"
   ]
  },
  {
   "cell_type": "code",
   "execution_count": 36,
   "id": "drawn-defense",
   "metadata": {},
   "outputs": [
    {
     "data": {
      "text/plain": [
       "Text(0, 0.5, 'Count')"
      ]
     },
     "execution_count": 36,
     "metadata": {},
     "output_type": "execute_result"
    },
    {
     "data": {
      "image/png": "[encoded data removed]",
      "text/plain": [
       "<Figure size 432x288 with 1 Axes>"
      ]
     },
     "metadata": {
      "needs_background": "light"
     },
     "output_type": "display_data"
    }
   ],
   "source": [
    "birdadoption_speed = adopted_birds.groupby(\"Adopt Rating\")\n",
    "\n",
    "birdspeed_data = birdadoption_speed[\"Adopt Rating\"].count()\n",
    "\n",
    "ax1 = birdspeed_data.plot.bar(facecolor='magenta',title=\"Adoption Ratings\")\n",
    "ax1.set_xlabel(\"Rating\")\n",
    "ax1.set_ylabel(\"Count\")"
   ]
  },
  {
   "cell_type": "code",
   "execution_count": 37,
   "id": "functional-gabriel",
   "metadata": {},
   "outputs": [
    {
     "data": {
      "text/plain": [
       "Text(0, 0.5, 'Count')"
      ]
     },
     "execution_count": 37,
     "metadata": {},
     "output_type": "execute_result"
    },
    {
     "data": {
      "image/png": "[encoded data removed]",
      "text/plain": [
       "<Figure size 432x288 with 1 Axes>"
      ]
     },
     "metadata": {
      "needs_background": "light"
     },
     "output_type": "display_data"
    }
   ],
   "source": [
    "birdadopted_breeds = adopted_birds.groupby(\"Breed\")\n",
    "\n",
    "birdbreed_data = birdadopted_breeds[\"Breed\"].count()\n",
    "\n",
    "ax1 = birdbreed_data.plot.bar(facecolor='purple',title=\"Adopted Breeds\")\n",
    "ax1.set_xlabel(\"Breed\")\n",
    "ax1.set_ylabel(\"Count\")"
   ]
  },
  {
   "cell_type": "code",
   "execution_count": 38,
   "id": "varying-truck",
   "metadata": {},
   "outputs": [
    {
     "data": {
      "text/plain": [
       "Text(0, 0.5, 'Count')"
      ]
     },
     "execution_count": 38,
     "metadata": {},
     "output_type": "execute_result"
    },
    {
     "data": {
      "image/png": "[encoded data removed]",
      "text/plain": [
       "<Figure size 432x288 with 1 Axes>"
      ]
     },
     "metadata": {
      "needs_background": "light"
     },
     "output_type": "display_data"
    }
   ],
   "source": [
    "livestockadoption_speed = adopted_livestock.groupby(\"Adopt Rating\")\n",
    "\n",
    "livestockspeed_data = livestockadoption_speed[\"Adopt Rating\"].count()\n",
    "\n",
    "ax1 = livestockspeed_data.plot.bar(facecolor='magenta',title=\"Adoption Ratings\")\n",
    "ax1.set_xlabel(\"Rating\")\n",
    "ax1.set_ylabel(\"Count\")"
   ]
  },
  {
   "cell_type": "code",
   "execution_count": 39,
   "id": "entertaining-estonia",
   "metadata": {},
   "outputs": [
    {
     "data": {
      "text/plain": [
       "Text(0, 0.5, 'Count')"
      ]
     },
     "execution_count": 39,
     "metadata": {},
     "output_type": "execute_result"
    },
    {
     "data": {
      "image/png": "[encoded data removed]",
      "text/plain": [
       "<Figure size 432x288 with 1 Axes>"
      ]
     },
     "metadata": {
      "needs_background": "light"
     },
     "output_type": "display_data"
    }
   ],
   "source": [
    "livestockadopted_breeds = adopted_livestock.groupby(\"Breed\")\n",
    "\n",
    "livestockbreed_data = livestockadopted_breeds[\"Breed\"].count()\n",
    "\n",
    "ax1 = livestockbreed_data.plot.bar(facecolor='purple',title=\"Adopted Breeds\")\n",
    "ax1.set_xlabel(\"Breed\")\n",
    "ax1.set_ylabel(\"Count\")"
   ]
  },
  {
   "cell_type": "code",
   "execution_count": 40,
   "id": "standing-boating",
   "metadata": {},
   "outputs": [
    {
     "data": {
      "text/plain": [
       "Text(0, 0.5, 'Count')"
      ]
     },
     "execution_count": 40,
     "metadata": {},
     "output_type": "execute_result"
    },
    {
     "data": {
      "image/png": "[encoded data removed]",
      "text/plain": [
       "<Figure size 432x288 with 1 Axes>"
      ]
     },
     "metadata": {
      "needs_background": "light"
     },
     "output_type": "display_data"
    }
   ],
   "source": [
    "otheradoption_speed = adopted_other.groupby(\"Adopt Rating\")\n",
    "\n",
    "otherspeed_data = otheradoption_speed[\"Adopt Rating\"].count()\n",
    "\n",
    "ax1 = otherspeed_data.plot.bar(facecolor='magenta',title=\"Adoption Ratings\")\n",
    "ax1.set_xlabel(\"Rating\")\n",
    "ax1.set_ylabel(\"Count\")"
   ]
  },
  {
   "cell_type": "code",
   "execution_count": 41,
   "id": "raised-lender",
   "metadata": {},
   "outputs": [
    {
     "data": {
      "text/plain": [
       "Text(0, 0.5, 'Count')"
      ]
     },
     "execution_count": 41,
     "metadata": {},
     "output_type": "execute_result"
    },
    {
     "data": {
      "image/png": "[encoded data removed]",
      "text/plain": [
       "<Figure size 432x288 with 1 Axes>"
      ]
     },
     "metadata": {
      "needs_background": "light"
     },
     "output_type": "display_data"
    }
   ],
   "source": [
    "otheradopted_breeds = adopted_other.groupby(\"Breed\")\n",
    "\n",
    "otherbreed_data = otheradopted_breeds[\"Breed\"].count()\n",
    "\n",
    "ax1 = otherbreed_data.plot.bar(facecolor='purple',title=\"Adopted Breeds\")\n",
    "ax1.set_xlabel(\"Breed\")\n",
    "ax1.set_ylabel(\"Count\")"
   ]
  },
  {
   "cell_type": "code",
   "execution_count": null,
   "id": "aerial-retirement",
   "metadata": {},
   "outputs": [],
   "source": []
  },
  {
   "cell_type": "code",
   "execution_count": null,
   "id": "flexible-secret",
   "metadata": {},
   "outputs": [],
   "source": [
    "adopted_cats.to_csv(\"cats_grouped.csv\", index=False)\n",
    "adopted_dogs.to_csv(\"dogs_grouped.csv\", index=False)\n",
    "adopted_birds.to_csv(\"birds_grouped.csv\", index=False)\n",
    "adopted_livestock.to_csv(\"livestock_grouped.csv\", index=False)\n",
    "adopted_other.to_csv(\"other_grouped.csv\", index=False)"
   ]
  },
  {
   "cell_type": "code",
   "execution_count": null,
   "id": "curious-safety",
   "metadata": {},
   "outputs": [],
   "source": []
  }
 ],
 "metadata": {
  "kernelspec": {
   "display_name": "Python 3",
   "language": "python",
   "name": "python3"
  },
  "language_info": {
   "codemirror_mode": {
    "name": "ipython",
    "version": 3
   },
   "file_extension": ".py",
   "mimetype": "text/x-python",
   "name": "python",
   "nbconvert_exporter": "python",
   "pygments_lexer": "ipython3",
   "version": "3.6.12"
  }
 },
 "nbformat": 4,
 "nbformat_minor": 5
}
