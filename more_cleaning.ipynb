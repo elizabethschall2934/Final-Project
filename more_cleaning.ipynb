{
 "cells": [
  {
   "cell_type": "code",
   "execution_count": 1,
   "id": "mediterranean-antibody",
   "metadata": {},
   "outputs": [],
   "source": [
    "import matplotlib.pyplot as plt\n",
    "import numpy as np\n",
    "import pandas as pd\n",
    "import os\n",
    "import csv"
   ]
  },
  {
   "cell_type": "code",
   "execution_count": 2,
   "id": "indoor-sending",
   "metadata": {},
   "outputs": [],
   "source": [
    "adopted_cats_load = \"Initial csv output files/adopted_cats_clean.csv\"\n",
    "adopted_dogs_load = \"Initial csv output files/adopted_dogs_clean.csv\"\n",
    "adopted_birds_load = \"Initial csv output files/adopted_birds_clean.csv\"\n",
    "adopted_livestock_load = \"Initial csv output files/adopted_livestock_clean.csv\"\n",
    "adopted_other_load = \"Initial csv output files/adopted_other_clean.csv\"\n",
    "\n",
    "adopted_cats = pd.read_csv(adopted_cats_load)\n",
    "adopted_dogs = pd.read_csv(adopted_dogs_load)\n",
    "adopted_birds = pd.read_csv(adopted_birds_load)\n",
    "adopted_livestock = pd.read_csv(adopted_livestock_load)\n",
    "adopted_other = pd.read_csv(adopted_other_load)"
   ]
  },
  {
   "cell_type": "code",
   "execution_count": null,
   "id": "adult-imaging",
   "metadata": {},
   "outputs": [],
   "source": [
    "adopted_cats.dtypes"
   ]
  },
  {
   "cell_type": "code",
   "execution_count": 3,
   "id": "front-electricity",
   "metadata": {},
   "outputs": [
    {
     "data": {
      "text/plain": [
       "0      31 days 23:08:00\n",
       "1      18 days 04:13:00\n",
       "2      45 days 03:15:00\n",
       "3       4 days 00:51:00\n",
       "4      11 days 23:26:00\n",
       "             ...       \n",
       "491     8 days 05:42:00\n",
       "492     7 days 01:51:00\n",
       "493     7 days 01:52:00\n",
       "494    21 days 12:32:00\n",
       "495    15 days 02:01:00\n",
       "Name: shelter_time, Length: 496, dtype: object"
      ]
     },
     "execution_count": 3,
     "metadata": {},
     "output_type": "execute_result"
    }
   ],
   "source": [
    "adopted_cats[\"shelter_time\"].astype(str)\n",
    "adopted_cats[\"Breed\"].astype(str)\n",
    "adopted_dogs[\"shelter_time\"].astype(str)\n",
    "adopted_birds[\"shelter_time\"].astype(str)\n",
    "adopted_livestock[\"shelter_time\"].astype(str)\n",
    "adopted_other[\"shelter_time\"].astype(str)"
   ]
  },
  {
   "cell_type": "code",
   "execution_count": 4,
   "id": "figured-cinema",
   "metadata": {},
   "outputs": [],
   "source": [
    "adopted_cats[\"shelter_days\"] = adopted_cats[\"shelter_time\"].str[:2]\n",
    "adopted_dogs[\"shelter_days\"] = adopted_dogs[\"shelter_time\"].str[:2]\n",
    "adopted_birds[\"shelter_days\"] = adopted_birds[\"shelter_time\"].str[:2]\n",
    "adopted_livestock[\"shelter_days\"] = adopted_livestock[\"shelter_time\"].str[:2]\n",
    "adopted_other[\"shelter_days\"] = adopted_other[\"shelter_time\"].str[:2]"
   ]
  },
  {
   "cell_type": "code",
   "execution_count": null,
   "id": "labeled-prediction",
   "metadata": {},
   "outputs": [],
   "source": [
    "adopted_cats.head()"
   ]
  },
  {
   "cell_type": "code",
   "execution_count": null,
   "id": "dense-avatar",
   "metadata": {},
   "outputs": [],
   "source": [
    "adopted_cats[\"shelter_days\"].astype(int)\n",
    "adopted_dogs[\"shelter_days\"].astype(int)\n",
    "adopted_birds[\"shelter_days\"].astype(int)\n",
    "adopted_livestock[\"shelter_days\"].astype(int)\n",
    "adopted_other[\"shelter_days\"].astype(int)"
   ]
  },
  {
   "cell_type": "code",
   "execution_count": null,
   "id": "recognized-soviet",
   "metadata": {},
   "outputs": [],
   "source": [
    "adopted_cats.to_csv(\"adopted_cats_ML.csv\", index=False)\n",
    "adopted_cats.to_csv(\"adopted_dogs_ML.csv\", index=False)\n",
    "adopted_cats.to_csv(\"adopted_birds_ML.csv\", index=False)\n",
    "adopted_cats.to_csv(\"adopted_livestock_ML.csv\", index=False)\n",
    "adopted_cats.to_csv(\"adopted_other_ML.csv\", index=False)"
   ]
  },
  {
   "cell_type": "code",
   "execution_count": null,
   "id": "greatest-garbage",
   "metadata": {},
   "outputs": [],
   "source": [
    "adoption_speed = adopted_cats.groupby(\"shelter_days\")\n",
    "adopted_breeds = adopted_cats.groupby(\"Breed\")"
   ]
  },
  {
   "cell_type": "code",
   "execution_count": null,
   "id": "black-aggregate",
   "metadata": {},
   "outputs": [],
   "source": [
    "adopted_count = adopted_cats[\"shelter_days\"].value_counts()\n",
    "cat_breeds = adopted_cats[\"Breed\"].value_counts()"
   ]
  },
  {
   "cell_type": "code",
   "execution_count": null,
   "id": "popular-telephone",
   "metadata": {},
   "outputs": [],
   "source": [
    "ax = cat_breeds.plot(kind='bar', facecolor=\"purple\", rot=45)"
   ]
  },
  {
   "cell_type": "code",
   "execution_count": 23,
   "id": "union-microwave",
   "metadata": {},
   "outputs": [],
   "source": [
    "adopted_cats.loc[adopted_cats[\"Breed\"].str.contains('domestic shorthair', case=False), \"Breed\"] = 'Domestic Shorthair'\n",
    "adopted_cats.loc[adopted_cats[\"Breed\"].str.contains('domestic longhair', case=False), \"Breed\"] = 'Domestic Longhair'\n",
    "adopted_cats.loc[adopted_cats[\"Breed\"].str.contains('domestic medium hair', case=False), \"Breed\"] = 'Domestic Medium Hair'\n",
    "adopted_cats.loc[adopted_cats[\"Breed\"].str.contains('siamese', case=False), \"Breed\"] = 'Siamese mix'\n",
    "adopted_cats.loc[adopted_cats[\"Breed\"].str.contains('bengal', case=False), \"Breed\"] = 'Bengal mix'\n",
    "adopted_cats.loc[adopted_cats[\"Breed\"].str.contains('manx', case=False), \"Breed\"] = 'Manx mix'\n",
    "adopted_cats.loc[adopted_cats[\"Breed\"].str.contains('Russian Blue', case=False), \"Breed\"] = 'Russian Blue mix'\n",
    "adopted_cats.loc[adopted_cats[\"Breed\"].str.contains('Maine Coon', case=False), \"Breed\"] = 'Maine Coon mix'\n",
    "adopted_cats.loc[adopted_cats[\"Breed\"].str.contains('Ragdoll', case=False), \"Breed\"] = 'Ragdoll mix'\n",
    "adopted_cats.loc[adopted_cats[\"Breed\"].str.contains('Burmese', case=False), \"Breed\"] = 'Burmese mix'\n",
    "adopted_cats.loc[adopted_cats[\"Breed\"].str.contains('Balinese', case=False), \"Breed\"] = 'Balinese mix'\n",
    "adopted_cats.loc[adopted_cats[\"Breed\"].str.contains('Snowshoe', case=False), \"Breed\"] = 'Snowshoe mix'\n",
    "adopted_cats.loc[adopted_cats[\"Breed\"].str.contains('Turkish Angora', case=False), \"Breed\"] = 'Turkish Angora mix'\n",
    "adopted_cats.loc[adopted_cats[\"Breed\"].str.contains('Japanese Bobtail', case=False), \"Breed\"] = 'Japanese Bobtail mix'\n",
    "adopted_cats.loc[adopted_cats[\"Breed\"].str.contains('Himalayan', case=False), \"Breed\"] = 'Himalayan mix'\n",
    "adopted_cats.loc[adopted_cats[\"Breed\"].str.contains('Persian', case=False), \"Breed\"] = 'Persian mix'\n",
    "adopted_cats.loc[adopted_cats[\"Breed\"].str.contains('Abyssinian', case=False), \"Breed\"] = 'Abyssinian mix'\n",
    "adopted_cats.loc[adopted_cats[\"Breed\"].str.contains('American Curl Shorthair', case=False), \"Breed\"] = 'American Curl Shorthair mix'\n",
    "adopted_cats.loc[adopted_cats[\"Breed\"].str.contains('Havana Brown', case=False), \"Breed\"] = 'Havana Brown mix'\n",
    "adopted_cats.loc[adopted_cats[\"Breed\"].str.contains('American Shorthair', case=False), \"Breed\"] = 'Domestic Shorthair'\n",
    "adopted_cats.loc[adopted_cats[\"Breed\"].str.contains('Pixiebob Shorthair', case=False), \"Breed\"] = 'Pixiebob Shorthair mix'\n",
    "adopted_cats.loc[adopted_cats[\"Breed\"].str.contains('British Shorthair', case=False), \"Breed\"] = 'British Shorthair'"
   ]
  },
  {
   "cell_type": "code",
   "execution_count": 24,
   "id": "bottom-reunion",
   "metadata": {},
   "outputs": [
    {
     "data": {
      "text/plain": [
       "array(['Domestic Shorthair', 'Domestic Longhair', 'Domestic Medium Hair',\n",
       "       'Russian Blue mix', 'Siamese mix', 'Manx mix', 'Bengal mix',\n",
       "       'Abyssinian mix', 'Munchkin Shorthair Mix', 'Snowshoe mix',\n",
       "       'Ragdoll mix', 'Balinese mix', 'Maine Coon mix', 'Persian mix',\n",
       "       'Japanese Bobtail mix', 'Himalayan mix', 'Pixiebob Shorthair mix',\n",
       "       'Cymric Mix', 'Norwegian Forest Cat Mix', 'British Shorthair',\n",
       "       'Ocicat Mix', 'Burmese mix', 'Oriental Sh Mix', 'Devon Rex Mix',\n",
       "       'Bombay Mix', 'Cornish Rex Mix', 'American Curl Shorthair mix',\n",
       "       'Angora Mix', 'Turkish Van Mix', 'Scottish Fold Mix',\n",
       "       'Havana Brown mix', 'Tonkinese Mix', 'American Wirehair Mix',\n",
       "       'Chartreux Mix', 'Javanese Mix', 'Sphynx', 'Turkish Angora mix'],\n",
       "      dtype=object)"
      ]
     },
     "execution_count": 24,
     "metadata": {},
     "output_type": "execute_result"
    }
   ],
   "source": [
    "adopted_cats[\"Breed\"].unique()"
   ]
  },
  {
   "cell_type": "code",
   "execution_count": 25,
   "id": "superb-session",
   "metadata": {},
   "outputs": [
    {
     "data": {
      "text/plain": [
       "37"
      ]
     },
     "execution_count": 25,
     "metadata": {},
     "output_type": "execute_result"
    }
   ],
   "source": [
    "adopted_cats[\"Breed\"].nunique()"
   ]
  },
  {
   "cell_type": "code",
   "execution_count": null,
   "id": "forward-connecticut",
   "metadata": {},
   "outputs": [],
   "source": []
  }
 ],
 "metadata": {
  "kernelspec": {
   "display_name": "Python 3",
   "language": "python",
   "name": "python3"
  },
  "language_info": {
   "codemirror_mode": {
    "name": "ipython",
    "version": 3
   },
   "file_extension": ".py",
   "mimetype": "text/x-python",
   "name": "python",
   "nbconvert_exporter": "python",
   "pygments_lexer": "ipython3",
   "version": "3.6.12"
  }
 },
 "nbformat": 4,
 "nbformat_minor": 5
}
