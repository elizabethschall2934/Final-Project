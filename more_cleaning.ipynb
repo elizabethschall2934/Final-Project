{
 "cells": [
  {
   "cell_type": "code",
   "execution_count": 1,
   "id": "mediterranean-antibody",
   "metadata": {},
   "outputs": [],
   "source": [
    "import pandas as pd\n",
    "import os\n",
    "import csv"
   ]
  },
  {
   "cell_type": "code",
   "execution_count": 2,
   "id": "indoor-sending",
   "metadata": {},
   "outputs": [],
   "source": [
    "adopted_cats_load = \"Initial csv output files/adopted_cats_clean.csv\"\n",
    "adopted_dogs_load = \"Initial csv output files/adopted_dogs_clean.csv\"\n",
    "adopted_birds_load = \"Initial csv output files/adopted_birds_clean.csv\"\n",
    "adopted_livestock_load = \"Initial csv output files/adopted_livestock_clean.csv\"\n",
    "adopted_other_load = \"Initial csv output files/adopted_other_clean.csv\"\n",
    "\n",
    "adopted_cats = pd.read_csv(adopted_cats_load)\n",
    "adopted_dogs = pd.read_csv(adopted_dogs_load)\n",
    "adopted_birds = pd.read_csv(adopted_birds_load)\n",
    "adopted_livestock = pd.read_csv(adopted_livestock_load)\n",
    "adopted_other = pd.read_csv(adopted_other_load)"
   ]
  },
  {
   "cell_type": "code",
   "execution_count": 3,
   "id": "adult-imaging",
   "metadata": {},
   "outputs": [
    {
     "data": {
      "text/plain": [
       "Animal ID            int64\n",
       "Name                object\n",
       "DateTime            object\n",
       "MonthYear           object\n",
       "Found Location      object\n",
       "Intake Type         object\n",
       "Intake Condition    object\n",
       "Animal Type         object\n",
       "Sex upon Intake     object\n",
       "Age upon Intake     object\n",
       "Breed               object\n",
       "Color               object\n",
       "DateTime_out        object\n",
       "Outcome Type        object\n",
       "Outcome Subtype     object\n",
       "shelter_time        object\n",
       "dtype: object"
      ]
     },
     "execution_count": 3,
     "metadata": {},
     "output_type": "execute_result"
    }
   ],
   "source": [
    "adopted_cats.dtypes"
   ]
  },
  {
   "cell_type": "code",
   "execution_count": 4,
   "id": "front-electricity",
   "metadata": {},
   "outputs": [
    {
     "data": {
      "text/plain": [
       "0      31 days 23:08:00\n",
       "1      18 days 04:13:00\n",
       "2      45 days 03:15:00\n",
       "3       4 days 00:51:00\n",
       "4      11 days 23:26:00\n",
       "             ...       \n",
       "491     8 days 05:42:00\n",
       "492     7 days 01:51:00\n",
       "493     7 days 01:52:00\n",
       "494    21 days 12:32:00\n",
       "495    15 days 02:01:00\n",
       "Name: shelter_time, Length: 496, dtype: object"
      ]
     },
     "execution_count": 4,
     "metadata": {},
     "output_type": "execute_result"
    }
   ],
   "source": [
    "adopted_cats[\"shelter_time\"].astype(str)\n",
    "adopted_dogs[\"shelter_time\"].astype(str)\n",
    "adopted_birds[\"shelter_time\"].astype(str)\n",
    "adopted_livestock[\"shelter_time\"].astype(str)\n",
    "adopted_other[\"shelter_time\"].astype(str)"
   ]
  },
  {
   "cell_type": "code",
   "execution_count": 5,
   "id": "figured-cinema",
   "metadata": {},
   "outputs": [],
   "source": [
    "adopted_cats[\"shelter_days\"] = adopted_cats[\"shelter_time\"].str[:2]\n",
    "adopted_dogs[\"shelter_days\"] = adopted_dogs[\"shelter_time\"].str[:2]\n",
    "adopted_birds[\"shelter_days\"] = adopted_birds[\"shelter_time\"].str[:2]\n",
    "adopted_livestock[\"shelter_days\"] = adopted_livestock[\"shelter_time\"].str[:2]\n",
    "adopted_other[\"shelter_days\"] = adopted_other[\"shelter_time\"].str[:2]"
   ]
  },
  {
   "cell_type": "code",
   "execution_count": 6,
   "id": "labeled-prediction",
   "metadata": {},
   "outputs": [
    {
     "data": {
      "text/html": [
       "<div>\n",
       "<style scoped>\n",
       "    .dataframe tbody tr th:only-of-type {\n",
       "        vertical-align: middle;\n",
       "    }\n",
       "\n",
       "    .dataframe tbody tr th {\n",
       "        vertical-align: top;\n",
       "    }\n",
       "\n",
       "    .dataframe thead th {\n",
       "        text-align: right;\n",
       "    }\n",
       "</style>\n",
       "<table border=\"1\" class=\"dataframe\">\n",
       "  <thead>\n",
       "    <tr style=\"text-align: right;\">\n",
       "      <th></th>\n",
       "      <th>Animal ID</th>\n",
       "      <th>Name</th>\n",
       "      <th>DateTime</th>\n",
       "      <th>MonthYear</th>\n",
       "      <th>Found Location</th>\n",
       "      <th>Intake Type</th>\n",
       "      <th>Intake Condition</th>\n",
       "      <th>Animal Type</th>\n",
       "      <th>Sex upon Intake</th>\n",
       "      <th>Age upon Intake</th>\n",
       "      <th>Breed</th>\n",
       "      <th>Color</th>\n",
       "      <th>DateTime_out</th>\n",
       "      <th>Outcome Type</th>\n",
       "      <th>Outcome Subtype</th>\n",
       "      <th>shelter_time</th>\n",
       "      <th>shelter_days</th>\n",
       "    </tr>\n",
       "  </thead>\n",
       "  <tbody>\n",
       "    <tr>\n",
       "      <th>0</th>\n",
       "      <td>818975</td>\n",
       "      <td>NaN</td>\n",
       "      <td>2020-06-18 14:53:00</td>\n",
       "      <td>06/18/2020 02:53:00 PM</td>\n",
       "      <td>Braker Lane And Metric in Travis (TX)</td>\n",
       "      <td>Stray</td>\n",
       "      <td>Normal</td>\n",
       "      <td>Cat</td>\n",
       "      <td>Intact Male</td>\n",
       "      <td>4 weeks</td>\n",
       "      <td>Domestic Shorthair</td>\n",
       "      <td>Cream Tabby</td>\n",
       "      <td>2020-07-23 15:54:00</td>\n",
       "      <td>Adoption</td>\n",
       "      <td>Foster</td>\n",
       "      <td>35 days 01:01:00</td>\n",
       "      <td>35</td>\n",
       "    </tr>\n",
       "    <tr>\n",
       "      <th>1</th>\n",
       "      <td>657188</td>\n",
       "      <td>Tommy</td>\n",
       "      <td>2013-11-10 17:19:00</td>\n",
       "      <td>11/10/2013 05:19:00 PM</td>\n",
       "      <td>Austin (TX)</td>\n",
       "      <td>Owner Surrender</td>\n",
       "      <td>Normal</td>\n",
       "      <td>Cat</td>\n",
       "      <td>Neutered Male</td>\n",
       "      <td>14 years</td>\n",
       "      <td>Domestic Shorthair Mix</td>\n",
       "      <td>Brown Tabby/White</td>\n",
       "      <td>2014-01-26 16:24:00</td>\n",
       "      <td>Adoption</td>\n",
       "      <td>Foster</td>\n",
       "      <td>76 days 23:05:00</td>\n",
       "      <td>76</td>\n",
       "    </tr>\n",
       "    <tr>\n",
       "      <th>2</th>\n",
       "      <td>783861</td>\n",
       "      <td>Tulip</td>\n",
       "      <td>2018-11-07 15:53:00</td>\n",
       "      <td>11/07/2018 03:53:00 PM</td>\n",
       "      <td>3110 Guadalupe Street in Austin (TX)</td>\n",
       "      <td>Stray</td>\n",
       "      <td>Normal</td>\n",
       "      <td>Cat</td>\n",
       "      <td>Intact Female</td>\n",
       "      <td>1 month</td>\n",
       "      <td>Domestic Shorthair Mix</td>\n",
       "      <td>Brown Tabby</td>\n",
       "      <td>2018-11-29 19:22:00</td>\n",
       "      <td>Adoption</td>\n",
       "      <td>NaN</td>\n",
       "      <td>22 days 03:29:00</td>\n",
       "      <td>22</td>\n",
       "    </tr>\n",
       "    <tr>\n",
       "      <th>3</th>\n",
       "      <td>707658</td>\n",
       "      <td>*Mint</td>\n",
       "      <td>2015-07-15 17:43:00</td>\n",
       "      <td>07/15/2015 05:43:00 PM</td>\n",
       "      <td>6118 Fairway in Austin (TX)</td>\n",
       "      <td>Stray</td>\n",
       "      <td>Normal</td>\n",
       "      <td>Cat</td>\n",
       "      <td>Intact Female</td>\n",
       "      <td>4 weeks</td>\n",
       "      <td>Domestic Shorthair Mix</td>\n",
       "      <td>Black/White</td>\n",
       "      <td>2015-08-19 17:59:00</td>\n",
       "      <td>Adoption</td>\n",
       "      <td>NaN</td>\n",
       "      <td>35 days 00:16:00</td>\n",
       "      <td>35</td>\n",
       "    </tr>\n",
       "    <tr>\n",
       "      <th>4</th>\n",
       "      <td>736287</td>\n",
       "      <td>*Twilight</td>\n",
       "      <td>2016-10-08 11:53:00</td>\n",
       "      <td>10/08/2016 11:53:00 AM</td>\n",
       "      <td>South First And Stassney in Austin (TX)</td>\n",
       "      <td>Stray</td>\n",
       "      <td>Normal</td>\n",
       "      <td>Cat</td>\n",
       "      <td>Intact Female</td>\n",
       "      <td>1 month</td>\n",
       "      <td>Domestic Shorthair Mix</td>\n",
       "      <td>Torbie</td>\n",
       "      <td>2016-10-12 18:32:00</td>\n",
       "      <td>Adoption</td>\n",
       "      <td>NaN</td>\n",
       "      <td>4 days 06:39:00</td>\n",
       "      <td>4</td>\n",
       "    </tr>\n",
       "  </tbody>\n",
       "</table>\n",
       "</div>"
      ],
      "text/plain": [
       "   Animal ID       Name             DateTime               MonthYear  \\\n",
       "0     818975        NaN  2020-06-18 14:53:00  06/18/2020 02:53:00 PM   \n",
       "1     657188      Tommy  2013-11-10 17:19:00  11/10/2013 05:19:00 PM   \n",
       "2     783861      Tulip  2018-11-07 15:53:00  11/07/2018 03:53:00 PM   \n",
       "3     707658      *Mint  2015-07-15 17:43:00  07/15/2015 05:43:00 PM   \n",
       "4     736287  *Twilight  2016-10-08 11:53:00  10/08/2016 11:53:00 AM   \n",
       "\n",
       "                            Found Location      Intake Type Intake Condition  \\\n",
       "0    Braker Lane And Metric in Travis (TX)            Stray           Normal   \n",
       "1                              Austin (TX)  Owner Surrender           Normal   \n",
       "2     3110 Guadalupe Street in Austin (TX)            Stray           Normal   \n",
       "3              6118 Fairway in Austin (TX)            Stray           Normal   \n",
       "4  South First And Stassney in Austin (TX)            Stray           Normal   \n",
       "\n",
       "  Animal Type Sex upon Intake Age upon Intake                   Breed  \\\n",
       "0         Cat     Intact Male         4 weeks      Domestic Shorthair   \n",
       "1         Cat   Neutered Male        14 years  Domestic Shorthair Mix   \n",
       "2         Cat   Intact Female         1 month  Domestic Shorthair Mix   \n",
       "3         Cat   Intact Female         4 weeks  Domestic Shorthair Mix   \n",
       "4         Cat   Intact Female         1 month  Domestic Shorthair Mix   \n",
       "\n",
       "               Color         DateTime_out Outcome Type Outcome Subtype  \\\n",
       "0        Cream Tabby  2020-07-23 15:54:00     Adoption          Foster   \n",
       "1  Brown Tabby/White  2014-01-26 16:24:00     Adoption          Foster   \n",
       "2        Brown Tabby  2018-11-29 19:22:00     Adoption             NaN   \n",
       "3        Black/White  2015-08-19 17:59:00     Adoption             NaN   \n",
       "4             Torbie  2016-10-12 18:32:00     Adoption             NaN   \n",
       "\n",
       "       shelter_time shelter_days  \n",
       "0  35 days 01:01:00           35  \n",
       "1  76 days 23:05:00           76  \n",
       "2  22 days 03:29:00           22  \n",
       "3  35 days 00:16:00           35  \n",
       "4   4 days 06:39:00           4   "
      ]
     },
     "execution_count": 6,
     "metadata": {},
     "output_type": "execute_result"
    }
   ],
   "source": [
    "adopted_cats.head()"
   ]
  },
  {
   "cell_type": "code",
   "execution_count": 7,
   "id": "dense-avatar",
   "metadata": {},
   "outputs": [
    {
     "data": {
      "text/plain": [
       "0      31\n",
       "1      18\n",
       "2      45\n",
       "3       4\n",
       "4      11\n",
       "       ..\n",
       "491     8\n",
       "492     7\n",
       "493     7\n",
       "494    21\n",
       "495    15\n",
       "Name: shelter_days, Length: 496, dtype: int32"
      ]
     },
     "execution_count": 7,
     "metadata": {},
     "output_type": "execute_result"
    }
   ],
   "source": [
    "adopted_cats[\"shelter_days\"].astype(int)\n",
    "adopted_dogs[\"shelter_days\"].astype(int)\n",
    "adopted_birds[\"shelter_days\"].astype(int)\n",
    "adopted_livestock[\"shelter_days\"].astype(int)\n",
    "adopted_other[\"shelter_days\"].astype(int)"
   ]
  },
  {
   "cell_type": "code",
   "execution_count": null,
   "id": "recognized-soviet",
   "metadata": {},
   "outputs": [],
   "source": [
    "adopted_cats.to_csv(\"adopted_cats_ML.csv\", index=False)\n",
    "adopted_cats.to_csv(\"adopted_dogs_ML.csv\", index=False)\n",
    "adopted_cats.to_csv(\"adopted_birds_ML.csv\", index=False)\n",
    "adopted_cats.to_csv(\"adopted_livestock_ML.csv\", index=False)\n",
    "adopted_cats.to_csv(\"adopted_other_ML.csv\", index=False)"
   ]
  },
  {
   "cell_type": "code",
   "execution_count": 8,
   "id": "historical-gilbert",
   "metadata": {},
   "outputs": [
    {
     "data": {
      "text/plain": [
       "77"
      ]
     },
     "execution_count": 8,
     "metadata": {},
     "output_type": "execute_result"
    }
   ],
   "source": [
    "adopted_cats[\"Breed\"].nunique()"
   ]
  },
  {
   "cell_type": "code",
   "execution_count": 9,
   "id": "pacific-basketball",
   "metadata": {},
   "outputs": [
    {
     "data": {
      "text/plain": [
       "array(['Domestic Shorthair', 'Domestic Shorthair Mix',\n",
       "       'Domestic Longhair Mix', 'American Shorthair Mix',\n",
       "       'Domestic Medium Hair', 'Domestic Medium Hair Mix', 'Russian Blue',\n",
       "       'Siamese Mix', 'Manx Mix', 'Bengal', 'Siamese', 'Abyssinian',\n",
       "       'American Curl Shorthair/Siamese', 'Siamese/Domestic Shorthair',\n",
       "       'Munchkin Shorthair Mix', 'Domestic Longhair', 'Russian Blue Mix',\n",
       "       'Snowshoe Mix', 'Ragdoll Mix', 'Abyssinian Mix', 'Balinese',\n",
       "       'Maine Coon Mix', 'American Shorthair', 'Persian Mix',\n",
       "       'Japanese Bobtail Mix', 'Snowshoe', 'Himalayan', 'Maine Coon',\n",
       "       'Domestic Shorthair/Domestic Shorthair',\n",
       "       'Domestic Medium Hair/Maine Coon', 'Manx/Domestic Shorthair',\n",
       "       'Pixiebob Shorthair Mix', 'Balinese Mix', 'Cymric Mix',\n",
       "       'Norwegian Forest Cat Mix', 'Bengal Mix', 'Himalayan Mix',\n",
       "       'Domestic Longhair/Persian', 'British Shorthair Mix', 'Ragdoll',\n",
       "       'Ocicat Mix', 'Burmese', 'Oriental Sh Mix', 'Devon Rex Mix',\n",
       "       'Bombay Mix', 'Cornish Rex Mix', 'American Curl Shorthair Mix',\n",
       "       'Angora Mix', 'Bengal/Domestic Shorthair',\n",
       "       'Ragdoll/Munchkin Longhair', 'Domestic Medium Hair/Siamese',\n",
       "       'Domestic Shorthair/Maine Coon', 'Turkish Van Mix',\n",
       "       'Scottish Fold Mix', 'Havana Brown Mix', 'Manx',\n",
       "       'Siamese/Japanese Bobtail', 'Domestic Shorthair/Siamese',\n",
       "       'Burmese Mix', 'Persian', 'American Curl Shorthair',\n",
       "       'British Shorthair', 'Tonkinese Mix', 'Pixiebob Shorthair',\n",
       "       'Havana Brown', 'Manx/Domestic Longhair',\n",
       "       'Japanese Bobtail/American Curl Shorthair',\n",
       "       'American Wirehair Mix', 'Domestic Shorthair/Abyssinian',\n",
       "       'Manx/Domestic Medium Hair', 'Chartreux Mix', 'Javanese Mix',\n",
       "       'Scottish Fold/Domestic Shorthair', 'Sphynx', 'Turkish Angora Mix',\n",
       "       'Manx/Siamese', 'Turkish Angora'], dtype=object)"
      ]
     },
     "execution_count": 9,
     "metadata": {},
     "output_type": "execute_result"
    }
   ],
   "source": [
    "adopted_cats[\"Breed\"].unique()"
   ]
  },
  {
   "cell_type": "code",
   "execution_count": 10,
   "id": "retired-geography",
   "metadata": {},
   "outputs": [
    {
     "data": {
      "text/plain": [
       "175"
      ]
     },
     "execution_count": 10,
     "metadata": {},
     "output_type": "execute_result"
    }
   ],
   "source": [
    "adopted_cats[\"Color\"].nunique()"
   ]
  },
  {
   "cell_type": "code",
   "execution_count": 11,
   "id": "other-liabilities",
   "metadata": {},
   "outputs": [
    {
     "data": {
      "text/plain": [
       "array(['Cream Tabby', 'Brown Tabby/White', 'Brown Tabby', 'Black/White',\n",
       "       'Torbie', 'Black', 'Blue', 'Tortie', 'White/Blue', 'White/Black',\n",
       "       'Blue Tabby', 'Cream/White', 'Orange Tabby/White', 'Blue/White',\n",
       "       'Lynx Point', 'Calico', 'Calico/White', 'Orange Tabby',\n",
       "       'Black Tabby', 'Black Smoke', 'Black Smoke/White',\n",
       "       'Seal Point/White', 'White', 'Blue Tabby/White', 'White/Gray',\n",
       "       'Brown Tiger', 'Black/Black', 'Lynx Point/Gray', 'Blue Cream',\n",
       "       'Torbie/White', 'Tortie/White', 'Seal Point', 'Brown Tabby/Orange',\n",
       "       'Lynx Point/Tan', 'Flame Point', 'Cream Tabby/Orange Tabby',\n",
       "       'Chocolate Point', 'White/Brown Tabby', 'White/Cream Tabby',\n",
       "       'Tortie Point', 'Blue Point', 'Lilac Point', 'Gray Tabby',\n",
       "       'Gray Tabby/White', 'Silver Tabby/White', 'Black/Gray',\n",
       "       'Lynx Point/Tortie Point', 'Brown Tabby/Black',\n",
       "       'Cream Tabby/White', 'Orange Tabby/Cream', 'White/Black Tabby',\n",
       "       'Gray', 'White/Blue Tabby', 'Lynx Point/White', 'Orange',\n",
       "       'Calico/Brown Tabby', 'White/Orange Tabby', 'Black/Brown Tabby',\n",
       "       'Blue Tabby/Cream', 'Calico Point', 'White/Gray Tabby',\n",
       "       'Brown/Black', 'Brown Tabby/Brown', 'Brown/White', 'White/Brown',\n",
       "       'Cream', 'Black Tabby/White', 'White/Orange', 'Blue Smoke',\n",
       "       'Chocolate Point/White', 'Gray/Tortie', 'Gray/Gray', 'Cream/Brown',\n",
       "       'Brown Tabby/Calico', 'Tortie/Black', 'Silver Lynx Point',\n",
       "       'Silver Tabby', 'Orange/Orange Tabby', 'Gray/White',\n",
       "       'Gray Tabby/Black', 'White/Seal Point', 'Chocolate',\n",
       "       'White/Brown Brindle', 'Orange/White', 'White/Calico',\n",
       "       'Blue/Tortie', 'Silver', 'Brown', 'Black/Black Smoke',\n",
       "       'Blue Tabby/Brown', 'Brown Tabby/Cream', 'Buff/White',\n",
       "       'Calico Point/White', 'Red Tick', 'Chocolate/White', 'Fawn',\n",
       "       'Tortie/Tortie', 'White/Cream', 'White/Lynx Point', 'Agouti',\n",
       "       'White/Tan', 'Tortie Point/Seal Point', 'Silver/Silver Tabby',\n",
       "       'Brown Tabby/Silver', 'Calico/Tricolor', 'Tortie Point/White',\n",
       "       'Cream/Seal Point', 'Calico/Brown', 'Tortie/Blue Cream',\n",
       "       'Cream/Blue Point', 'Torbie/Brown Tabby', 'Yellow/Orange',\n",
       "       'Cream Tiger/Brown Tabby', 'Gray Tabby/Orange', 'Blue/Blue',\n",
       "       'Lilac Point/White', 'Blue Tabby/Tan', 'White/Black Smoke',\n",
       "       'Blue Cream/Blue Tabby', 'White/Buff', 'Silver Tabby/Black',\n",
       "       'White/Red', 'Blue Smoke/White', 'Blue Tabby/Black', 'Buff',\n",
       "       'Orange Tiger', 'Torbie/Blue Cream', 'Tortie/Orange',\n",
       "       'Orange Tabby/Orange', 'Blue/Calico', 'White/Chocolate',\n",
       "       'Flame Point/White', 'Torbie/Black', 'Lynx Point/Blue',\n",
       "       'Calico/Black', 'Calico/Calico', 'Black/Brown',\n",
       "       'White/Lilac Point', 'Cream Tabby/Cream Tabby',\n",
       "       'Calico/Blue Cream', 'White/White', 'Tortie/Black Smoke',\n",
       "       'Blue Point/White', 'White/Flame Point', 'Black Tiger',\n",
       "       'Gray/Black', 'Brown Tabby/Black Brindle', 'Tortie/Brown',\n",
       "       'Brown Tabby/Tortie', 'White/Agouti', 'Blue Smoke/Gray',\n",
       "       'Blue Tabby/Blue Cream', 'Apricot', 'Cream/Orange',\n",
       "       'Torbie/Blue Tabby', 'Blue/Orange', 'Black/Orange',\n",
       "       'Blue Point/Cream', 'Orange Tabby/Brown', 'Blue Cream/Tortie',\n",
       "       'White/Calico Point', 'Agouti/Brown Tabby', 'Lilac Point/Black',\n",
       "       'Chocolate Point/Cream', 'Yellow/Cream',\n",
       "       'Brown Tabby/Orange Tabby', 'Black/Silver',\n",
       "       'Silver Lynx Point/White', 'Brown Tiger/White', 'Tan',\n",
       "       'Tortie/Blue Tabby', 'Tortie Point/Blue', 'Sable', 'Tortie/Gold',\n",
       "       'Brown/Seal Point'], dtype=object)"
      ]
     },
     "execution_count": 11,
     "metadata": {},
     "output_type": "execute_result"
    }
   ],
   "source": [
    "adopted_cats[\"Color\"].unique()"
   ]
  },
  {
   "cell_type": "code",
   "execution_count": null,
   "id": "significant-bowling",
   "metadata": {},
   "outputs": [],
   "source": []
  }
 ],
 "metadata": {
  "kernelspec": {
   "display_name": "Python 3",
   "language": "python",
   "name": "python3"
  },
  "language_info": {
   "codemirror_mode": {
    "name": "ipython",
    "version": 3
   },
   "file_extension": ".py",
   "mimetype": "text/x-python",
   "name": "python",
   "nbconvert_exporter": "python",
   "pygments_lexer": "ipython3",
   "version": "3.6.12"
  }
 },
 "nbformat": 4,
 "nbformat_minor": 5
}
