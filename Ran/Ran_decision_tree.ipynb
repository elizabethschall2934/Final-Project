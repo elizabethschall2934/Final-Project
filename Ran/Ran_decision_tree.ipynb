{
 "cells": [
  {
   "cell_type": "code",
   "execution_count": 1,
   "metadata": {},
   "outputs": [],
   "source": [
    "import json\n",
    "with open('tx_data_0220.json') as f:\n",
    "    tx_animals = json.load(f)"
   ]
  },
  {
   "cell_type": "code",
   "execution_count": 3,
   "metadata": {},
   "outputs": [],
   "source": [
    "tx_animals = tx_animals['animals']"
   ]
  },
  {
   "cell_type": "code",
   "execution_count": 26,
   "metadata": {},
   "outputs": [
    {
     "data": {
      "text/plain": [
       "14669"
      ]
     },
     "execution_count": 26,
     "metadata": {},
     "output_type": "execute_result"
    }
   ],
   "source": [
    "len(tx_animals)"
   ]
  },
  {
   "cell_type": "code",
   "execution_count": 21,
   "metadata": {},
   "outputs": [
    {
     "data": {
      "text/plain": [
       "{'id': 50515167,\n",
       " 'organization_id': 'TX173',\n",
       " 'url': 'https://www.petfinder.com/cat/a152835-50515167/tx/pasadena/pasadena-animal-shelter-and-pet-adoption-center-tx173/?referrer_id=ed934911-90d3-4771-a1a8-3b3282bb4828',\n",
       " 'type': 'Cat',\n",
       " 'species': 'Cat',\n",
       " 'breeds': {'primary': 'Domestic Short Hair',\n",
       "  'secondary': None,\n",
       "  'mixed': False,\n",
       "  'unknown': False},\n",
       " 'colors': {'primary': None, 'secondary': None, 'tertiary': None},\n",
       " 'age': 'Young',\n",
       " 'gender': 'Female',\n",
       " 'size': 'Medium',\n",
       " 'coat': None,\n",
       " 'attributes': {'spayed_neutered': False,\n",
       "  'house_trained': False,\n",
       "  'declawed': False,\n",
       "  'special_needs': False,\n",
       "  'shots_current': False},\n",
       " 'environment': {'children': None, 'dogs': None, 'cats': None},\n",
       " 'tags': [],\n",
       " 'name': 'A152835',\n",
       " 'description': None,\n",
       " 'organization_animal_id': 'A152835',\n",
       " 'photos': [{'small': 'https://dl5zpyw5k3jeb.cloudfront.net/photos/pets/50515167/1/?bust=1613784016&width=100',\n",
       "   'medium': 'https://dl5zpyw5k3jeb.cloudfront.net/photos/pets/50515167/1/?bust=1613784016&width=300',\n",
       "   'large': 'https://dl5zpyw5k3jeb.cloudfront.net/photos/pets/50515167/1/?bust=1613784016&width=600',\n",
       "   'full': 'https://dl5zpyw5k3jeb.cloudfront.net/photos/pets/50515167/1/?bust=1613784016'}],\n",
       " 'primary_photo_cropped': {'small': 'https://dl5zpyw5k3jeb.cloudfront.net/photos/pets/50515167/1/?bust=1613784016&width=300',\n",
       "  'medium': 'https://dl5zpyw5k3jeb.cloudfront.net/photos/pets/50515167/1/?bust=1613784016&width=450',\n",
       "  'large': 'https://dl5zpyw5k3jeb.cloudfront.net/photos/pets/50515167/1/?bust=1613784016&width=600',\n",
       "  'full': 'https://dl5zpyw5k3jeb.cloudfront.net/photos/pets/50515167/1/?bust=1613784016'},\n",
       " 'videos': [],\n",
       " 'status': 'adoptable',\n",
       " 'status_changed_at': '2021-02-10T21:45:12+0000',\n",
       " 'published_at': '2021-02-10T21:45:12+0000',\n",
       " 'distance': 296.1246,\n",
       " 'contact': {'email': 'adoptions@pasadenatx.gov',\n",
       "  'phone': '(713) 920-7942',\n",
       "  'address': {'address1': '5150 Burke',\n",
       "   'address2': None,\n",
       "   'city': 'Pasadena',\n",
       "   'state': 'TX',\n",
       "   'postcode': '77504',\n",
       "   'country': 'US'}},\n",
       " '_links': {'self': {'href': '/v2/animals/50515167'},\n",
       "  'type': {'href': '/v2/types/cat'},\n",
       "  'organization': {'href': '/v2/organizations/tx173'}}}"
      ]
     },
     "execution_count": 21,
     "metadata": {},
     "output_type": "execute_result"
    }
   ],
   "source": [
    "tx_animals[2958]"
   ]
  },
  {
   "cell_type": "code",
   "execution_count": 10,
   "metadata": {},
   "outputs": [],
   "source": [
    "pets_with_tags = []\n",
    "for pet in tx_animals:\n",
    "    if pet['tags']:\n",
    "        pets_with_tags.append(pet)"
   ]
  },
  {
   "cell_type": "code",
   "execution_count": 11,
   "metadata": {},
   "outputs": [
    {
     "data": {
      "text/plain": [
       "1771"
      ]
     },
     "execution_count": 11,
     "metadata": {},
     "output_type": "execute_result"
    }
   ],
   "source": [
    "len(pets_with_tags)"
   ]
  },
  {
   "cell_type": "code",
   "execution_count": 27,
   "metadata": {},
   "outputs": [
    {
     "data": {
      "text/plain": [
       "{'id': 50015141,\n",
       " 'organization_id': 'TX1279',\n",
       " 'url': 'https://www.petfinder.com/cat/hazal-50015141/tx/huffman/lmn-feline-rescue-tx1279/?referrer_id=ed934911-90d3-4771-a1a8-3b3282bb4828',\n",
       " 'type': 'Cat',\n",
       " 'species': 'Cat',\n",
       " 'breeds': {'primary': 'Maine Coon',\n",
       "  'secondary': None,\n",
       "  'mixed': True,\n",
       "  'unknown': False},\n",
       " 'colors': {'primary': 'Tabby (Brown / Chocolate)',\n",
       "  'secondary': None,\n",
       "  'tertiary': None},\n",
       " 'age': 'Young',\n",
       " 'gender': 'Female',\n",
       " 'size': 'Medium',\n",
       " 'coat': 'Long',\n",
       " 'attributes': {'spayed_neutered': True,\n",
       "  'house_trained': True,\n",
       "  'declawed': False,\n",
       "  'special_needs': False,\n",
       "  'shots_current': True},\n",
       " 'environment': {'children': None, 'dogs': None, 'cats': False},\n",
       " 'tags': ['Sweet', 'Playful'],\n",
       " 'name': 'Hazal',\n",
       " 'description': 'Hazel is so sweet and playful!  She&#039;s ready for her furever home!!\\n\\nLMN adoption fees are $160 for kittens six...',\n",
       " 'organization_animal_id': 'Kathy',\n",
       " 'photos': [{'small': 'https://dl5zpyw5k3jeb.cloudfront.net/photos/pets/50015141/1/?bust=1607640889&width=100',\n",
       "   'medium': 'https://dl5zpyw5k3jeb.cloudfront.net/photos/pets/50015141/1/?bust=1607640889&width=300',\n",
       "   'large': 'https://dl5zpyw5k3jeb.cloudfront.net/photos/pets/50015141/1/?bust=1607640889&width=600',\n",
       "   'full': 'https://dl5zpyw5k3jeb.cloudfront.net/photos/pets/50015141/1/?bust=1607640889'}],\n",
       " 'primary_photo_cropped': {'small': 'https://dl5zpyw5k3jeb.cloudfront.net/photos/pets/50015141/1/?bust=1607640889&width=300',\n",
       "  'medium': 'https://dl5zpyw5k3jeb.cloudfront.net/photos/pets/50015141/1/?bust=1607640889&width=450',\n",
       "  'large': 'https://dl5zpyw5k3jeb.cloudfront.net/photos/pets/50015141/1/?bust=1607640889&width=600',\n",
       "  'full': 'https://dl5zpyw5k3jeb.cloudfront.net/photos/pets/50015141/1/?bust=1607640889'},\n",
       " 'videos': [],\n",
       " 'status': 'adoptable',\n",
       " 'status_changed_at': '2020-12-10T22:56:58+0000',\n",
       " 'published_at': '2020-12-10T22:56:58+0000',\n",
       " 'distance': 295.9866,\n",
       " 'contact': {'email': 'lmnfelinerescue@hotmail.com',\n",
       "  'phone': None,\n",
       "  'address': {'address1': None,\n",
       "   'address2': None,\n",
       "   'city': 'Huffman',\n",
       "   'state': 'TX',\n",
       "   'postcode': '77336',\n",
       "   'country': 'US'}},\n",
       " '_links': {'self': {'href': '/v2/animals/50015141'},\n",
       "  'type': {'href': '/v2/types/cat'},\n",
       "  'organization': {'href': '/v2/organizations/tx1279'}}}"
      ]
     },
     "execution_count": 27,
     "metadata": {},
     "output_type": "execute_result"
    }
   ],
   "source": [
    "pets_with_tags[800]"
   ]
  },
  {
   "cell_type": "code",
   "execution_count": 13,
   "metadata": {},
   "outputs": [],
   "source": [
    "pets_with_desc = []\n",
    "for pet in tx_animals:\n",
    "    if pet['description']:\n",
    "        pets_with_desc.append(pet)"
   ]
  },
  {
   "cell_type": "code",
   "execution_count": 14,
   "metadata": {},
   "outputs": [
    {
     "data": {
      "text/plain": [
       "10921"
      ]
     },
     "execution_count": 14,
     "metadata": {},
     "output_type": "execute_result"
    }
   ],
   "source": [
    "len(pets_with_desc)"
   ]
  }
 ],
 "metadata": {
  "kernelspec": {
   "display_name": "Python 3",
   "language": "python",
   "name": "python3"
  },
  "language_info": {
   "codemirror_mode": {
    "name": "ipython",
    "version": 3
   },
   "file_extension": ".py",
   "mimetype": "text/x-python",
   "name": "python",
   "nbconvert_exporter": "python",
   "pygments_lexer": "ipython3",
   "version": "3.8.3"
  }
 },
 "nbformat": 4,
 "nbformat_minor": 5
}
