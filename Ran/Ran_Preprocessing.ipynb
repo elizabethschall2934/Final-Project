{
 "cells": [
  {
   "cell_type": "code",
   "execution_count": 8,
   "metadata": {},
   "outputs": [],
   "source": [
    "import json\n",
    "with open('tx_data_0220.json') as f:\n",
    "    tx_pet = json.load(f)"
   ]
  },
  {
   "cell_type": "code",
   "execution_count": 9,
   "metadata": {},
   "outputs": [
    {
     "data": {
      "text/plain": [
       "{'id': 50614898,\n",
       " 'organization_id': 'TX2184',\n",
       " 'url': 'https://www.petfinder.com/dog/simon-50614898/tx/grand-prairie/mini-mutts-animal-rescue-tx2184/?referrer_id=ed934911-90d3-4771-a1a8-3b3282bb4828',\n",
       " 'type': 'Dog',\n",
       " 'species': 'Dog',\n",
       " 'breeds': {'primary': 'Chihuahua',\n",
       "  'secondary': None,\n",
       "  'mixed': False,\n",
       "  'unknown': False},\n",
       " 'colors': {'primary': 'Bicolor',\n",
       "  'secondary': 'Black',\n",
       "  'tertiary': 'White / Cream'},\n",
       " 'age': 'Adult',\n",
       " 'gender': 'Male',\n",
       " 'size': 'Small',\n",
       " 'coat': 'Short',\n",
       " 'attributes': {'spayed_neutered': True,\n",
       "  'house_trained': True,\n",
       "  'declawed': None,\n",
       "  'special_needs': False,\n",
       "  'shots_current': True},\n",
       " 'environment': {'children': True, 'dogs': True, 'cats': True},\n",
       " 'tags': [],\n",
       " 'name': 'SIMON',\n",
       " 'description': 'MEET SIMON!!\\n\\nSimon and his sibling were found as strays 4 years ago and adopted from the shelter. \\n\\nSadly, Simon&#039;s...',\n",
       " 'organization_animal_id': None,\n",
       " 'photos': [{'small': 'https://dl5zpyw5k3jeb.cloudfront.net/photos/pets/50614898/1/?bust=1613888301&width=100',\n",
       "   'medium': 'https://dl5zpyw5k3jeb.cloudfront.net/photos/pets/50614898/1/?bust=1613888301&width=300',\n",
       "   'large': 'https://dl5zpyw5k3jeb.cloudfront.net/photos/pets/50614898/1/?bust=1613888301&width=600',\n",
       "   'full': 'https://dl5zpyw5k3jeb.cloudfront.net/photos/pets/50614898/1/?bust=1613888301'},\n",
       "  {'small': 'https://dl5zpyw5k3jeb.cloudfront.net/photos/pets/50614898/2/?bust=1613888303&width=100',\n",
       "   'medium': 'https://dl5zpyw5k3jeb.cloudfront.net/photos/pets/50614898/2/?bust=1613888303&width=300',\n",
       "   'large': 'https://dl5zpyw5k3jeb.cloudfront.net/photos/pets/50614898/2/?bust=1613888303&width=600',\n",
       "   'full': 'https://dl5zpyw5k3jeb.cloudfront.net/photos/pets/50614898/2/?bust=1613888303'},\n",
       "  {'small': 'https://dl5zpyw5k3jeb.cloudfront.net/photos/pets/50614898/3/?bust=1613888614&width=100',\n",
       "   'medium': 'https://dl5zpyw5k3jeb.cloudfront.net/photos/pets/50614898/3/?bust=1613888614&width=300',\n",
       "   'large': 'https://dl5zpyw5k3jeb.cloudfront.net/photos/pets/50614898/3/?bust=1613888614&width=600',\n",
       "   'full': 'https://dl5zpyw5k3jeb.cloudfront.net/photos/pets/50614898/3/?bust=1613888614'}],\n",
       " 'primary_photo_cropped': {'small': 'https://dl5zpyw5k3jeb.cloudfront.net/photos/pets/50614898/1/?bust=1613888301&width=300',\n",
       "  'medium': 'https://dl5zpyw5k3jeb.cloudfront.net/photos/pets/50614898/1/?bust=1613888301&width=450',\n",
       "  'large': 'https://dl5zpyw5k3jeb.cloudfront.net/photos/pets/50614898/1/?bust=1613888301&width=600',\n",
       "  'full': 'https://dl5zpyw5k3jeb.cloudfront.net/photos/pets/50614898/1/?bust=1613888301'},\n",
       " 'videos': [],\n",
       " 'status': 'adoptable',\n",
       " 'status_changed_at': '2021-02-21T06:23:44+0000',\n",
       " 'published_at': '2021-02-21T06:23:44+0000',\n",
       " 'distance': 228.0476,\n",
       " 'contact': {'email': 'mini-mutts@outlook.com',\n",
       "  'phone': None,\n",
       "  'address': {'address1': None,\n",
       "   'address2': None,\n",
       "   'city': 'Grand Prairie',\n",
       "   'state': 'TX',\n",
       "   'postcode': '75050',\n",
       "   'country': 'US'}},\n",
       " '_links': {'self': {'href': '/v2/animals/50614898'},\n",
       "  'type': {'href': '/v2/types/dog'},\n",
       "  'organization': {'href': '/v2/organizations/tx2184'}}}"
      ]
     },
     "execution_count": 9,
     "metadata": {},
     "output_type": "execute_result"
    }
   ],
   "source": [
    "tx_pet[0]"
   ]
  },
  {
   "cell_type": "code",
   "execution_count": 10,
   "metadata": {},
   "outputs": [
    {
     "data": {
      "text/plain": [
       "14556"
      ]
     },
     "execution_count": 10,
     "metadata": {},
     "output_type": "execute_result"
    }
   ],
   "source": [
    "len(tx_pet)"
   ]
  },
  {
   "cell_type": "code",
   "execution_count": 11,
   "metadata": {},
   "outputs": [
    {
     "data": {
      "text/plain": [
       "{'id': 50516207,\n",
       " 'organization_id': 'TX2337',\n",
       " 'url': 'https://www.petfinder.com/dog/hazel-50516207/tx/fort-worth/saving-hope-animal-rescue-fund-tx2337/?referrer_id=ed934911-90d3-4771-a1a8-3b3282bb4828',\n",
       " 'type': 'Dog',\n",
       " 'species': 'Dog',\n",
       " 'breeds': {'primary': 'Australian Shepherd',\n",
       "  'secondary': 'Mixed Breed',\n",
       "  'mixed': True,\n",
       "  'unknown': False},\n",
       " 'colors': {'primary': None, 'secondary': None, 'tertiary': None},\n",
       " 'age': 'Baby',\n",
       " 'gender': 'Female',\n",
       " 'size': 'Medium',\n",
       " 'coat': None,\n",
       " 'attributes': {'spayed_neutered': False,\n",
       "  'house_trained': False,\n",
       "  'declawed': None,\n",
       "  'special_needs': False,\n",
       "  'shots_current': False},\n",
       " 'environment': {'children': None, 'dogs': None, 'cats': None},\n",
       " 'tags': [],\n",
       " 'name': 'Hazel',\n",
       " 'description': 'Meet Hazel! \\nHazel is a cutie! We are not sure of her breed, but we are guessing a lab mix...',\n",
       " 'organization_animal_id': '46393836',\n",
       " 'photos': [{'small': 'https://dl5zpyw5k3jeb.cloudfront.net/photos/pets/50516207/1/?bust=1613585850&width=100',\n",
       "   'medium': 'https://dl5zpyw5k3jeb.cloudfront.net/photos/pets/50516207/1/?bust=1613585850&width=300',\n",
       "   'large': 'https://dl5zpyw5k3jeb.cloudfront.net/photos/pets/50516207/1/?bust=1613585850&width=600',\n",
       "   'full': 'https://dl5zpyw5k3jeb.cloudfront.net/photos/pets/50516207/1/?bust=1613585850'},\n",
       "  {'small': 'https://dl5zpyw5k3jeb.cloudfront.net/photos/pets/50516207/2/?bust=1613765812&width=100',\n",
       "   'medium': 'https://dl5zpyw5k3jeb.cloudfront.net/photos/pets/50516207/2/?bust=1613765812&width=300',\n",
       "   'large': 'https://dl5zpyw5k3jeb.cloudfront.net/photos/pets/50516207/2/?bust=1613765812&width=600',\n",
       "   'full': 'https://dl5zpyw5k3jeb.cloudfront.net/photos/pets/50516207/2/?bust=1613765812'},\n",
       "  {'small': 'https://dl5zpyw5k3jeb.cloudfront.net/photos/pets/50516207/3/?bust=1613585849&width=100',\n",
       "   'medium': 'https://dl5zpyw5k3jeb.cloudfront.net/photos/pets/50516207/3/?bust=1613585849&width=300',\n",
       "   'large': 'https://dl5zpyw5k3jeb.cloudfront.net/photos/pets/50516207/3/?bust=1613585849&width=600',\n",
       "   'full': 'https://dl5zpyw5k3jeb.cloudfront.net/photos/pets/50516207/3/?bust=1613585849'}],\n",
       " 'primary_photo_cropped': {'small': 'https://dl5zpyw5k3jeb.cloudfront.net/photos/pets/50516207/1/?bust=1613585850&width=300',\n",
       "  'medium': 'https://dl5zpyw5k3jeb.cloudfront.net/photos/pets/50516207/1/?bust=1613585850&width=450',\n",
       "  'large': 'https://dl5zpyw5k3jeb.cloudfront.net/photos/pets/50516207/1/?bust=1613585850&width=600',\n",
       "  'full': 'https://dl5zpyw5k3jeb.cloudfront.net/photos/pets/50516207/1/?bust=1613585850'},\n",
       " 'videos': [],\n",
       " 'status': 'adoptable',\n",
       " 'status_changed_at': '2021-02-10T23:06:43+0000',\n",
       " 'published_at': '2021-02-10T23:06:43+0000',\n",
       " 'distance': 213.4491,\n",
       " 'contact': {'email': 'savinghopeinquiries@gmail.com',\n",
       "  'phone': None,\n",
       "  'address': {'address1': None,\n",
       "   'address2': None,\n",
       "   'city': 'Fort Worth',\n",
       "   'state': 'TX',\n",
       "   'postcode': '76102',\n",
       "   'country': 'US'}},\n",
       " '_links': {'self': {'href': '/v2/animals/50516207'},\n",
       "  'type': {'href': '/v2/types/dog'},\n",
       "  'organization': {'href': '/v2/organizations/tx2337'}}}"
      ]
     },
     "execution_count": 11,
     "metadata": {},
     "output_type": "execute_result"
    }
   ],
   "source": [
    "tx_pet[2958]"
   ]
  },
  {
   "cell_type": "code",
   "execution_count": 13,
   "metadata": {},
   "outputs": [],
   "source": [
    "pets_with_tags = []\n",
    "for pet in tx_pet:\n",
    "    if pet['tags']:\n",
    "        pets_with_tags.append(pet)"
   ]
  },
  {
   "cell_type": "code",
   "execution_count": 14,
   "metadata": {},
   "outputs": [
    {
     "data": {
      "text/plain": [
       "1754"
      ]
     },
     "execution_count": 14,
     "metadata": {},
     "output_type": "execute_result"
    }
   ],
   "source": [
    "len(pets_with_tags)"
   ]
  },
  {
   "cell_type": "code",
   "execution_count": 15,
   "metadata": {},
   "outputs": [
    {
     "data": {
      "text/plain": [
       "{'id': 49987315,\n",
       " 'organization_id': 'TX1772',\n",
       " 'url': 'https://www.petfinder.com/cat/newman-49987315/tx/college-station/bcs-spay-tx1772/?referrer_id=ed934911-90d3-4771-a1a8-3b3282bb4828',\n",
       " 'type': 'Cat',\n",
       " 'species': 'Cat',\n",
       " 'breeds': {'primary': 'Domestic Short Hair',\n",
       "  'secondary': 'Manx',\n",
       "  'mixed': True,\n",
       "  'unknown': False},\n",
       " 'colors': {'primary': 'Orange & White', 'secondary': None, 'tertiary': None},\n",
       " 'age': 'Adult',\n",
       " 'gender': 'Male',\n",
       " 'size': 'Medium',\n",
       " 'coat': 'Short',\n",
       " 'attributes': {'spayed_neutered': True,\n",
       "  'house_trained': True,\n",
       "  'declawed': False,\n",
       "  'special_needs': True,\n",
       "  'shots_current': True},\n",
       " 'environment': {'children': False, 'dogs': True, 'cats': True},\n",
       " 'tags': ['Sweet', 'Cute', 'Vocal'],\n",
       " 'name': 'Newman',\n",
       " 'description': 'Newman needs a special foster or forever home. He suffered nerve damage when an injury led to his tail being...',\n",
       " 'organization_animal_id': None,\n",
       " 'photos': [{'small': 'https://dl5zpyw5k3jeb.cloudfront.net/photos/pets/49987315/1/?bust=1612454155&width=100',\n",
       "   'medium': 'https://dl5zpyw5k3jeb.cloudfront.net/photos/pets/49987315/1/?bust=1612454155&width=300',\n",
       "   'large': 'https://dl5zpyw5k3jeb.cloudfront.net/photos/pets/49987315/1/?bust=1612454155&width=600',\n",
       "   'full': 'https://dl5zpyw5k3jeb.cloudfront.net/photos/pets/49987315/1/?bust=1612454155'},\n",
       "  {'small': 'https://dl5zpyw5k3jeb.cloudfront.net/photos/pets/49987315/2/?bust=1612454141&width=100',\n",
       "   'medium': 'https://dl5zpyw5k3jeb.cloudfront.net/photos/pets/49987315/2/?bust=1612454141&width=300',\n",
       "   'large': 'https://dl5zpyw5k3jeb.cloudfront.net/photos/pets/49987315/2/?bust=1612454141&width=600',\n",
       "   'full': 'https://dl5zpyw5k3jeb.cloudfront.net/photos/pets/49987315/2/?bust=1612454141'},\n",
       "  {'small': 'https://dl5zpyw5k3jeb.cloudfront.net/photos/pets/49987315/3/?bust=1612454149&width=100',\n",
       "   'medium': 'https://dl5zpyw5k3jeb.cloudfront.net/photos/pets/49987315/3/?bust=1612454149&width=300',\n",
       "   'large': 'https://dl5zpyw5k3jeb.cloudfront.net/photos/pets/49987315/3/?bust=1612454149&width=600',\n",
       "   'full': 'https://dl5zpyw5k3jeb.cloudfront.net/photos/pets/49987315/3/?bust=1612454149'}],\n",
       " 'primary_photo_cropped': {'small': 'https://dl5zpyw5k3jeb.cloudfront.net/photos/pets/49987315/1/?bust=1612454155&width=300',\n",
       "  'medium': 'https://dl5zpyw5k3jeb.cloudfront.net/photos/pets/49987315/1/?bust=1612454155&width=450',\n",
       "  'large': 'https://dl5zpyw5k3jeb.cloudfront.net/photos/pets/49987315/1/?bust=1612454155&width=600',\n",
       "  'full': 'https://dl5zpyw5k3jeb.cloudfront.net/photos/pets/49987315/1/?bust=1612454155'},\n",
       " 'videos': [],\n",
       " 'status': 'adoptable',\n",
       " 'status_changed_at': '2020-12-08T03:15:50+0000',\n",
       " 'published_at': '2020-12-08T03:15:50+0000',\n",
       " 'distance': 217.5123,\n",
       " 'contact': {'email': 'BCSSpayDay@gmail.com',\n",
       "  'phone': '(979) 393-0043',\n",
       "  'address': {'address1': 'PO Box 11773',\n",
       "   'address2': None,\n",
       "   'city': 'College Station',\n",
       "   'state': 'TX',\n",
       "   'postcode': '77842',\n",
       "   'country': 'US'}},\n",
       " '_links': {'self': {'href': '/v2/animals/49987315'},\n",
       "  'type': {'href': '/v2/types/cat'},\n",
       "  'organization': {'href': '/v2/organizations/tx1772'}}}"
      ]
     },
     "execution_count": 15,
     "metadata": {},
     "output_type": "execute_result"
    }
   ],
   "source": [
    "pets_with_tags[800]"
   ]
  },
  {
   "cell_type": "code",
   "execution_count": 16,
   "metadata": {},
   "outputs": [],
   "source": [
    "pets_with_desc = []\n",
    "for pet in tx_pet:\n",
    "    if pet['description']:\n",
    "        pets_with_desc.append(pet)"
   ]
  },
  {
   "cell_type": "code",
   "execution_count": 17,
   "metadata": {},
   "outputs": [
    {
     "data": {
      "text/plain": [
       "10842"
      ]
     },
     "execution_count": 17,
     "metadata": {},
     "output_type": "execute_result"
    }
   ],
   "source": [
    "len(pets_with_desc)"
   ]
  },
  {
   "cell_type": "code",
   "execution_count": 1,
   "metadata": {},
   "outputs": [],
   "source": [
    "## Scraping full description in another notebook. Read the json here\n",
    "## pet_with_desc.json has full description for pet with clickable url link; for those without,\n",
    "## 'description' is set to None.\n",
    "import json\n",
    "with open('pet_with_desc.json') as f:\n",
    "    tx_pet = json.load(f)"
   ]
  },
  {
   "cell_type": "code",
   "execution_count": 2,
   "metadata": {},
   "outputs": [
    {
     "data": {
      "text/plain": [
       "14556"
      ]
     },
     "execution_count": 2,
     "metadata": {},
     "output_type": "execute_result"
    }
   ],
   "source": [
    "len(tx_pet)"
   ]
  },
  {
   "cell_type": "code",
   "execution_count": 3,
   "metadata": {},
   "outputs": [],
   "source": [
    "pets_with_desc = []\n",
    "for pet in tx_pet:\n",
    "    if pet['description']:\n",
    "        pets_with_desc.append(pet)"
   ]
  },
  {
   "cell_type": "code",
   "execution_count": 4,
   "metadata": {},
   "outputs": [
    {
     "data": {
      "text/plain": [
       "10553"
      ]
     },
     "execution_count": 4,
     "metadata": {},
     "output_type": "execute_result"
    }
   ],
   "source": [
    "len(pets_with_desc)"
   ]
  },
  {
   "cell_type": "code",
   "execution_count": 29,
   "metadata": {},
   "outputs": [
    {
     "data": {
      "text/plain": [
       "{'id': 49935239,\n",
       " 'organization_id': 'TX774',\n",
       " 'url': 'https://www.petfinder.com/cat/piper-49935239/tx/bulverde/bulverde-area-humane-society-tx774/?referrer_id=ed934911-90d3-4771-a1a8-3b3282bb4828',\n",
       " 'type': 'Cat',\n",
       " 'species': 'Cat',\n",
       " 'breeds': {'primary': 'Domestic Short Hair',\n",
       "  'secondary': None,\n",
       "  'mixed': True,\n",
       "  'unknown': False},\n",
       " 'colors': {'primary': 'Calico', 'secondary': None, 'tertiary': None},\n",
       " 'age': 'Adult',\n",
       " 'gender': 'Female',\n",
       " 'size': 'Large',\n",
       " 'coat': None,\n",
       " 'attributes': {'spayed_neutered': True,\n",
       "  'house_trained': True,\n",
       "  'declawed': False,\n",
       "  'special_needs': False,\n",
       "  'shots_current': True},\n",
       " 'environment': {'children': None, 'dogs': None, 'cats': None},\n",
       " 'tags': [],\n",
       " 'name': 'Piper',\n",
       " 'description': \"\\n        PIPER!  This sugary girl came in with four baby boys (Graham, Hugo, Link & Ozzy).  She was a magnificent kitten mom.  She is quite young.  She is very shy (not feral at all).  She loves to get petted and rubbed.  She has a beautiful purr.  She is just frightened of life.  We don't know what has made her so afraid, but we believe she was outside quite a bit.  She has probably had to protect herself and her babies until the kind people that rescued her brought her in to us. She was nursing her babies and gave them all she had causing a significant calcium deficiency.  With lots of good nutrition and calcium supplements, she has recovered fully.\\nShe befriends very quickly, but needs a home that will embrace her, be patient, gentle and kind.  Simply love her.\\nPiper is approximately 1 year old, microchipped, spayed, dewormed, combo tested and negative for FIV and feline leukemia.  She is up to date on her shots.  She must be an indoor kitty and never be declawed so that she knows she is a cherished member of the family.  \\nGive us a call, send an email or visit our website to setup an appt.  \\n(830) 980-2247\\nwww.bulverdeshelter.com\\n bahshelter@yahoo.com  \\nIf you would like to speed up the adoption process, print out, fill out and bring in your adoption application when you visit.\\n    \",\n",
       " 'organization_animal_id': None,\n",
       " 'photos': [{'small': 'https://dl5zpyw5k3jeb.cloudfront.net/photos/pets/49935239/1/?bust=1606869492&width=100',\n",
       "   'medium': 'https://dl5zpyw5k3jeb.cloudfront.net/photos/pets/49935239/1/?bust=1606869492&width=300',\n",
       "   'large': 'https://dl5zpyw5k3jeb.cloudfront.net/photos/pets/49935239/1/?bust=1606869492&width=600',\n",
       "   'full': 'https://dl5zpyw5k3jeb.cloudfront.net/photos/pets/49935239/1/?bust=1606869492'},\n",
       "  {'small': 'https://dl5zpyw5k3jeb.cloudfront.net/photos/pets/49935239/2/?bust=1606869492&width=100',\n",
       "   'medium': 'https://dl5zpyw5k3jeb.cloudfront.net/photos/pets/49935239/2/?bust=1606869492&width=300',\n",
       "   'large': 'https://dl5zpyw5k3jeb.cloudfront.net/photos/pets/49935239/2/?bust=1606869492&width=600',\n",
       "   'full': 'https://dl5zpyw5k3jeb.cloudfront.net/photos/pets/49935239/2/?bust=1606869492'},\n",
       "  {'small': 'https://dl5zpyw5k3jeb.cloudfront.net/photos/pets/49935239/3/?bust=1606869493&width=100',\n",
       "   'medium': 'https://dl5zpyw5k3jeb.cloudfront.net/photos/pets/49935239/3/?bust=1606869493&width=300',\n",
       "   'large': 'https://dl5zpyw5k3jeb.cloudfront.net/photos/pets/49935239/3/?bust=1606869493&width=600',\n",
       "   'full': 'https://dl5zpyw5k3jeb.cloudfront.net/photos/pets/49935239/3/?bust=1606869493'}],\n",
       " 'primary_photo_cropped': {'small': 'https://dl5zpyw5k3jeb.cloudfront.net/photos/pets/49935239/1/?bust=1606869492&width=300',\n",
       "  'medium': 'https://dl5zpyw5k3jeb.cloudfront.net/photos/pets/49935239/1/?bust=1606869492&width=450',\n",
       "  'large': 'https://dl5zpyw5k3jeb.cloudfront.net/photos/pets/49935239/1/?bust=1606869492&width=600',\n",
       "  'full': 'https://dl5zpyw5k3jeb.cloudfront.net/photos/pets/49935239/1/?bust=1606869492'},\n",
       " 'videos': [{'embed': '<iframe title=\"Video\" src=\"https://www.facebook.com/video/embed?video_id=3646114795438109\" frameborder=\"0\" allowfullscreen></iframe>'}],\n",
       " 'status': 'adoptable',\n",
       " 'status_changed_at': '2020-12-02T00:39:30+0000',\n",
       " 'published_at': '2020-12-02T00:39:30+0000',\n",
       " 'distance': 113.3342,\n",
       " 'contact': {'email': 'bahshelter@yahoo.com',\n",
       "  'phone': '(830) 980-2247',\n",
       "  'address': {'address1': '3563 Kingsnake',\n",
       "   'address2': 'PO BOX 50',\n",
       "   'city': 'Bulverde',\n",
       "   'state': 'TX',\n",
       "   'postcode': '78163',\n",
       "   'country': 'US'}},\n",
       " '_links': {'self': {'href': '/v2/animals/49935239'},\n",
       "  'type': {'href': '/v2/types/cat'},\n",
       "  'organization': {'href': '/v2/organizations/tx774'}}}"
      ]
     },
     "execution_count": 29,
     "metadata": {},
     "output_type": "execute_result"
    }
   ],
   "source": [
    "pets_with_desc[5349]"
   ]
  },
  {
   "cell_type": "code",
   "execution_count": 6,
   "metadata": {},
   "outputs": [],
   "source": [
    "new_json = []\n",
    "for pet in pets_with_desc:\n",
    "    new_dict = {}\n",
    "    new_dict['id'] = pet['id']\n",
    "    new_dict['species'] = pet['species']\n",
    "    new_dict['breeds'] = pet['breeds']['primary']\n",
    "    new_dict['color'] = pet['colors']['primary']\n",
    "    new_dict['age'] = pet['age']\n",
    "    new_dict['gender'] = pet['gender']\n",
    "    new_dict['size'] = pet['size']\n",
    "    new_dict['name'] = pet['name']\n",
    "    new_dict['tags'] = pet['tags']\n",
    "    new_dict['description'] = pet['description']\n",
    "    new_dict['url'] = pet['url']\n",
    "    new_json.append(new_dict)"
   ]
  },
  {
   "cell_type": "code",
   "execution_count": 15,
   "metadata": {},
   "outputs": [],
   "source": [
    "for pet in new_json:\n",
    "    pet['description'] = pet['description'].strip().replace('\\n', '')"
   ]
  },
  {
   "cell_type": "code",
   "execution_count": 19,
   "metadata": {},
   "outputs": [
    {
     "data": {
      "text/plain": [
       "'? Meet Paisley ?Hi, I’m Paisley and I’m patiently waiting for my forever home. I was rescued with my mom (Marley), my brother (Thumper), and my sister (Lady). Tiny Paws Rescue took us all in when we needed help finding new homes. I was spayed and got all of my shots, and also had to have heartworm treatment, which was pretty tough on me. I’m all better now and it’s time for me to find a family to love me. I love my humans, adults and kids, and don’t have much interest in my dog friends at my foster home. I mainly just want a home that has someone to give me LOTS of attention and pets (and treats too, hint hint ?). It takes me a while to warm up to new people but once I do I’ll be your best friend. I’ll follow you all over and make sure you aren’t going too far. I’m 3 years old and I weigh 22 pounds, and I’m a low-rider which makes me extra cute if you ask me. I need a home where I can have time to settle in and let me get comfortable with my new surroundings. If you’re interested in meeting me please fill out an application for me. I can’t wait to meet my new forever family. Love, Paisley. ? ?www.tinypawsrescue.com for an application'"
      ]
     },
     "execution_count": 19,
     "metadata": {},
     "output_type": "execute_result"
    }
   ],
   "source": [
    "new_json[4]['description']"
   ]
  },
  {
   "cell_type": "code",
   "execution_count": 17,
   "metadata": {},
   "outputs": [],
   "source": [
    "import json\n",
    "with open('processed_data.json', 'w') as json_file:\n",
    "    json.dump(new_json, json_file)"
   ]
  },
  {
   "cell_type": "code",
   "execution_count": 24,
   "metadata": {},
   "outputs": [],
   "source": [
    "import json\n",
    "with open('processed_data.json') as f:\n",
    "    data = json.load(f)"
   ]
  },
  {
   "cell_type": "code",
   "execution_count": 163,
   "metadata": {},
   "outputs": [],
   "source": [
    "cleaned_data = []\n",
    "for pet in data:\n",
    "    new_dict = {}\n",
    "    new_dict['id'] = pet['id']\n",
    "    new_dict['url'] = pet['url']\n",
    "    if pet['species'] in pet['breeds']:\n",
    "        new_info = pet['breeds'].replace(pet['species'],'')\n",
    "    else:\n",
    "        new_info = pet['breeds']\n",
    "    if pet['color']:\n",
    "        new_info = new_info + \" \" + pet['color'].replace(\"/\",\"\")\n",
    "    if pet['age']:\n",
    "        new_info = new_info + \" \" + pet['age']\n",
    "    if pet['gender']:\n",
    "        new_info = new_info + \" \" + pet['gender']\n",
    "    if pet['size']:\n",
    "        new_info = new_info + \" \" + pet['size']\n",
    "    new_dict['info'] = new_info\n",
    "    new_dict['info'] = new_dict['info'].strip()\n",
    "    new_dict['species'] = pet['species']\n",
    "    new_dict['description'] = pet['description']\n",
    "    cleaned_data.append(new_dict)\n"
   ]
  },
  {
   "cell_type": "code",
   "execution_count": 165,
   "metadata": {},
   "outputs": [],
   "source": [
    "import json\n",
    "with open('cleaned_data.json', 'w') as json_file:\n",
    "    json.dump(cleaned_data, json_file)"
   ]
  },
  {
   "cell_type": "code",
   "execution_count": 164,
   "metadata": {},
   "outputs": [
    {
     "data": {
      "text/plain": [
       "'Domestic Short Hair Baby Male Small'"
      ]
     },
     "execution_count": 164,
     "metadata": {},
     "output_type": "execute_result"
    }
   ],
   "source": [
    "cleaned_data[1000]['info']"
   ]
  },
  {
   "cell_type": "code",
   "execution_count": 158,
   "metadata": {},
   "outputs": [
    {
     "name": "stdout",
     "output_type": "stream",
     "text": [
      "Pit Bull Terrier Dog Gray  Blue  Silver Adult Female Medium\n"
     ]
    }
   ],
   "source": [
    "for pet in cleaned_data:\n",
    "    if pet['id'] == 50408986:\n",
    "        print(pet['info'])"
   ]
  }
 ],
 "metadata": {
  "kernelspec": {
   "display_name": "Python 3",
   "language": "python",
   "name": "python3"
  },
  "language_info": {
   "codemirror_mode": {
    "name": "ipython",
    "version": 3
   },
   "file_extension": ".py",
   "mimetype": "text/x-python",
   "name": "python",
   "nbconvert_exporter": "python",
   "pygments_lexer": "ipython3",
   "version": "3.8.3"
  }
 },
 "nbformat": 4,
 "nbformat_minor": 5
}
