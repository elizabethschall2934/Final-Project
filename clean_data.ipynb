{
 "cells": [
  {
   "cell_type": "code",
   "execution_count": 1,
   "id": "inappropriate-garlic",
   "metadata": {},
   "outputs": [
    {
     "ename": "ModuleNotFoundError",
     "evalue": "No module named 'seaborn'",
     "output_type": "error",
     "traceback": [
      "\u001b[1;31m---------------------------------------------------------------------------\u001b[0m",
      "\u001b[1;31mModuleNotFoundError\u001b[0m                       Traceback (most recent call last)",
      "\u001b[1;32m<ipython-input-1-ae8949a96d6f>\u001b[0m in \u001b[0;36m<module>\u001b[1;34m\u001b[0m\n\u001b[0;32m      3\u001b[0m \u001b[1;32mimport\u001b[0m \u001b[0mmatplotlib\u001b[0m\u001b[1;33m.\u001b[0m\u001b[0mpyplot\u001b[0m \u001b[1;32mas\u001b[0m \u001b[0mplt\u001b[0m\u001b[1;33m\u001b[0m\u001b[1;33m\u001b[0m\u001b[0m\n\u001b[0;32m      4\u001b[0m \u001b[1;32mfrom\u001b[0m \u001b[0mscipy\u001b[0m \u001b[1;32mimport\u001b[0m \u001b[0mstats\u001b[0m\u001b[1;33m\u001b[0m\u001b[1;33m\u001b[0m\u001b[0m\n\u001b[1;32m----> 5\u001b[1;33m \u001b[1;32mimport\u001b[0m \u001b[0mseaborn\u001b[0m \u001b[1;32mas\u001b[0m \u001b[0msns\u001b[0m\u001b[1;33m\u001b[0m\u001b[1;33m\u001b[0m\u001b[0m\n\u001b[0m\u001b[0;32m      6\u001b[0m \u001b[1;32mimport\u001b[0m \u001b[0mos\u001b[0m\u001b[1;33m\u001b[0m\u001b[1;33m\u001b[0m\u001b[0m\n\u001b[0;32m      7\u001b[0m \u001b[1;32mimport\u001b[0m \u001b[0mcsv\u001b[0m\u001b[1;33m\u001b[0m\u001b[1;33m\u001b[0m\u001b[0m\n",
      "\u001b[1;31mModuleNotFoundError\u001b[0m: No module named 'seaborn'"
     ]
    }
   ],
   "source": [
    "import pandas as pd\n",
    "import numpy as np\n",
    "import matplotlib.pyplot as plt\n",
    "from scipy import stats\n",
    "import seaborn as sns\n",
    "import os\n",
    "import csv"
   ]
  },
  {
   "cell_type": "code",
   "execution_count": null,
   "id": "introductory-physics",
   "metadata": {},
   "outputs": [],
   "source": [
    "# File to Load (Remember to Change These if my path is different)\n",
    "intakes2_data_load = \"Data/Austin_Animal_Center_Intakes2.csv\"\n",
    "outcomes2_data_load = \"Data/Austin_Animal_Center_Outcomes2.csv\"\n",
    "\n",
    "intakes2_data = pd.read_csv(intakes2_data_load)\n",
    "outcomes2_data = pd.read_csv(outcomes2_data_load)"
   ]
  },
  {
   "cell_type": "code",
   "execution_count": null,
   "id": "brief-arizona",
   "metadata": {},
   "outputs": [],
   "source": [
    "outcomes2_data[\"Animal ID\"].astype(str)\n",
    "intakes2_data[\"Animal ID\"].astype(str)"
   ]
  },
  {
   "cell_type": "code",
   "execution_count": null,
   "id": "greenhouse-trader",
   "metadata": {},
   "outputs": [],
   "source": [
    "outcomes2_data[\"Animal ID\"] = outcomes2_data[\"Animal ID\"].map(lambda x: str(x)[1:])\n",
    "intakes2_data[\"Animal ID\"] = intakes2_data[\"Animal ID\"].map(lambda x: str(x)[1:])"
   ]
  },
  {
   "cell_type": "code",
   "execution_count": null,
   "id": "contrary-press",
   "metadata": {},
   "outputs": [],
   "source": [
    "outcomes2_data = outcomes2_data.drop(columns=['Name', 'MonthYear', 'Animal Type','Breed','Color'])\n",
    "intakes2_data = intakes2_data.drop(columns=['MonthYear'])"
   ]
  },
  {
   "cell_type": "code",
   "execution_count": null,
   "id": "related-factory",
   "metadata": {},
   "outputs": [],
   "source": [
    "outcomes2_data = outcomes2_data.sort_values(by=[\"Animal ID\", \"DateTime\"], ascending=False)\n",
    "intakes2_data = intakes2_data.sort_values(by=[\"Animal ID\", \"DateTime\"], ascending=False)"
   ]
  },
  {
   "cell_type": "code",
   "execution_count": null,
   "id": "micro-barrel",
   "metadata": {},
   "outputs": [],
   "source": [
    "outcomes2_data = outcomes2_data.drop_duplicates([\"Animal ID\"], keep= 'first')\n",
    "intakes2_data = intakes2_data.drop_duplicates([\"Animal ID\"], keep= 'first')"
   ]
  },
  {
   "cell_type": "code",
   "execution_count": null,
   "id": "endless-margin",
   "metadata": {},
   "outputs": [],
   "source": [
    "outcomes2_data.rename(columns = {'DateTime':'DateTime_out'}, inplace = True)"
   ]
  },
  {
   "cell_type": "code",
   "execution_count": null,
   "id": "photographic-corporation",
   "metadata": {},
   "outputs": [],
   "source": [
    "# Combine the data into a single dataset.  \n",
    "allanimal2_data = pd.merge(intakes2_data,outcomes2_data, how='left', on=[\"Animal ID\",\"Animal ID\"])\n",
    "allanimal2_data"
   ]
  },
  {
   "cell_type": "code",
   "execution_count": null,
   "id": "successful-native",
   "metadata": {},
   "outputs": [],
   "source": [
    "allanimal2_data[\"DateTime\"]= pd.to_datetime(allanimal2_data[\"DateTime\"])"
   ]
  },
  {
   "cell_type": "code",
   "execution_count": null,
   "id": "charming-coordinator",
   "metadata": {},
   "outputs": [],
   "source": [
    "allanimal2_data[\"DateTime_out\"]= pd.to_datetime(allanimal2_data[\"DateTime_out\"])"
   ]
  },
  {
   "cell_type": "code",
   "execution_count": null,
   "id": "owned-donor",
   "metadata": {},
   "outputs": [],
   "source": [
    "allanimal2_data[\"shelter_time\"] = allanimal2_data[\"DateTime_out\"] - allanimal2_data[\"DateTime\"]"
   ]
  },
  {
   "cell_type": "code",
   "execution_count": null,
   "id": "complete-corps",
   "metadata": {},
   "outputs": [],
   "source": [
    "allanimal2_data.loc[allanimal2_data['shelter_time'] > pd.Timedelta(0)]"
   ]
  },
  {
   "cell_type": "code",
   "execution_count": null,
   "id": "animal-trouble",
   "metadata": {},
   "outputs": [],
   "source": [
    "allanimal2_data[\"shelter_time\"] = allanimal2_data[\"shelter_time\"].astype(str)"
   ]
  },
  {
   "cell_type": "code",
   "execution_count": null,
   "id": "casual-candy",
   "metadata": {},
   "outputs": [],
   "source": [
    "allanimal2_data.dtypes"
   ]
  },
  {
   "cell_type": "code",
   "execution_count": null,
   "id": "veterinary-general",
   "metadata": {},
   "outputs": [],
   "source": [
    "allanimal2_data[\"shelter_days\"] = allanimal2_data[\"shelter_time\"].str[:2]"
   ]
  },
  {
   "cell_type": "code",
   "execution_count": null,
   "id": "rubber-captain",
   "metadata": {},
   "outputs": [],
   "source": [
    "allanimal2_data"
   ]
  },
  {
   "cell_type": "code",
   "execution_count": null,
   "id": "accurate-acting",
   "metadata": {},
   "outputs": [],
   "source": [
    "allanimal2_data[\"shelter_days\"] = allanimal2_data[\"shelter_days\"].replace(\"Na\", 0.1)"
   ]
  },
  {
   "cell_type": "code",
   "execution_count": null,
   "id": "dense-texture",
   "metadata": {},
   "outputs": [],
   "source": [
    "allanimal2_data"
   ]
  },
  {
   "cell_type": "code",
   "execution_count": null,
   "id": "opening-netherlands",
   "metadata": {},
   "outputs": [],
   "source": [
    "allanimal2_data[\"shelter_days\"] = allanimal2_data[\"shelter_days\"].astype(int)"
   ]
  },
  {
   "cell_type": "code",
   "execution_count": null,
   "id": "german-madness",
   "metadata": {},
   "outputs": [],
   "source": [
    "allanimal2_data.loc[allanimal2_data[\"shelter_days\"].isin(range(0,1)), \"Adopt Rating\"] = \"AA\"\n",
    "allanimal2_data.loc[allanimal2_data[\"shelter_days\"].isin(range(2,5)), \"Adopt Rating\"] = \"A\"\n",
    "allanimal2_data.loc[allanimal2_data[\"shelter_days\"].isin(range(6,14)), \"Adopt Rating\"] = \"B\"\n",
    "allanimal2_data.loc[allanimal2_data[\"shelter_days\"].isin(range(15,30)), \"Adopt Rating\"] = \"C\"\n",
    "allanimal2_data.loc[allanimal2_data[\"shelter_days\"].isin(range(31,90)), \"Adopt Rating\"] = \"D\"\n",
    "allanimal2_data.loc[allanimal2_data[\"shelter_days\"].isin(range(91,1000)), \"Adopt Rating\"] = \"F\"\n"
   ]
  },
  {
   "cell_type": "code",
   "execution_count": null,
   "id": "double-asian",
   "metadata": {},
   "outputs": [],
   "source": [
    "allanimal2_data"
   ]
  },
  {
   "cell_type": "code",
   "execution_count": null,
   "id": "shared-chorus",
   "metadata": {},
   "outputs": [],
   "source": [
    "allanimal2_data.loc[allanimal2_data[\"Outcome Type\"]!=\"Adoption\", \"Adopt Rating\"] = \"Not Adopted\""
   ]
  },
  {
   "cell_type": "code",
   "execution_count": null,
   "id": "thermal-noise",
   "metadata": {},
   "outputs": [],
   "source": [
    "allanimal2_data"
   ]
  },
  {
   "cell_type": "code",
   "execution_count": null,
   "id": "waiting-owner",
   "metadata": {},
   "outputs": [],
   "source": [
    "allanimal2_data.loc[allanimal2_data[\"shelter_time\"]==\"NaT\", \"shelter_days\"] = \"New intake\""
   ]
  },
  {
   "cell_type": "code",
   "execution_count": null,
   "id": "numerous-consumption",
   "metadata": {},
   "outputs": [],
   "source": [
    "allanimal2_data"
   ]
  },
  {
   "cell_type": "code",
   "execution_count": null,
   "id": "european-triple",
   "metadata": {},
   "outputs": [],
   "source": [
    "allanimal2_data.to_csv(\"all_animals_merge.csv\", index=False)"
   ]
  },
  {
   "cell_type": "code",
   "execution_count": null,
   "id": "about-warrior",
   "metadata": {},
   "outputs": [],
   "source": [
    "adoption_speed = allanimal2_data.groupby(\"Adopt Rating\")"
   ]
  },
  {
   "cell_type": "code",
   "execution_count": null,
   "id": "intellectual-story",
   "metadata": {
    "scrolled": true
   },
   "outputs": [],
   "source": [
    "speed_data = adoption_speed[\"Adopt Rating\"].count()\n",
    "\n",
    "ax1 = speed_data.plot.bar(facecolor='magenta',title=\"Adoption Ratings\")\n",
    "ax1.set_xlabel(\"Rating\")\n",
    "ax1.set_ylabel(\"Count\")"
   ]
  },
  {
   "cell_type": "code",
   "execution_count": null,
   "id": "ranging-class",
   "metadata": {},
   "outputs": [],
   "source": [
    "allanimal2_data[\"Outcome Type\"] = allanimal2_data[\"Outcome Type\"].replace(\"NaN\", -1)"
   ]
  },
  {
   "cell_type": "code",
   "execution_count": null,
   "id": "honest-albany",
   "metadata": {},
   "outputs": [],
   "source": [
    "outcome = allanimal2_data.groupby(\"Outcome Type\")"
   ]
  },
  {
   "cell_type": "code",
   "execution_count": null,
   "id": "organizational-cornwall",
   "metadata": {},
   "outputs": [],
   "source": [
    "outcome_data = outcome[\"Outcome Type\"].count()\n",
    "\n",
    "ax1 = outcome_data.plot.bar(facecolor='purple')\n",
    "ax1.set_xlabel(\"Outcome\")\n",
    "ax1.set_ylabel(\"Count\")"
   ]
  },
  {
   "cell_type": "code",
   "execution_count": null,
   "id": "aboriginal-polish",
   "metadata": {},
   "outputs": [],
   "source": [
    "sex = allanimal2_data.groupby(\"Sex upon Outcome\")\n",
    "sex_data = sex[\"Sex upon Outcome\"].count()\n",
    "\n",
    "ax1 = sex_data.plot.bar(facecolor='blue')\n",
    "ax1.set_xlabel(\"Male/Female\")\n",
    "ax1.set_ylabel(\"Count\")"
   ]
  },
  {
   "cell_type": "code",
   "execution_count": null,
   "id": "pleasant-librarian",
   "metadata": {},
   "outputs": [],
   "source": [
    "import seaborn as sns"
   ]
  },
  {
   "cell_type": "code",
   "execution_count": null,
   "id": "oriental-honduras",
   "metadata": {},
   "outputs": [],
   "source": [
    "sns.catplot(x = \"x\",       # x variable name\n",
    "            y = \"y\",       # y variable name\n",
    "            hue = \"type\",  # group variable name\n",
    "            data = df,     # dataframe to plot\n",
    "            kind = \"bar\")"
   ]
  },
  {
   "cell_type": "code",
   "execution_count": null,
   "id": "toxic-laugh",
   "metadata": {},
   "outputs": [],
   "source": [
    "species = allanimal2_data.groupby(\"Animal Type\")\n",
    "species_data = species[\"Animal Type\"].count()\n",
    "\n",
    "ax1 = allanimal2_data.plot(kind='bar', x='species', y='sex', rot=90, facecolor='orange')\n",
    "ax1.set_xlabel(\"Species\")\n",
    "ax1.set_ylabel(\"Male/Female\")"
   ]
  },
  {
   "cell_type": "code",
   "execution_count": null,
   "id": "angry-extra",
   "metadata": {},
   "outputs": [],
   "source": []
  },
  {
   "cell_type": "code",
   "execution_count": null,
   "id": "swiss-hawaii",
   "metadata": {},
   "outputs": [],
   "source": [
    "#adopted2_animals = allanimal2_data[allanimal2_data[\"Outcome Type\"]==\"Adoption\"]\n",
    "#adopted2_animals.head()"
   ]
  },
  {
   "cell_type": "code",
   "execution_count": null,
   "id": "lyric-christmas",
   "metadata": {},
   "outputs": [],
   "source": [
    "#animal_data = adopted_animals.drop_duplicates([\"Animal ID\"], keep= 'first')"
   ]
  },
  {
   "cell_type": "code",
   "execution_count": null,
   "id": "median-assumption",
   "metadata": {},
   "outputs": [],
   "source": [
    "type_cat = animal_data.loc[animal_data[\"Animal Type\"] == \"Cat\"]\n",
    "type_dog = animal_data.loc[animal_data[\"Animal Type\"] == \"Dog\"]\n",
    "type_bird = animal_data.loc[animal_data[\"Animal Type\"] == \"Bird\"]\n",
    "type_livestock = animal_data.loc[animal_data[\"Animal Type\"] == \"Livestock\"]\n",
    "type_other = animal_data.loc[animal_data[\"Animal Type\"] == \"Other\"]"
   ]
  },
  {
   "cell_type": "code",
   "execution_count": null,
   "id": "naughty-aaron",
   "metadata": {},
   "outputs": [],
   "source": [
    "    type_cats = type_cat[type_cat['shelter_time'] > pd.Timedelta(0)]\n",
    "    type_dogs = type_dog[type_dog['shelter_time'] > pd.Timedelta(0)]\n",
    "    type_birds = type_bird[type_bird['shelter_time'] > pd.Timedelta(0)]\n",
    "    type_livestocks = type_livestock[type_livestock['shelter_time'] > pd.Timedelta(0)]\n",
    "    type_others = type_other[type_other['shelter_time'] > pd.Timedelta(0)]"
   ]
  },
  {
   "cell_type": "code",
   "execution_count": null,
   "id": "abstract-acting",
   "metadata": {},
   "outputs": [],
   "source": [
    "type_cats.to_csv(\"adopted_cats_clean.csv\", index=False)\n",
    "type_dogs.to_csv(\"adopted_dogs_clean.csv\", index=False)\n",
    "type_birds.to_csv(\"adopted_birds_clean.csv\", index=False)\n",
    "type_livestocks.to_csv(\"adopted_livestock_clean.csv\", index=False)\n",
    "type_others.to_csv(\"adopted_other_clean.csv\", index=False)"
   ]
  },
  {
   "cell_type": "code",
   "execution_count": null,
   "id": "outstanding-secret",
   "metadata": {},
   "outputs": [],
   "source": []
  }
 ],
 "metadata": {
  "kernelspec": {
   "display_name": "Python 3",
   "language": "python",
   "name": "python3"
  },
  "language_info": {
   "codemirror_mode": {
    "name": "ipython",
    "version": 3
   },
   "file_extension": ".py",
   "mimetype": "text/x-python",
   "name": "python",
   "nbconvert_exporter": "python",
   "pygments_lexer": "ipython3",
   "version": "3.6.12"
  }
 },
 "nbformat": 4,
 "nbformat_minor": 5
}
