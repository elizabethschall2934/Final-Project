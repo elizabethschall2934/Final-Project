{
 "cells": [
  {
   "cell_type": "code",
   "execution_count": null,
   "id": "induced-wheat",
   "metadata": {},
   "outputs": [],
   "source": [
    "import pandas as pd\n",
    "import os\n",
    "import csv"
   ]
  },
  {
   "cell_type": "code",
   "execution_count": null,
   "id": "entire-subscription",
   "metadata": {},
   "outputs": [],
   "source": [
    "adopted_cats_load = \"adopted_cats_clean.csv\"\n",
    "adopted_dogs_load = \"adopted_dogs_clean.csv\"\n",
    "adopted_birds_load = \"adopted_birds_clean.csv\"\n",
    "adopted_livestock_load = \"adopted_livestock_clean.csv\"\n",
    "adopted_other_load = \"adopted_other_clean.csv\"\n",
    "\n",
    "adopted_cats = pd.read_csv(adopted_cats_load)\n",
    "adopted_dogs = pd.read_csv(adopted_dogs_load)\n",
    "adopted_birds = pd.read_csv(adopted_birds_load)\n",
    "adopted_livestock = pd.read_csv(adopted_livestock_load)\n",
    "adopted_other = pd.read_csv(adopted_other_load)"
   ]
  },
  {
   "cell_type": "code",
   "execution_count": null,
   "id": "specialized-resort",
   "metadata": {},
   "outputs": [],
   "source": [
    "adopted_cats.dtypes"
   ]
  },
  {
   "cell_type": "code",
   "execution_count": null,
   "id": "familiar-navigation",
   "metadata": {},
   "outputs": [],
   "source": [
    "adopted_cats[\"shelter_time\"].astype(str)\n",
    "adopted_dogs[\"shelter_time\"].astype(str)\n",
    "adopted_birds[\"shelter_time\"].astype(str)\n",
    "adopted_livestock[\"shelter_time\"].astype(str)\n",
    "adopted_other[\"shelter_time\"].astype(str)"
   ]
  },
  {
   "cell_type": "code",
   "execution_count": null,
   "id": "statewide-martin",
   "metadata": {},
   "outputs": [],
   "source": [
    "adopted_cats[\"shelter_days\"] = adopted_cats[\"shelter_time\"].str[:2]\n",
    "adopted_dogs[\"shelter_days\"] = adopted_dogs[\"shelter_time\"].str[:2]\n",
    "adopted_birds[\"shelter_days\"] = adopted_birds[\"shelter_time\"].str[:2]\n",
    "adopted_livestock[\"shelter_days\"] = adopted_livestock[\"shelter_time\"].str[:2]\n",
    "adopted_other[\"shelter_days\"] = adopted_other[\"shelter_time\"].str[:2]"
   ]
  },
  {
   "cell_type": "code",
   "execution_count": null,
   "id": "objective-essay",
   "metadata": {},
   "outputs": [],
   "source": [
    "adopted_cats.head()"
   ]
  },
  {
   "cell_type": "code",
   "execution_count": null,
   "id": "marine-costume",
   "metadata": {},
   "outputs": [],
   "source": [
    "adopted_cats[\"shelter_days\"].astype(int)\n",
    "adopted_dogs[\"shelter_days\"].astype(int)\n",
    "adopted_birds[\"shelter_days\"].astype(int)\n",
    "adopted_livestock[\"shelter_days\"].astype(int)\n",
    "adopted_other[\"shelter_days\"].astype(int)"
   ]
  },
  {
   "cell_type": "code",
   "execution_count": null,
   "id": "disabled-french",
   "metadata": {},
   "outputs": [],
   "source": [
    "adopted_cats.to_csv(\"adopted_cats_ML.csv\", index=False)\n",
    "adopted_cats.to_csv(\"adopted_dogs_ML.csv\", index=False)\n",
    "adopted_cats.to_csv(\"adopted_birds_ML.csv\", index=False)\n",
    "adopted_cats.to_csv(\"adopted_livestock_ML.csv\", index=False)\n",
    "adopted_cats.to_csv(\"adopted_other_ML.csv\", index=False)"
   ]
  }
 ],
 "metadata": {
  "kernelspec": {
   "display_name": "Python 3",
   "language": "python",
   "name": "python3"
  },
  "language_info": {
   "codemirror_mode": {
    "name": "ipython",
    "version": 3
   },
   "file_extension": ".py",
   "mimetype": "text/x-python",
   "name": "python",
   "nbconvert_exporter": "python",
   "pygments_lexer": "ipython3",
   "version": "3.6.12"
  }
 },
 "nbformat": 4,
 "nbformat_minor": 5
}
