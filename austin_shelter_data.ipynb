{
 "cells": [
  {
   "cell_type": "code",
   "execution_count": null,
   "id": "exempt-squad",
   "metadata": {},
   "outputs": [],
   "source": [
    "import pandas as pd\n",
    "import numpy as np\n",
    "import matplotlib.pyplot as plt\n",
    "from scipy import stats\n",
    "import os\n",
    "import csv"
   ]
  },
  {
   "cell_type": "code",
   "execution_count": null,
   "id": "metric-spider",
   "metadata": {},
   "outputs": [],
   "source": [
    "# File to Load (Remember to Change These if my path is different)\n",
    "intakes2_data_load = \"Data/Austin_Animal_Center_Intakes2.csv\"\n",
    "outcomes2_data_load = \"Data/Austin_Animal_Center_Outcomes2.csv\"\n",
    "\n",
    "intakes2_data = pd.read_csv(intakes2_data_load)\n",
    "outcomes2_data = pd.read_csv(outcomes2_data_load)"
   ]
  },
  {
   "cell_type": "code",
   "execution_count": null,
   "id": "challenging-dublin",
   "metadata": {},
   "outputs": [],
   "source": []
  },
  {
   "cell_type": "code",
   "execution_count": null,
   "id": "approved-thomson",
   "metadata": {},
   "outputs": [],
   "source": []
  },
  {
   "cell_type": "code",
   "execution_count": null,
   "id": "alone-evidence",
   "metadata": {},
   "outputs": [],
   "source": [
    "# Combine the data into a single dataset.  \n",
    "animal_data2 = pd.merge(intakes2_data, outcomes2_data, how=\"outer\", on=[\"Animal ID\", \"Animal ID\"], suffixes=('_in', '_out'))\n",
    "animal_data2.head()"
   ]
  },
  {
   "cell_type": "code",
   "execution_count": null,
   "id": "south-chase",
   "metadata": {},
   "outputs": [],
   "source": [
    "animal_data.count()"
   ]
  },
  {
   "cell_type": "code",
   "execution_count": null,
   "id": "previous-client",
   "metadata": {},
   "outputs": [],
   "source": [
    "animal_data.dtypes"
   ]
  },
  {
   "cell_type": "code",
   "execution_count": null,
   "id": "aggregate-conservation",
   "metadata": {},
   "outputs": [],
   "source": [
    "animal_data[\"DateTime_in\"]= pd.to_datetime(animal_data[\"DateTime_in\"])"
   ]
  },
  {
   "cell_type": "code",
   "execution_count": null,
   "id": "capable-philippines",
   "metadata": {},
   "outputs": [],
   "source": [
    "animal_data[\"DateTime_out\"]= pd.to_datetime(animal_data[\"DateTime_out\"])"
   ]
  },
  {
   "cell_type": "code",
   "execution_count": null,
   "id": "contained-object",
   "metadata": {},
   "outputs": [],
   "source": [
    "animal_data[\"shelter_time\"] = animal_data[\"DateTime_out\"] - animal_data[\"DateTime_in\"]"
   ]
  },
  {
   "cell_type": "code",
   "execution_count": null,
   "id": "binding-shower",
   "metadata": {},
   "outputs": [],
   "source": [
    "animal_data.head()"
   ]
  },
  {
   "cell_type": "code",
   "execution_count": null,
   "id": "straight-treat",
   "metadata": {},
   "outputs": [],
   "source": [
    "animal_data[\"Animal Type_in\"].unique()"
   ]
  },
  {
   "cell_type": "code",
   "execution_count": null,
   "id": "charming-falls",
   "metadata": {},
   "outputs": [],
   "source": [
    "animal_data[\"Outcome Type\"].unique()"
   ]
  },
  {
   "cell_type": "code",
   "execution_count": null,
   "id": "threaded-nudist",
   "metadata": {},
   "outputs": [],
   "source": [
    "adopted_animals = animal_data[animal_data[\"Outcome Type\"]==\"Adoption\"]\n",
    "adopted_animals.head()"
   ]
  },
  {
   "cell_type": "code",
   "execution_count": null,
   "id": "average-nerve",
   "metadata": {},
   "outputs": [],
   "source": [
    "type_cat = adopted_animals.loc[adopted_animals[\"Animal Type_in\"] == \"Cat\"]\n",
    "type_dog = adopted_animals.loc[adopted_animals[\"Animal Type_in\"] == \"Dog\"]\n",
    "type_bird = adopted_animals.loc[adopted_animals[\"Animal Type_in\"] == \"Bird\"]\n",
    "type_livestock = adopted_animals.loc[adopted_animals[\"Animal Type_in\"] == \"Livestock\"]\n",
    "type_other = adopted_animals.loc[adopted_animals[\"Animal Type_in\"] == \"Other\"]"
   ]
  },
  {
   "cell_type": "code",
   "execution_count": null,
   "id": "sustainable-semester",
   "metadata": {},
   "outputs": [],
   "source": [
    "sorted(type_cat[\"Breed_in\"].unique())"
   ]
  },
  {
   "cell_type": "code",
   "execution_count": null,
   "id": "jewish-wilson",
   "metadata": {},
   "outputs": [],
   "source": [
    "sorted(type_dog[\"Breed_in\"].unique())"
   ]
  },
  {
   "cell_type": "code",
   "execution_count": null,
   "id": "modular-stocks",
   "metadata": {},
   "outputs": [],
   "source": [
    "sorted(type_bird[\"Breed_in\"].unique())"
   ]
  },
  {
   "cell_type": "code",
   "execution_count": null,
   "id": "fitted-central",
   "metadata": {},
   "outputs": [],
   "source": [
    "sorted(type_livestock[\"Breed_in\"].unique())"
   ]
  },
  {
   "cell_type": "code",
   "execution_count": null,
   "id": "coordinated-dealer",
   "metadata": {},
   "outputs": [],
   "source": [
    "sorted(type_other[\"Breed_in\"].unique())"
   ]
  },
  {
   "cell_type": "code",
   "execution_count": null,
   "id": "published-trail",
   "metadata": {},
   "outputs": [],
   "source": [
    "type_livestock.groupby(\"Breed_in\").nunique()"
   ]
  },
  {
   "cell_type": "code",
   "execution_count": null,
   "id": "alpine-origin",
   "metadata": {},
   "outputs": [],
   "source": [
    "type_cat.groupby(\"Breed_in\").nunique()"
   ]
  },
  {
   "cell_type": "code",
   "execution_count": null,
   "id": "through-cardiff",
   "metadata": {},
   "outputs": [],
   "source": [
    "type_cat.to_csv(\"adopted_cats.csv\", index=False)\n",
    "type_dog.to_csv(\"adopted_dogs.csv\", index=False)\n",
    "type_bird.to_csv(\"adopted_birds.csv\", index=False)\n",
    "type_livestock.to_csv(\"adopted_livestock.csv\", index=False)\n",
    "type_other.to_csv(\"adopted_other.csv\", index=False)"
   ]
  },
  {
   "cell_type": "code",
   "execution_count": null,
   "id": "numerous-journalism",
   "metadata": {},
   "outputs": [],
   "source": []
  }
 ],
 "metadata": {
  "kernelspec": {
   "display_name": "Python 3",
   "language": "python",
   "name": "python3"
  },
  "language_info": {
   "codemirror_mode": {
    "name": "ipython",
    "version": 3
   },
   "file_extension": ".py",
   "mimetype": "text/x-python",
   "name": "python",
   "nbconvert_exporter": "python",
   "pygments_lexer": "ipython3",
   "version": "3.6.12"
  }
 },
 "nbformat": 4,
 "nbformat_minor": 5
}
