{
 "cells": [
  {
   "cell_type": "code",
   "execution_count": null,
   "id": "inappropriate-garlic",
   "metadata": {},
   "outputs": [],
   "source": [
    "import pandas as pd\n",
    "import os\n",
    "import csv"
   ]
  },
  {
   "cell_type": "code",
   "execution_count": null,
   "id": "introductory-physics",
   "metadata": {},
   "outputs": [],
   "source": [
    "# File to Load (Remember to Change These if my path is different)\n",
    "intakes_data_load = \"Austin_Animal_Center_Intakes.csv\"\n",
    "outcomes_data_load = \"Austin_Animal_Center_Outcomes.csv\"\n",
    "\n",
    "intakes_data = pd.read_csv(intakes_data_load)\n",
    "outcomes_data = pd.read_csv(outcomes_data_load)"
   ]
  },
  {
   "cell_type": "code",
   "execution_count": null,
   "id": "brief-arizona",
   "metadata": {},
   "outputs": [],
   "source": [
    "outcomes_data[\"Animal ID\"].astype(str)\n",
    "intakes_data[\"Animal ID\"].astype(str)"
   ]
  },
  {
   "cell_type": "code",
   "execution_count": null,
   "id": "greenhouse-trader",
   "metadata": {},
   "outputs": [],
   "source": [
    "outcomes_data[\"Animal ID\"] = outcomes_data[\"Animal ID\"].map(lambda x: str(x)[1:])\n",
    "intakes_data[\"Animal ID\"] = intakes_data[\"Animal ID\"].map(lambda x: str(x)[1:])"
   ]
  },
  {
   "cell_type": "code",
   "execution_count": null,
   "id": "silent-blake",
   "metadata": {},
   "outputs": [],
   "source": [
    "intakes_data.sort_values(by=['DateTime', \"Animal ID\"], ascending=False)\n",
    "outcomes_data.sort_values(by=['DateTime', \"Animal ID\"], ascending=False)"
   ]
  },
  {
   "cell_type": "code",
   "execution_count": null,
   "id": "indie-aircraft",
   "metadata": {},
   "outputs": [],
   "source": [
    "outcomes_data.rename(columns = {'DateTime':'DateTime_out'}, inplace = True)"
   ]
  },
  {
   "cell_type": "code",
   "execution_count": null,
   "id": "photographic-corporation",
   "metadata": {},
   "outputs": [],
   "source": [
    "# Combine the data into a single dataset.  \n",
    "allanimal_data = pd.merge(intakes_data,outcomes_data[[\"Animal ID\",'DateTime_out', \"Outcome Type\", \"Outcome Subtype\"]],on=\"Animal ID\", how='left')\n",
    "allanimal_data.head()"
   ]
  },
  {
   "cell_type": "code",
   "execution_count": null,
   "id": "successful-native",
   "metadata": {},
   "outputs": [],
   "source": [
    "allanimal_data[\"DateTime\"]= pd.to_datetime(allanimal_data[\"DateTime\"])"
   ]
  },
  {
   "cell_type": "code",
   "execution_count": null,
   "id": "charming-coordinator",
   "metadata": {},
   "outputs": [],
   "source": [
    "allanimal_data[\"DateTime_out\"]= pd.to_datetime(allanimal_data[\"DateTime_out\"])"
   ]
  },
  {
   "cell_type": "code",
   "execution_count": null,
   "id": "owned-donor",
   "metadata": {},
   "outputs": [],
   "source": [
    "allanimal_data[\"shelter_time\"] = allanimal_data[\"DateTime_out\"] - allanimal_data[\"DateTime\"]"
   ]
  },
  {
   "cell_type": "code",
   "execution_count": null,
   "id": "swiss-hawaii",
   "metadata": {},
   "outputs": [],
   "source": [
    "adopted_animals = allanimal_data[allanimal_data[\"Outcome Type\"]==\"Adoption\"]\n",
    "adopted_animals.head()"
   ]
  },
  {
   "cell_type": "code",
   "execution_count": null,
   "id": "lyric-christmas",
   "metadata": {},
   "outputs": [],
   "source": [
    "animal_data = adopted_animals.drop_duplicates([\"Animal ID\"], keep= 'first')"
   ]
  },
  {
   "cell_type": "code",
   "execution_count": null,
   "id": "median-assumption",
   "metadata": {},
   "outputs": [],
   "source": [
    "type_cat = animal_data.loc[animal_data[\"Animal Type\"] == \"Cat\"]\n",
    "type_dog = animal_data.loc[animal_data[\"Animal Type\"] == \"Dog\"]\n",
    "type_bird = animal_data.loc[animal_data[\"Animal Type\"] == \"Bird\"]\n",
    "type_livestock = animal_data.loc[animal_data[\"Animal Type\"] == \"Livestock\"]\n",
    "type_other = animal_data.loc[animal_data[\"Animal Type\"] == \"Other\"]"
   ]
  },
  {
   "cell_type": "code",
   "execution_count": null,
   "id": "naughty-aaron",
   "metadata": {},
   "outputs": [],
   "source": [
    "type_cats = type_cat[type_cat['shelter_time'] > pd.Timedelta(0)]\n",
    "type_dogs = type_dog[type_dog['shelter_time'] > pd.Timedelta(0)]\n",
    "type_birds = type_bird[type_bird['shelter_time'] > pd.Timedelta(0)]\n",
    "type_livestocks = type_livestock[type_livestock['shelter_time'] > pd.Timedelta(0)]\n",
    "type_others = type_other[type_other['shelter_time'] > pd.Timedelta(0)]"
   ]
  },
  {
   "cell_type": "code",
   "execution_count": null,
   "id": "abstract-acting",
   "metadata": {},
   "outputs": [],
   "source": [
    "type_cats.to_csv(\"adopted_cats.csv\", index=False)\n",
    "type_dogs.to_csv(\"adopted_dogs.csv\", index=False)\n",
    "type_birds.to_csv(\"adopted_birds.csv\", index=False)\n",
    "type_livestocks.to_csv(\"adopted_livestock.csv\", index=False)\n",
    "type_others.to_csv(\"adopted_other.csv\", index=False)"
   ]
  },
  {
   "cell_type": "code",
   "execution_count": null,
   "id": "outstanding-secret",
   "metadata": {},
   "outputs": [],
   "source": []
  }
 ],
 "metadata": {
  "kernelspec": {
   "display_name": "Python 3",
   "language": "python",
   "name": "python3"
  },
  "language_info": {
   "codemirror_mode": {
    "name": "ipython",
    "version": 3
   },
   "file_extension": ".py",
   "mimetype": "text/x-python",
   "name": "python",
   "nbconvert_exporter": "python",
   "pygments_lexer": "ipython3",
   "version": "3.6.12"
  }
 },
 "nbformat": 4,
 "nbformat_minor": 5
}
